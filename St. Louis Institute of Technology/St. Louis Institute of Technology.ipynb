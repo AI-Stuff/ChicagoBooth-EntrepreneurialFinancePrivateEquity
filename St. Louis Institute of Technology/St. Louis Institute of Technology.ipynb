{
 "cells": [
  {
   "cell_type": "markdown",
   "metadata": {
    "toc": "true"
   },
   "source": [
    "# Table of Contents\n",
    " <p><div class=\"lev1\"><a href=\"#Import-Python-modules\"><span class=\"toc-item-num\">1 - </span>Import <code>Python</code> modules</a></div><div class=\"lev1\"><a href=\"#Set-CONSTANTS\"><span class=\"toc-item-num\">2 - </span>Set <em>CONSTANTS</em></a></div><div class=\"lev1\"><a href=\"#Create-Valuation-Model\"><span class=\"toc-item-num\">3 - </span>Create Valuation Model</a></div><div class=\"lev1\"><a href=\"#Import-Data\"><span class=\"toc-item-num\">4 - </span>Import Data</a></div><div class=\"lev1\"><a href=\"#Set-Outputs-to-Display\"><span class=\"toc-item-num\">5 - </span>Set Outputs to Display</a></div><div class=\"lev1\"><a href=\"#Run-Valuation-Model\"><span class=\"toc-item-num\">6 - </span>Run Valuation Model</a></div>"
   ]
  },
  {
   "cell_type": "markdown",
   "metadata": {},
   "source": [
    "# Import `Python` modules"
   ]
  },
  {
   "cell_type": "code",
   "execution_count": null,
   "metadata": {
    "collapsed": false
   },
   "outputs": [],
   "source": [
    "from __future__ import print_function\n",
    "import numpy\n",
    "import pandas\n",
    "\n",
    "from CorpFin.Valuation import ValuationModel\n",
    "from HelpyFuncs.Print import print_live_in_ipython"
   ]
  },
  {
   "cell_type": "code",
   "execution_count": 2,
   "metadata": {
    "collapsed": false
   },
   "outputs": [],
   "source": [
    "print_live_in_ipython()"
   ]
  },
  {
   "cell_type": "markdown",
   "metadata": {},
   "source": [
    "# Set _CONSTANTS_"
   ]
  },
  {
   "cell_type": "code",
   "execution_count": 3,
   "metadata": {
    "collapsed": false
   },
   "outputs": [],
   "source": [
    "# Year 0\n",
    "YEAR_0 = 1987\n",
    "\n",
    "# Number of Pro-Forma Years EXCLUDING Year 0\n",
    "NB_PRO_FORMA_YEARS = 8\n",
    "\n",
    "# U.S. Corporate Tax rate\n",
    "US_CORP_TAX_RATE = .35\n",
    "\n",
    "# CAPM Parameters\n",
    "RISK_FREE_RATE = .07\n",
    "PUBLIC_MARKET_PREMIUM = .08\n",
    "SCHOOL_ASSET_BETA = 1.\n",
    "\n",
    "# Long-Term Growth Rate\n",
    "LONG_TERM_GROWTH_RATE = .04"
   ]
  },
  {
   "cell_type": "markdown",
   "metadata": {},
   "source": [
    "# Create Valuation Model"
   ]
  },
  {
   "cell_type": "code",
   "execution_count": null,
   "metadata": {
    "collapsed": false
   },
   "outputs": [
    {
     "name": "stdout",
     "output_type": "stream",
     "text": [
      "Compiling:\n",
      "    PublicMarketPremium... done after 0:00:00 (0:00:00 so far)\n",
      "    ProFormaPeriodAssetDiscountRate... done after 0:00:00 (0:00:00 so far)\n",
      "    ProFormaPeriodDiscountRate... done after 0:00:00 (0:00:00 so far)\n",
      "    StabilizedDiscountRate... done after 0:00:00 (0:00:00 so far)\n",
      "    Revenue... done after 0:00:00 (0:00:00 so far)\n",
      "    RevenueChange... done after 0:00:00 (0:00:00 so far)\n",
      "    RevenueGrowth... done after 0:00:00 (0:00:01 so far)\n",
      "    OpEx... done after 0:00:00 (0:00:01 so far)\n",
      "    OpEx_over_Revenue... done after 0:00:00 (0:00:02 so far)\n",
      "    OpExGrowth... done after 0:00:00 (0:00:02 so far)\n",
      "    EBIT... done after 0:00:00 (0:00:03 so far)\n",
      "    EBITMargin... done after 0:00:00 (0:00:03 so far)\n",
      "    EBITGrowth... done after 0:00:00 (0:00:04 so far)\n",
      "    EBIAT... done after 0:00:00 (0:00:05 so far)\n",
      "    FA... done after 0:00:00 (0:00:06 so far)\n",
      "    FA_over_Revenue... done after 0:00:00 (0:00:07 so far)\n",
      "    FAGrowth... done after 0:00:01 (0:00:08 so far)\n",
      "    Depreciation... done after 0:00:00 (0:00:08 so far)\n",
      "    Depreciation_over_prevFA... done after 0:00:01 (0:00:10 so far)\n",
      "    CapEx... done after 0:00:05 (0:00:15 so far)\n",
      "    CapEx_over_Revenue... done after 0:00:05 (0:00:21 so far)\n",
      "    CapEx_over_RevenueChange... done after 0:00:05 (0:00:26 so far)\n",
      "    CapExGrowth... done after 0:00:11 (0:00:37 so far)\n",
      "    NWC... done after 0:00:00 (0:00:38 so far)\n",
      "    NWC_over_Revenue... done after 0:00:00 (0:00:39 so far)\n",
      "    NWCGrowth... done after 0:00:02 (0:00:41 so far)\n",
      "    NWCChange... done after 0:00:01 (0:00:42 so far)\n",
      "    NWCChange_over_Revenue... done after 0:00:01 (0:00:43 so far)\n",
      "    NWCChange_over_RevenueChange... done after 0:00:01 (0:00:45 so far)\n",
      "    FCF... done after 0:00:09 (0:00:54 so far)\n",
      "    TV... done after 0:00:02 (0:00:56 so far)\n",
      "    TV_RevenueMultiple... done after 0:00:04 (0:01:00 so far)\n",
      "    TV_EBITMultiple... done after 0:00:02 (0:01:03 so far)\n",
      "    Unlev_Val... "
     ]
    }
   ],
   "source": [
    "model = \\\n",
    "    ValuationModel(\n",
    "        venture_name='StLouisTech',\n",
    "        year_0=YEAR_0,\n",
    "        nb_pro_forma_years_excl_0=NB_PRO_FORMA_YEARS)"
   ]
  },
  {
   "cell_type": "markdown",
   "metadata": {},
   "source": [
    "# Import Data"
   ]
  },
  {
   "cell_type": "code",
   "execution_count": null,
   "metadata": {
    "collapsed": false
   },
   "outputs": [],
   "source": [
    "data_df = \\\n",
    "    pandas.read_csv(\n",
    "        'data/St. Louis Institute of Technology.csv',\n",
    "        index_col='Year')\n",
    "    \n",
    "data_df"
   ]
  },
  {
   "cell_type": "markdown",
   "metadata": {},
   "source": [
    "# Set Outputs to Display"
   ]
  },
  {
   "cell_type": "code",
   "execution_count": null,
   "metadata": {
    "collapsed": true
   },
   "outputs": [],
   "source": [
    "outputs = \\\n",
    "    ['RiskFreeRate', 'PublicMarketPremium',\n",
    "     ' ',\n",
    "     'ProFormaPeriodBeta', 'ProFormaPeriodDiscountRate',\n",
    "     '  ',\n",
    "     'StabilizedBeta', 'StabilizedDiscountRate',\n",
    "     '   ',\n",
    "     'REVENUE calcs:', 'Revenue', 'RevenueGrowth',\n",
    "     '    ',\n",
    "     'EBIT calcs:', 'EBIT', 'EBITMargin', 'EBITGrowth',\n",
    "     '     ',\n",
    "     'EBIAT calcs:', 'CorpTaxRate', 'EBIAT',\n",
    "     '      ',\n",
    "     'Depreciation',\n",
    "     '       ',\n",
    "     'NET WORKING CAPITAL calcs:', 'NWC', 'NWC_over_Revenue', 'NWCChange',\n",
    "     '        ',\n",
    "     'FCF & TV calcs:', 'FCF', 'LongTermGrowthRate', 'TV', 'TV_RevenueMultiple', 'TV_EBITMultiple',\n",
    "     '         ',\n",
    "     'VALUATION calcs:', 'Val_of_FCF', 'Val_of_TV', 'Val']"
   ]
  },
  {
   "cell_type": "markdown",
   "metadata": {},
   "source": [
    "# Run Valuation Model"
   ]
  },
  {
   "cell_type": "code",
   "execution_count": null,
   "metadata": {
    "collapsed": false
   },
   "outputs": [],
   "source": [
    "results = \\\n",
    "    model(\n",
    "        outputs=outputs,\n",
    "        Revenue=[3955] + data_df.Revenue.tolist(),\n",
    "        EBIT=[446] + data_df.EBIT.tolist(),\n",
    "        CorpTaxRate=US_CORP_TAX_RATE,\n",
    "        Depreciation=[180] + data_df.Depreciation.tolist(),\n",
    "        NWCChange=[100] + data_df.NetWorkingCapitalChange.tolist(),\n",
    "        RiskFreeRate=RISK_FREE_RATE,\n",
    "        PublicMarketPremium=PUBLIC_MARKET_PREMIUM,\n",
    "        ProFormaPeriodBeta=SCHOOL_ASSET_BETA,\n",
    "        StabilizedBeta=SCHOOL_ASSET_BETA,\n",
    "        LongTermGrowthRate=LONG_TERM_GROWTH_RATE)\n",
    "    \n",
    "pandas.options.display.float_format = '{:,.2f}'.format\n",
    "results['data_frame'].T"
   ]
  }
 ],
 "metadata": {
  "kernelspec": {
   "display_name": "Python 2",
   "language": "python",
   "name": "python2"
  },
  "language_info": {
   "codemirror_mode": {
    "name": "ipython",
    "version": 2
   },
   "file_extension": ".py",
   "mimetype": "text/x-python",
   "name": "python",
   "nbconvert_exporter": "python",
   "pygments_lexer": "ipython2",
   "version": "2.7.11"
  },
  "latex_envs": {
   "bibliofile": "biblio.bib",
   "cite_by": "apalike",
   "current_citInitial": 1,
   "eqLabelWithNumbers": true,
   "eqNumInitial": 0
  },
  "toc": {
   "toc_cell": true,
   "toc_number_sections": true,
   "toc_section_display": "block",
   "toc_threshold": 4,
   "toc_window_display": true
  },
  "toc_position": {
   "left": "1330.21px",
   "right": "20px",
   "top": "121.997px",
   "width": "187px"
  }
 },
 "nbformat": 4,
 "nbformat_minor": 0
}
