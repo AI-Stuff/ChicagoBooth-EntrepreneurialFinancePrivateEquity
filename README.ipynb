{
 "cells": [
  {
   "cell_type": "markdown",
   "metadata": {
    "toc": "true"
   },
   "source": [
    "# Table of Contents\n",
    " <p><div class=\"lev1\"><a href=\"#Introduction\"><span class=\"toc-item-num\">1 - </span>Introduction</a></div><div class=\"lev1\"><a href=\"#Corporate-Finance-concept-refreshers\"><span class=\"toc-item-num\">2 - </span>Corporate Finance concept refreshers</a></div>"
   ]
  },
  {
   "cell_type": "markdown",
   "metadata": {},
   "source": [
    "# Introduction\n",
    "\n",
    "This repo contains valuation case studies in the renown ___Entrepreneurial Finance & Private Equity___ _(\"__EFPE__\")_ cousrse at the University of Chicago Booth School of Business."
   ]
  },
  {
   "cell_type": "markdown",
   "metadata": {},
   "source": [
    "# Corporate Finance concept refreshers\n",
    "\n",
    "Below are several basic Corporate Finance concepts that are useful throughout this highly challenging course:\n",
    "\n",
    "- __CAPM formula__: $r_i = r_f + \\beta \\dot (r_m - r_f)$\n",
    "\n",
    "- __Free Cash Flow__ calculation: $\\text{FCF} = (1 - \\text{tax_rate}) \\cdot \\text{EBIT} + \\text{Depreciation} - \\text{Net Investments}$\n",
    "\n",
    "- \n"
   ]
  }
 ],
 "metadata": {
  "kernelspec": {
   "display_name": "Python 2",
   "language": "python",
   "name": "python2"
  },
  "language_info": {
   "codemirror_mode": {
    "name": "ipython",
    "version": 2
   },
   "file_extension": ".py",
   "mimetype": "text/x-python",
   "name": "python",
   "nbconvert_exporter": "python",
   "pygments_lexer": "ipython2",
   "version": "2.7.11"
  },
  "latex_envs": {
   "bibliofile": "biblio.bib",
   "cite_by": "apalike",
   "current_citInitial": 1,
   "eqLabelWithNumbers": true,
   "eqNumInitial": 0
  },
  "toc": {
   "toc_cell": true,
   "toc_number_sections": true,
   "toc_section_display": "none",
   "toc_threshold": 4,
   "toc_window_display": true
  },
  "toc_position": {
   "left": "1329.2px",
   "right": "20px",
   "top": "121.984px",
   "width": "187px"
  }
 },
 "nbformat": 4,
 "nbformat_minor": 0
}
