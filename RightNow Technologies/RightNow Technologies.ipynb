{
 "cells": [
  {
   "cell_type": "markdown",
   "metadata": {
    "toc": "true"
   },
   "source": [
    "# Table of Contents\n",
    " <p><div class=\"lev1\"><a href=\"#Import-Python-modules\"><span class=\"toc-item-num\">1 - </span>Import <code>Python</code> modules</a></div><div class=\"lev1\"><a href=\"#Set-CONSTANTS\"><span class=\"toc-item-num\">2 - </span>Set <em>CONSTANTS</em></a></div><div class=\"lev1\"><a href=\"#List-Exogenous-SymPy-Variables:\"><span class=\"toc-item-num\">3 - </span>List Exogenous <code>SymPy</code> Variables:</a></div><div class=\"lev1\"><a href=\"#Build-Struction-of-Model-for-Valuation-(conditional-upon-survival)\"><span class=\"toc-item-num\">4 - </span>Build Struction of Model for Valuation <em>(conditional upon survival)</em></a></div><div class=\"lev1\"><a href=\"#Calculate-Actual-Values\"><span class=\"toc-item-num\">5 - </span>Calculate Actual Values</a></div>"
   ]
  },
  {
   "cell_type": "markdown",
   "metadata": {},
   "source": [
    "# Import `Python` modules"
   ]
  },
  {
   "cell_type": "code",
   "execution_count": 1,
   "metadata": {
    "collapsed": false
   },
   "outputs": [
    {
     "name": "stderr",
     "output_type": "stream",
     "text": [
      "Using gpu device 0: GeForce GT 750M\n"
     ]
    }
   ],
   "source": [
    "from __future__ import print_function\n",
    "import numpy\n",
    "import pandas\n",
    "from pprint import pprint\n",
    "import sympy\n",
    "\n",
    "from FinSymPy.Valuation import \\\n",
    "    terminal_value as tv, \\\n",
    "    present_value as pv, \\\n",
    "    net_present_value as npv\n",
    "    \n",
    "from HelpyFuncs.SymPy import sympy_eval_by_theano"
   ]
  },
  {
   "cell_type": "markdown",
   "metadata": {},
   "source": [
    "# Set _CONSTANTS_"
   ]
  },
  {
   "cell_type": "code",
   "execution_count": 2,
   "metadata": {
    "collapsed": false
   },
   "outputs": [],
   "source": [
    "# Revenue Y-o-Y Growth Rates\n",
    "REV_GROWTH_RATES = [numpy.nan, numpy.nan, .5, .4, .3, .2, .2, .2, .2, .2, .2, .2, .05]\n",
    "\n",
    "# EBIAT / Revenue Ratios\n",
    "EBIAT_OVER_REVENUE_RATIOS = [numpy.nan, 0., .04, .05, .06, .06, .06, .06, .06, .06, .06, .06, .06]\n",
    "\n",
    "# Further Investments & Working Capital Increases / Revenue Ratio\n",
    "FIXED_ASSETS_AND_WORKING_CAP_OVER_REVENUE_RATIO = -.5\n",
    "\n",
    "# DISCOUNT RATE\n",
    "DISCOUNT_RATE = .174\n",
    "\n",
    "# Long-Term Growth Rate\n",
    "LONG_TERM_GROWTH_RATE = .04\n",
    "\n",
    "# Year 0\n",
    "YEAR_0 = 2003\n",
    "\n",
    "# Number of Pro-Forma Years EXCLUDING Year 0\n",
    "NB_PRO_FORMA_YEARS = 12\n",
    "FINAL_PRO_FORMA_YEAR = YEAR_0 + NB_PRO_FORMA_YEARS"
   ]
  },
  {
   "cell_type": "markdown",
   "metadata": {},
   "source": [
    "# List Exogenous `SymPy` Variables:"
   ]
  },
  {
   "cell_type": "code",
   "execution_count": 3,
   "metadata": {
    "collapsed": false
   },
   "outputs": [
    {
     "name": "stdout",
     "output_type": "stream",
     "text": [
      "Given Revenue variables:\n",
      " (Rev_2003, Rev_2004)\n",
      "\n",
      "Assumed Revenue Y-o-Y Growth Rate variables:\n",
      " (nan, nan, Rev_g_2005, Rev_g_2006, Rev_g_2007, Rev_g_2008, Rev_g_2009, Rev_g_2010, Rev_g_2011, Rev_g_2012, Rev_g_2013, Rev_g_2014, Rev_g_2015)\n",
      "\n",
      "Assumed EBIAT / Rev ratio variables:\n",
      " (nan, EBIAT_over_Rev_2004, EBIAT_over_Rev_2005, EBIAT_over_Rev_2006, EBIAT_over_Rev_2007, EBIAT_over_Rev_2008, EBIAT_over_Rev_2009, EBIAT_over_Rev_2010, EBIAT_over_Rev_2011, EBIAT_over_Rev_2012, EBIAT_over_Rev_2013, EBIAT_over_Rev_2014, EBIAT_over_Rev_2015)\n",
      "\n",
      "(Fixed Assets + Working Capital) / Revenue ratio variable:\n",
      " FAnWC_over_Rev\n",
      "\n",
      "Discount Rate variable:\n",
      " discount_rate\n",
      "\n",
      "Long-Term Growth Rate variable:\n",
      " long_term_growth_rate\n"
     ]
    }
   ],
   "source": [
    "# Revenue\n",
    "Rev = sympy.symbols('Rev_%d:%d' % (YEAR_0, YEAR_0 + 2))\n",
    "print('Given Revenue variables:\\n', Rev)\n",
    "\n",
    "Rev_YoY_growth_rates = \\\n",
    "    (sympy.nan, sympy.nan) + \\\n",
    "    sympy.symbols('Rev_g_%d:%d' % (YEAR_0 + 2, FINAL_PRO_FORMA_YEAR + 1))\n",
    "print('\\nAssumed Revenue Y-o-Y Growth Rate variables:\\n', Rev_YoY_growth_rates)\n",
    "\n",
    "\n",
    "# EBIAT\n",
    "EBIAT_over_Rev_ratios = \\\n",
    "    (sympy.nan,) + \\\n",
    "    sympy.symbols('EBIAT_over_Rev_%d:%d' % (YEAR_0 + 1, FINAL_PRO_FORMA_YEAR + 1))\n",
    "print('\\nAssumed EBIAT / Rev ratio variables:\\n', EBIAT_over_Rev_ratios)\n",
    "\n",
    "\n",
    "# Fixed Assets & Working Capital\n",
    "FAnWC_over_Rev_ratio = sympy.Symbol('FAnWC_over_Rev')\n",
    "print('\\n(Fixed Assets + Working Capital) / Revenue ratio variable:\\n', FAnWC_over_Rev_ratio)\n",
    "\n",
    "\n",
    "# Discount Rate\n",
    "discount_rate = sympy.Symbol('discount_rate')\n",
    "print('\\nDiscount Rate variable:\\n', discount_rate)\n",
    "\n",
    "\n",
    "# Long-Term Growth Rate\n",
    "long_term_growth_rate = sympy.Symbol('long_term_growth_rate')\n",
    "print('\\nLong-Term Growth Rate variable:\\n', long_term_growth_rate)\n",
    "\n",
    "\n",
    "# assemble all exogenous variables into a collection\n",
    "exo_vars = \\\n",
    "    Rev + Rev_YoY_growth_rates[2:] + \\\n",
    "    EBIAT_over_Rev_ratios[1:] + \\\n",
    "    (FAnWC_over_Rev_ratio,\n",
    "     discount_rate,\n",
    "     long_term_growth_rate)"
   ]
  },
  {
   "cell_type": "markdown",
   "metadata": {},
   "source": [
    "# Build Struction of Model for Valuation _(conditional upon survival)_"
   ]
  },
  {
   "cell_type": "markdown",
   "metadata": {},
   "source": [
    "Revenue:"
   ]
  },
  {
   "cell_type": "code",
   "execution_count": 4,
   "metadata": {
    "collapsed": false
   },
   "outputs": [],
   "source": [
    "for g in Rev_YoY_growth_rates[2:]:\n",
    "    Rev += ((1 + g) * Rev[-1],)"
   ]
  },
  {
   "cell_type": "markdown",
   "metadata": {},
   "source": [
    "EBIAT:"
   ]
  },
  {
   "cell_type": "code",
   "execution_count": 5,
   "metadata": {
    "collapsed": false
   },
   "outputs": [],
   "source": [
    "EBIAT = map(\n",
    "    lambda x: reduce(lambda u, v: u * v, x),\n",
    "    zip(EBIAT_over_Rev_ratios, Rev))"
   ]
  },
  {
   "cell_type": "markdown",
   "metadata": {},
   "source": [
    "Fixed Assets & Working Capital balance and its changes:"
   ]
  },
  {
   "cell_type": "code",
   "execution_count": 6,
   "metadata": {
    "collapsed": false
   },
   "outputs": [],
   "source": [
    "FixedAssets_and_WorkingCapital = \\\n",
    "    [FAnWC_over_Rev_ratio * rev for rev in Rev]\n",
    "    \n",
    "FixedAssets_and_WorkingCapital_changes = \\\n",
    "    [sympy.nan] + \\\n",
    "    [FixedAssets_and_WorkingCapital[i + 1] - FixedAssets_and_WorkingCapital[i]\n",
    "     for i in range(NB_PRO_FORMA_YEARS)]"
   ]
  },
  {
   "cell_type": "markdown",
   "metadata": {},
   "source": [
    "Free Cash Flows before Terminal Value:"
   ]
  },
  {
   "cell_type": "code",
   "execution_count": 7,
   "metadata": {
    "collapsed": false
   },
   "outputs": [],
   "source": [
    "FCF_before_TV = \\\n",
    "    map(lambda x: x[0] - x[1],\n",
    "        zip(EBIAT, FixedAssets_and_WorkingCapital_changes))"
   ]
  },
  {
   "cell_type": "markdown",
   "metadata": {},
   "source": [
    "Terminal Value:"
   ]
  },
  {
   "cell_type": "code",
   "execution_count": 8,
   "metadata": {
    "collapsed": true
   },
   "outputs": [],
   "source": [
    "TV = tv(FCF_before_TV[-1], discount_rate, long_term_growth_rate)"
   ]
  },
  {
   "cell_type": "markdown",
   "metadata": {},
   "source": [
    "Valuation:"
   ]
  },
  {
   "cell_type": "code",
   "execution_count": 9,
   "metadata": {
    "collapsed": false
   },
   "outputs": [],
   "source": [
    "val_of_FCF_before_TV = npv([0] + FCF_before_TV[1:], discount_rate)\n",
    "\n",
    "val_of_TV = pv(TV, discount_rate, NB_PRO_FORMA_YEARS)\n",
    "\n",
    "val = val_of_FCF_before_TV + val_of_TV"
   ]
  },
  {
   "cell_type": "markdown",
   "metadata": {},
   "source": [
    "# Calculate Actual Values"
   ]
  },
  {
   "cell_type": "markdown",
   "metadata": {},
   "source": [
    "Import data:"
   ]
  },
  {
   "cell_type": "code",
   "execution_count": 10,
   "metadata": {
    "collapsed": false
   },
   "outputs": [
    {
     "data": {
      "text/html": [
       "<div>\n",
       "<table border=\"1\" class=\"dataframe\">\n",
       "  <thead>\n",
       "    <tr style=\"text-align: right;\">\n",
       "      <th></th>\n",
       "      <th>Revenue</th>\n",
       "    </tr>\n",
       "    <tr>\n",
       "      <th>Year</th>\n",
       "      <th></th>\n",
       "    </tr>\n",
       "  </thead>\n",
       "  <tbody>\n",
       "    <tr>\n",
       "      <th>2003</th>\n",
       "      <td>29300000</td>\n",
       "    </tr>\n",
       "    <tr>\n",
       "      <th>2004</th>\n",
       "      <td>60000000</td>\n",
       "    </tr>\n",
       "  </tbody>\n",
       "</table>\n",
       "</div>"
      ],
      "text/plain": [
       "       Revenue\n",
       "Year          \n",
       "2003  29300000\n",
       "2004  60000000"
      ]
     },
     "execution_count": 10,
     "metadata": {},
     "output_type": "execute_result"
    }
   ],
   "source": [
    "data_df = \\\n",
    "    pandas.read_csv(\n",
    "        'data/RightNow Technologies.csv',\n",
    "        index_col='Year')\n",
    "    \n",
    "data_df"
   ]
  },
  {
   "cell_type": "markdown",
   "metadata": {},
   "source": [
    "Exogenous Variables' values:"
   ]
  },
  {
   "cell_type": "code",
   "execution_count": 11,
   "metadata": {
    "collapsed": false
   },
   "outputs": [
    {
     "name": "stdout",
     "output_type": "stream",
     "text": [
      "{'EBIAT_over_Rev_2004': 0.0,\n",
      " 'EBIAT_over_Rev_2005': 0.04,\n",
      " 'EBIAT_over_Rev_2006': 0.05,\n",
      " 'EBIAT_over_Rev_2007': 0.06,\n",
      " 'EBIAT_over_Rev_2008': 0.06,\n",
      " 'EBIAT_over_Rev_2009': 0.06,\n",
      " 'EBIAT_over_Rev_2010': 0.06,\n",
      " 'EBIAT_over_Rev_2011': 0.06,\n",
      " 'EBIAT_over_Rev_2012': 0.06,\n",
      " 'EBIAT_over_Rev_2013': 0.06,\n",
      " 'EBIAT_over_Rev_2014': 0.06,\n",
      " 'EBIAT_over_Rev_2015': 0.06,\n",
      " 'FAnWC_over_Rev': -0.5,\n",
      " 'Rev_2003': 29.299999,\n",
      " 'Rev_2004': 60.0,\n",
      " 'Rev_g_2005': 0.5,\n",
      " 'Rev_g_2006': 0.4,\n",
      " 'Rev_g_2007': 0.3,\n",
      " 'Rev_g_2008': 0.2,\n",
      " 'Rev_g_2009': 0.2,\n",
      " 'Rev_g_2010': 0.2,\n",
      " 'Rev_g_2011': 0.2,\n",
      " 'Rev_g_2012': 0.2,\n",
      " 'Rev_g_2013': 0.2,\n",
      " 'Rev_g_2014': 0.2,\n",
      " 'Rev_g_2015': 0.05,\n",
      " 'discount_rate': 0.174,\n",
      " 'long_term_growth_rate': 0.04}\n"
     ]
    }
   ],
   "source": [
    "exo_vars_values_dict = \\\n",
    "    dict(\n",
    "        FAnWC_over_Rev=FIXED_ASSETS_AND_WORKING_CAP_OVER_REVENUE_RATIO,\n",
    "        discount_rate=DISCOUNT_RATE,\n",
    "        long_term_growth_rate=LONG_TERM_GROWTH_RATE)\n",
    "    \n",
    "exo_vars_values_dict.update(\n",
    "    dict(\n",
    "        zip([i.name for i in Rev[:2]],\n",
    "            (data_df.Revenue.astype(numpy.float32) / 1e6).tolist()) +\n",
    "        zip([i.name for i in Rev_YoY_growth_rates[2:]],\n",
    "            REV_GROWTH_RATES[2:]) +\n",
    "        zip([i.name for i in EBIAT_over_Rev_ratios[1:]],\n",
    "            EBIAT_OVER_REVENUE_RATIOS[1:])))\n",
    "\n",
    "pprint(exo_vars_values_dict)"
   ]
  },
  {
   "cell_type": "markdown",
   "metadata": {},
   "source": [
    "Function to calculate values from `SymPy` expression:"
   ]
  },
  {
   "cell_type": "code",
   "execution_count": 12,
   "metadata": {
    "collapsed": false
   },
   "outputs": [],
   "source": [
    "def calc(x):\n",
    "    if isinstance(x, (list, tuple)):\n",
    "        return [float(calc(i)) for i in x]\n",
    "    else:\n",
    "        return float(sympy_eval_by_theano(x, symbols=exo_vars, **exo_vars_values_dict))"
   ]
  },
  {
   "cell_type": "markdown",
   "metadata": {
    "collapsed": false
   },
   "source": [
    "Valuation Calculations:"
   ]
  },
  {
   "cell_type": "code",
   "execution_count": 13,
   "metadata": {
    "collapsed": false
   },
   "outputs": [
    {
     "name": "stdout",
     "output_type": "stream",
     "text": [
      "VALUATION CONDITIONAL UPON SURVIVAL\n",
      "___________________________________\n",
      "\n",
      "(Fixed Assets + Working Capital) / Revenue =   -50%\n",
      "\n",
      "Discount Rate =   17.4%\n",
      "\n",
      "Long-Term Growth Rate =   4%\n",
      "\n",
      "Valuation of FCF before TV =   $158.77 MM\n",
      "Valuation of TV =   $58.48 MM\n",
      "\n",
      "VALUATION | survival =   $217.25 MM\n",
      "\n",
      "Detailed Cash Flow Calcs:\n"
     ]
    },
    {
     "data": {
      "text/html": [
       "<div>\n",
       "<table border=\"1\" class=\"dataframe\">\n",
       "  <thead>\n",
       "    <tr style=\"text-align: right;\">\n",
       "      <th></th>\n",
       "      <th>Year 0</th>\n",
       "      <th>2004</th>\n",
       "      <th>2005</th>\n",
       "      <th>2006</th>\n",
       "      <th>2007</th>\n",
       "      <th>2008</th>\n",
       "      <th>2009</th>\n",
       "      <th>2010</th>\n",
       "      <th>2011</th>\n",
       "      <th>2012</th>\n",
       "      <th>2013</th>\n",
       "      <th>2014</th>\n",
       "      <th>2015</th>\n",
       "    </tr>\n",
       "  </thead>\n",
       "  <tbody>\n",
       "    <tr>\n",
       "      <th>Revenue Y-o-Y Growth Rate</th>\n",
       "      <td>nan</td>\n",
       "      <td>nan</td>\n",
       "      <td>0.50</td>\n",
       "      <td>0.40</td>\n",
       "      <td>0.30</td>\n",
       "      <td>0.20</td>\n",
       "      <td>0.20</td>\n",
       "      <td>0.20</td>\n",
       "      <td>0.20</td>\n",
       "      <td>0.20</td>\n",
       "      <td>0.20</td>\n",
       "      <td>0.20</td>\n",
       "      <td>0.05</td>\n",
       "    </tr>\n",
       "    <tr>\n",
       "      <th>Revenue</th>\n",
       "      <td>29.30</td>\n",
       "      <td>60.00</td>\n",
       "      <td>90.00</td>\n",
       "      <td>126.00</td>\n",
       "      <td>163.80</td>\n",
       "      <td>196.56</td>\n",
       "      <td>235.87</td>\n",
       "      <td>283.05</td>\n",
       "      <td>339.66</td>\n",
       "      <td>407.59</td>\n",
       "      <td>489.10</td>\n",
       "      <td>586.93</td>\n",
       "      <td>616.27</td>\n",
       "    </tr>\n",
       "    <tr>\n",
       "      <th>EBIAT / Revenue</th>\n",
       "      <td>nan</td>\n",
       "      <td>0.00</td>\n",
       "      <td>0.04</td>\n",
       "      <td>0.05</td>\n",
       "      <td>0.06</td>\n",
       "      <td>0.06</td>\n",
       "      <td>0.06</td>\n",
       "      <td>0.06</td>\n",
       "      <td>0.06</td>\n",
       "      <td>0.06</td>\n",
       "      <td>0.06</td>\n",
       "      <td>0.06</td>\n",
       "      <td>0.06</td>\n",
       "    </tr>\n",
       "    <tr>\n",
       "      <th>EBIAT</th>\n",
       "      <td>nan</td>\n",
       "      <td>0.00</td>\n",
       "      <td>3.60</td>\n",
       "      <td>6.30</td>\n",
       "      <td>9.83</td>\n",
       "      <td>11.79</td>\n",
       "      <td>14.15</td>\n",
       "      <td>16.98</td>\n",
       "      <td>20.38</td>\n",
       "      <td>24.46</td>\n",
       "      <td>29.35</td>\n",
       "      <td>35.22</td>\n",
       "      <td>36.98</td>\n",
       "    </tr>\n",
       "    <tr>\n",
       "      <th>Fixed Assets &amp; Wkg. Cap.</th>\n",
       "      <td>-14.65</td>\n",
       "      <td>-30.00</td>\n",
       "      <td>-45.00</td>\n",
       "      <td>-63.00</td>\n",
       "      <td>-81.90</td>\n",
       "      <td>-98.28</td>\n",
       "      <td>-117.94</td>\n",
       "      <td>-141.52</td>\n",
       "      <td>-169.83</td>\n",
       "      <td>-203.79</td>\n",
       "      <td>-244.55</td>\n",
       "      <td>-293.46</td>\n",
       "      <td>-308.14</td>\n",
       "    </tr>\n",
       "    <tr>\n",
       "      <th>Fixed Assets &amp; Wkg. Cap. chg.</th>\n",
       "      <td>nan</td>\n",
       "      <td>-15.35</td>\n",
       "      <td>-15.00</td>\n",
       "      <td>-18.00</td>\n",
       "      <td>-18.90</td>\n",
       "      <td>-16.38</td>\n",
       "      <td>-19.66</td>\n",
       "      <td>-23.59</td>\n",
       "      <td>-28.30</td>\n",
       "      <td>-33.97</td>\n",
       "      <td>-40.76</td>\n",
       "      <td>-48.91</td>\n",
       "      <td>-14.67</td>\n",
       "    </tr>\n",
       "    <tr>\n",
       "      <th>FCF before Terminal Value</th>\n",
       "      <td>nan</td>\n",
       "      <td>15.35</td>\n",
       "      <td>18.60</td>\n",
       "      <td>24.30</td>\n",
       "      <td>28.73</td>\n",
       "      <td>28.17</td>\n",
       "      <td>33.81</td>\n",
       "      <td>40.57</td>\n",
       "      <td>48.68</td>\n",
       "      <td>58.42</td>\n",
       "      <td>70.10</td>\n",
       "      <td>84.13</td>\n",
       "      <td>51.65</td>\n",
       "    </tr>\n",
       "    <tr>\n",
       "      <th>Terminal Value</th>\n",
       "      <td>nan</td>\n",
       "      <td>nan</td>\n",
       "      <td>nan</td>\n",
       "      <td>nan</td>\n",
       "      <td>nan</td>\n",
       "      <td>nan</td>\n",
       "      <td>nan</td>\n",
       "      <td>nan</td>\n",
       "      <td>nan</td>\n",
       "      <td>nan</td>\n",
       "      <td>nan</td>\n",
       "      <td>nan</td>\n",
       "      <td>400.86</td>\n",
       "    </tr>\n",
       "  </tbody>\n",
       "</table>\n",
       "</div>"
      ],
      "text/plain": [
       "                               Year 0   2004   2005   2006   2007   2008  \\\n",
       "Revenue Y-o-Y Growth Rate         nan    nan   0.50   0.40   0.30   0.20   \n",
       "Revenue                         29.30  60.00  90.00 126.00 163.80 196.56   \n",
       "EBIAT / Revenue                   nan   0.00   0.04   0.05   0.06   0.06   \n",
       "EBIAT                             nan   0.00   3.60   6.30   9.83  11.79   \n",
       "Fixed Assets & Wkg. Cap.       -14.65 -30.00 -45.00 -63.00 -81.90 -98.28   \n",
       "Fixed Assets & Wkg. Cap. chg.     nan -15.35 -15.00 -18.00 -18.90 -16.38   \n",
       "FCF before Terminal Value         nan  15.35  18.60  24.30  28.73  28.17   \n",
       "Terminal Value                    nan    nan    nan    nan    nan    nan   \n",
       "\n",
       "                                 2009    2010    2011    2012    2013    2014  \\\n",
       "Revenue Y-o-Y Growth Rate        0.20    0.20    0.20    0.20    0.20    0.20   \n",
       "Revenue                        235.87  283.05  339.66  407.59  489.10  586.93   \n",
       "EBIAT / Revenue                  0.06    0.06    0.06    0.06    0.06    0.06   \n",
       "EBIAT                           14.15   16.98   20.38   24.46   29.35   35.22   \n",
       "Fixed Assets & Wkg. Cap.      -117.94 -141.52 -169.83 -203.79 -244.55 -293.46   \n",
       "Fixed Assets & Wkg. Cap. chg.  -19.66  -23.59  -28.30  -33.97  -40.76  -48.91   \n",
       "FCF before Terminal Value       33.81   40.57   48.68   58.42   70.10   84.13   \n",
       "Terminal Value                    nan     nan     nan     nan     nan     nan   \n",
       "\n",
       "                                 2015  \n",
       "Revenue Y-o-Y Growth Rate        0.05  \n",
       "Revenue                        616.27  \n",
       "EBIAT / Revenue                  0.06  \n",
       "EBIAT                           36.98  \n",
       "Fixed Assets & Wkg. Cap.      -308.14  \n",
       "Fixed Assets & Wkg. Cap. chg.  -14.67  \n",
       "FCF before Terminal Value       51.65  \n",
       "Terminal Value                 400.86  "
      ]
     },
     "execution_count": 13,
     "metadata": {},
     "output_type": "execute_result"
    }
   ],
   "source": [
    "print('VALUATION CONDITIONAL UPON SURVIVAL')\n",
    "print('___________________________________\\n')\n",
    "\n",
    "print('(Fixed Assets + Working Capital) / Revenue =   %s\\n' % '{:.0%}'.format(calc(FAnWC_over_Rev_ratio)))\n",
    "\n",
    "print('Discount Rate =   %s\\n' % '{:.1%}'.format(calc(discount_rate)))\n",
    "\n",
    "print('Long-Term Growth Rate =   %s\\n' % '{:.0%}'.format(calc(long_term_growth_rate)))\n",
    "\n",
    "print('Valuation of FCF before TV =   $%.2f MM' % calc(val_of_FCF_before_TV))\n",
    "print('Valuation of TV =   $%.2f MM' % calc(val_of_TV))\n",
    "print('\\nVALUATION | survival =   $%.2f MM\\n' % calc(val))\n",
    "\n",
    "print('Detailed Cash Flow Calcs:')\n",
    "val_calcs_df = pandas.DataFrame(index=['Year 0'] + range(YEAR_0 + 1, FINAL_PRO_FORMA_YEAR + 1))\n",
    "pandas.options.display.float_format = '{:,.2f}'.format\n",
    "\n",
    "val_calcs_df['Revenue Y-o-Y Growth Rate'] = [numpy.nan, numpy.nan] + calc(Rev_YoY_growth_rates[2:])\n",
    "val_calcs_df['Revenue'] = calc(Rev)\n",
    "val_calcs_df['EBIAT / Revenue'] = [numpy.nan] + calc(EBIAT_over_Rev_ratios[1:])\n",
    "val_calcs_df['EBIAT'] = [numpy.nan] + calc(EBIAT[1:])\n",
    "val_calcs_df['Fixed Assets & Wkg. Cap.'] = calc(FixedAssets_and_WorkingCapital)\n",
    "val_calcs_df['Fixed Assets & Wkg. Cap. chg.'] = [numpy.nan] + calc(FixedAssets_and_WorkingCapital_changes[1:])\n",
    "val_calcs_df['FCF before Terminal Value'] = [numpy.nan] + calc(FCF_before_TV[1:])\n",
    "val_calcs_df['Terminal Value'] = numpy.nan\n",
    "val_calcs_df.loc[FINAL_PRO_FORMA_YEAR, 'Terminal Value'] = calc(TV)\n",
    "\n",
    "val_calcs_df.T"
   ]
  }
 ],
 "metadata": {
  "kernelspec": {
   "display_name": "Python 2",
   "language": "python",
   "name": "python2"
  },
  "language_info": {
   "codemirror_mode": {
    "name": "ipython",
    "version": 2
   },
   "file_extension": ".py",
   "mimetype": "text/x-python",
   "name": "python",
   "nbconvert_exporter": "python",
   "pygments_lexer": "ipython2",
   "version": "2.7.11"
  },
  "latex_envs": {
   "bibliofile": "biblio.bib",
   "cite_by": "apalike",
   "current_citInitial": 1,
   "eqLabelWithNumbers": true,
   "eqNumInitial": 0
  },
  "toc": {
   "toc_cell": true,
   "toc_number_sections": true,
   "toc_section_display": "block",
   "toc_threshold": 4,
   "toc_window_display": true
  },
  "toc_position": {
   "left": "1330.21px",
   "right": "20px",
   "top": "121.997px",
   "width": "187px"
  }
 },
 "nbformat": 4,
 "nbformat_minor": 0
}
