{
 "cells": [
  {
   "cell_type": "markdown",
   "metadata": {
    "toc": "true"
   },
   "source": [
    "# Table of Contents\n",
    " <p><div class=\"lev1\"><a href=\"#Import-Python-modules\"><span class=\"toc-item-num\">1 - </span>Import <code>Python</code> modules</a></div><div class=\"lev1\"><a href=\"#Set-CONSTANTS\"><span class=\"toc-item-num\">2 - </span>Set <em>CONSTANTS</em></a></div><div class=\"lev1\"><a href=\"#Metapath-Software's-Capital-Structure\"><span class=\"toc-item-num\">3 - </span>Metapath Software's Capital Structure</a></div><div class=\"lev2\"><a href=\"#Common-Shares-issued-to-Founders\"><span class=\"toc-item-num\">3.1 - </span>Common Shares issued to Founders</a></div><div class=\"lev2\"><a href=\"#Series-A-&amp;-B:-Non-Convertible-Preferred-Shares\"><span class=\"toc-item-num\">3.2 - </span>Series A &amp; B: Non-Convertible Preferred Shares</a></div><div class=\"lev2\"><a href=\"#Series-C-&amp;-D:-Convertible-Preferred-Shares\"><span class=\"toc-item-num\">3.3 - </span>Series C &amp; D: Convertible Preferred Shares</a></div><div class=\"lev2\"><a href=\"#Series-E:-Participating-Preferred-Shares\"><span class=\"toc-item-num\">3.4 - </span>Series E: Participating Preferred Shares</a></div>"
   ]
  },
  {
   "cell_type": "markdown",
   "metadata": {},
   "source": [
    "# Import `Python` modules"
   ]
  },
  {
   "cell_type": "code",
   "execution_count": 1,
   "metadata": {
    "collapsed": false
   },
   "outputs": [
    {
     "name": "stderr",
     "output_type": "stream",
     "text": [
      "WARNING (theano.sandbox.cuda): CUDA is installed, but device gpu is not available  (error: Unable to get the number of gpus available: CUDA driver version is insufficient for CUDA runtime version)\n",
      "WARNING:theano.sandbox.cuda:CUDA is installed, but device gpu is not available  (error: Unable to get the number of gpus available: CUDA driver version is insufficient for CUDA runtime version)\n"
     ]
    }
   ],
   "source": [
    "from __future__ import division, print_function\n",
    "import numpy\n",
    "import pandas\n",
    "from pprint import pprint\n",
    "\n",
    "from CorpFin.Capital import CapitalStructure\n",
    "from CorpFin.Security import Security\n",
    "from HelpyFuncs.Print import print_live_in_ipython"
   ]
  },
  {
   "cell_type": "code",
   "execution_count": 2,
   "metadata": {
    "collapsed": false
   },
   "outputs": [],
   "source": [
    "print_live_in_ipython()"
   ]
  },
  {
   "cell_type": "markdown",
   "metadata": {},
   "source": [
    "# Set _CONSTANTS_"
   ]
  },
  {
   "cell_type": "code",
   "execution_count": 3,
   "metadata": {
    "collapsed": true
   },
   "outputs": [],
   "source": [
    "ENTERPRISE_VAL_6 = 1e6\n",
    "ENTERPRISE_VAL_7 = 1e7\n",
    "ENTERPRISE_VAL_8 = 1e8"
   ]
  },
  {
   "cell_type": "markdown",
   "metadata": {},
   "source": [
    "# Metapath Software's Capital Structure"
   ]
  },
  {
   "cell_type": "markdown",
   "metadata": {},
   "source": [
    "## Common Shares issued to Founders"
   ]
  },
  {
   "cell_type": "code",
   "execution_count": 4,
   "metadata": {
    "collapsed": false
   },
   "outputs": [
    {
     "data": {
      "text/html": [
       "<div>\n",
       "<table border=\"1\" class=\"dataframe\">\n",
       "  <thead>\n",
       "    <tr style=\"text-align: right;\">\n",
       "      <th></th>\n",
       "      <th>Liquidation Order (LIFO)</th>\n",
       "      <th>Outstanding</th>\n",
       "      <th>Conversion Ratio</th>\n",
       "    </tr>\n",
       "  </thead>\n",
       "  <tbody>\n",
       "    <tr>\n",
       "      <th>Common</th>\n",
       "      <td>0</td>\n",
       "      <td>0.00</td>\n",
       "      <td>NaN</td>\n",
       "    </tr>\n",
       "  </tbody>\n",
       "</table>\n",
       "</div>"
      ],
      "text/plain": [
       "        Liquidation Order (LIFO)  Outstanding Conversion Ratio\n",
       "Common                         0         0.00              NaN"
      ]
     },
     "execution_count": 4,
     "metadata": {},
     "output_type": "execute_result"
    }
   ],
   "source": [
    "cap_struct = \\\n",
    "    CapitalStructure(\n",
    "        Security(\n",
    "            label='Common',\n",
    "            claim_val=0.,\n",
    "            val=0.))\n",
    "\n",
    "pandas.options.display.float_format = '{:,.2f}'.format\n",
    "cap_struct.show()"
   ]
  },
  {
   "cell_type": "code",
   "execution_count": 5,
   "metadata": {
    "collapsed": false
   },
   "outputs": [
    {
     "name": "stdout",
     "output_type": "stream",
     "text": [
      "      Owner Security     Quantity\n",
      "0  founders   Common 7,224,557.00\n"
     ]
    },
    {
     "data": {
      "text/html": [
       "<div>\n",
       "<table border=\"1\" class=\"dataframe\">\n",
       "  <thead>\n",
       "    <tr style=\"text-align: right;\">\n",
       "      <th></th>\n",
       "      <th>Liquidation Order (LIFO)</th>\n",
       "      <th>Outstanding</th>\n",
       "      <th>Conversion Ratio</th>\n",
       "    </tr>\n",
       "  </thead>\n",
       "  <tbody>\n",
       "    <tr>\n",
       "      <th>Common</th>\n",
       "      <td>0</td>\n",
       "      <td>7,224,557.00</td>\n",
       "      <td>NaN</td>\n",
       "    </tr>\n",
       "  </tbody>\n",
       "</table>\n",
       "</div>"
      ],
      "text/plain": [
       "        Liquidation Order (LIFO)  Outstanding Conversion Ratio\n",
       "Common                         0 7,224,557.00              NaN"
      ]
     },
     "execution_count": 5,
     "metadata": {},
     "output_type": "execute_result"
    }
   ],
   "source": [
    "cap_struct.issue(\n",
    "    owner='founders',\n",
    "    securities=dict(Common=7224557))\n",
    "\n",
    "pprint(cap_struct.show(ownerships=True))\n",
    "cap_struct.show()"
   ]
  },
  {
   "cell_type": "code",
   "execution_count": 6,
   "metadata": {
    "collapsed": false
   },
   "outputs": [],
   "source": [
    "def show_trial_vals(pareto=False):\n",
    "\n",
    "    for enterprise_val in ENTERPRISE_VAL_6, ENTERPRISE_VAL_7, ENTERPRISE_VAL_8:\n",
    "               \n",
    "        print('\\n------------------------------------')\n",
    "        print('ENTERPRISE VAL = $%s' % '{:,.0f}'.format(enterprise_val))\n",
    "        \n",
    "        print('\\nSECURITY VALS:')\n",
    "        pprint(\n",
    "            cap_struct(\n",
    "                pareto_equil_conversions=pareto,\n",
    "                enterprise_val=enterprise_val))\n",
    "\n",
    "        print('\\nOWNERSHIP VALS:')\n",
    "        pprint(\n",
    "            cap_struct(\n",
    "                pareto_equil_conversions=pareto,\n",
    "                ownerships=True,\n",
    "                enterprise_val=enterprise_val))"
   ]
  },
  {
   "cell_type": "code",
   "execution_count": 7,
   "metadata": {
    "collapsed": false
   },
   "outputs": [
    {
     "name": "stdout",
     "output_type": "stream",
     "text": [
      "\n",
      "------------------------------------\n",
      "ENTERPRISE VAL = $1,000,000\n",
      "\n",
      "SECURITY VALS:\n",
      "       Liquidation Order (LIFO)  Outstanding Conversion Ratio Val / Unit  \\\n",
      "Common                        0 7,224,557.00              NaN       0.14   \n",
      "TOTAL                                                                      \n",
      "\n",
      "                Val  \n",
      "Common 1,000,000.04  \n",
      "TOTAL  1,000,000.04  \n",
      "\n",
      "OWNERSHIP VALS:\n",
      "          Owner Security          Val  Share\n",
      "0      founders   Common 1,000,000.04   1.00\n",
      "TOTAL                    1,000,000.04   1.00\n",
      "\n",
      "------------------------------------\n",
      "ENTERPRISE VAL = $10,000,000\n",
      "\n",
      "SECURITY VALS:\n",
      "       Liquidation Order (LIFO)  Outstanding Conversion Ratio Val / Unit  \\\n",
      "Common                        0 7,224,557.00              NaN       1.38   \n",
      "TOTAL                                                                      \n",
      "\n",
      "                Val  \n",
      "Common 9,999,999.96  \n",
      "TOTAL  9,999,999.96  \n",
      "\n",
      "OWNERSHIP VALS:\n",
      "          Owner Security          Val  Share\n",
      "0      founders   Common 9,999,999.96   1.00\n",
      "TOTAL                    9,999,999.96   1.00\n",
      "\n",
      "------------------------------------\n",
      "ENTERPRISE VAL = $100,000,000\n",
      "\n",
      "SECURITY VALS:\n",
      "       Liquidation Order (LIFO)  Outstanding Conversion Ratio Val / Unit  \\\n",
      "Common                        0 7,224,557.00              NaN      13.84   \n",
      "TOTAL                                                                      \n",
      "\n",
      "                  Val  \n",
      "Common 100,000,003.05  \n",
      "TOTAL  100,000,003.05  \n",
      "\n",
      "OWNERSHIP VALS:\n",
      "          Owner Security            Val  Share\n",
      "0      founders   Common 100,000,003.05   1.00\n",
      "TOTAL                    100,000,003.05   1.00\n"
     ]
    }
   ],
   "source": [
    "show_trial_vals(pareto=True)"
   ]
  },
  {
   "cell_type": "markdown",
   "metadata": {
    "collapsed": true
   },
   "source": [
    "## Series A & B: Non-Convertible Preferred Shares"
   ]
  },
  {
   "cell_type": "code",
   "execution_count": 8,
   "metadata": {
    "collapsed": false
   },
   "outputs": [
    {
     "data": {
      "text/html": [
       "<div>\n",
       "<table border=\"1\" class=\"dataframe\">\n",
       "  <thead>\n",
       "    <tr style=\"text-align: right;\">\n",
       "      <th></th>\n",
       "      <th>Liquidation Order (LIFO)</th>\n",
       "      <th>Outstanding</th>\n",
       "      <th>Conversion Ratio</th>\n",
       "    </tr>\n",
       "  </thead>\n",
       "  <tbody>\n",
       "    <tr>\n",
       "      <th>Common</th>\n",
       "      <td>0</td>\n",
       "      <td>7,224,557.00</td>\n",
       "      <td>NaN</td>\n",
       "    </tr>\n",
       "    <tr>\n",
       "      <th>Ser. A Non-Conv. Pref.</th>\n",
       "      <td>1</td>\n",
       "      <td>0.00</td>\n",
       "      <td>NaN</td>\n",
       "    </tr>\n",
       "    <tr>\n",
       "      <th>Ser. B Non-Conv. Pref.</th>\n",
       "      <td>1</td>\n",
       "      <td>0.00</td>\n",
       "      <td>NaN</td>\n",
       "    </tr>\n",
       "  </tbody>\n",
       "</table>\n",
       "</div>"
      ],
      "text/plain": [
       "                        Liquidation Order (LIFO)  Outstanding Conversion Ratio\n",
       "Common                                         0 7,224,557.00              NaN\n",
       "Ser. A Non-Conv. Pref.                         1         0.00              NaN\n",
       "Ser. B Non-Conv. Pref.                         1         0.00              NaN"
      ]
     },
     "execution_count": 8,
     "metadata": {},
     "output_type": "execute_result"
    }
   ],
   "source": [
    "cap_struct.create_securities(\n",
    "    securities=\n",
    "        Security(\n",
    "            label='Ser. A Non-Conv. Pref.',\n",
    "            claim_val=600025.,\n",
    "            val=0.))\n",
    "\n",
    "cap_struct.create_securities(\n",
    "    securities=\n",
    "        Security(\n",
    "            label='Ser. B Non-Conv. Pref.',\n",
    "            claim_val=999975.,\n",
    "            val=0.),\n",
    "    liquidation_order=1)\n",
    "\n",
    "cap_struct.show()"
   ]
  },
  {
   "cell_type": "code",
   "execution_count": 9,
   "metadata": {
    "collapsed": false
   },
   "outputs": [
    {
     "name": "stdout",
     "output_type": "stream",
     "text": [
      "       Owner                Security     Quantity\n",
      "0   founders                  Common 7,224,557.00\n",
      "1   Bessemer  Ser. B Non-Conv. Pref.         1.00\n",
      "2   Bessemer                  Common   952,357.14\n",
      "3  Securidor                  Common   571,452.38\n",
      "4  Securidor  Ser. A Non-Conv. Pref.         1.00\n"
     ]
    },
    {
     "data": {
      "text/html": [
       "<div>\n",
       "<table border=\"1\" class=\"dataframe\">\n",
       "  <thead>\n",
       "    <tr style=\"text-align: right;\">\n",
       "      <th></th>\n",
       "      <th>Liquidation Order (LIFO)</th>\n",
       "      <th>Outstanding</th>\n",
       "      <th>Conversion Ratio</th>\n",
       "    </tr>\n",
       "  </thead>\n",
       "  <tbody>\n",
       "    <tr>\n",
       "      <th>Common</th>\n",
       "      <td>0</td>\n",
       "      <td>8,748,366.52</td>\n",
       "      <td>NaN</td>\n",
       "    </tr>\n",
       "    <tr>\n",
       "      <th>Ser. A Non-Conv. Pref.</th>\n",
       "      <td>1</td>\n",
       "      <td>1.00</td>\n",
       "      <td>NaN</td>\n",
       "    </tr>\n",
       "    <tr>\n",
       "      <th>Ser. B Non-Conv. Pref.</th>\n",
       "      <td>1</td>\n",
       "      <td>1.00</td>\n",
       "      <td>NaN</td>\n",
       "    </tr>\n",
       "  </tbody>\n",
       "</table>\n",
       "</div>"
      ],
      "text/plain": [
       "                        Liquidation Order (LIFO)  Outstanding Conversion Ratio\n",
       "Common                                         0 8,748,366.52              NaN\n",
       "Ser. A Non-Conv. Pref.                         1         1.00              NaN\n",
       "Ser. B Non-Conv. Pref.                         1         1.00              NaN"
      ]
     },
     "execution_count": 9,
     "metadata": {},
     "output_type": "execute_result"
    }
   ],
   "source": [
    "series_a_nb_common_shares = 600025. / 1.05\n",
    "cap_struct.issue(\n",
    "    owner='Securidor',\n",
    "    securities=\n",
    "        ('Ser. A Non-Conv. Pref.',\n",
    "         ('Common', series_a_nb_common_shares)))\n",
    "\n",
    "series_b_nb_common_shares = 999975 / 1.05\n",
    "cap_struct.issue(\n",
    "    owner='Bessemer',\n",
    "    securities=\n",
    "        ('Ser. B Non-Conv. Pref.',\n",
    "         (series_b_nb_common_shares, 'Common')))\n",
    "\n",
    "pprint(cap_struct.show(ownerships=True))\n",
    "cap_struct.show()"
   ]
  },
  {
   "cell_type": "code",
   "execution_count": 10,
   "metadata": {
    "collapsed": false
   },
   "outputs": [
    {
     "name": "stdout",
     "output_type": "stream",
     "text": [
      "\n",
      "------------------------------------\n",
      "ENTERPRISE VAL = $1,000,000\n",
      "\n",
      "SECURITY VALS:\n",
      "                       Liquidation Order (LIFO)  Outstanding Conversion Ratio  \\\n",
      "Common                                        0 8,748,366.52              NaN   \n",
      "Ser. A Non-Conv. Pref.                        1         1.00              NaN   \n",
      "Ser. B Non-Conv. Pref.                        1         1.00              NaN   \n",
      "TOTAL                                                                           \n",
      "\n",
      "                       Val / Unit          Val  \n",
      "Common                       0.00         0.00  \n",
      "Ser. A Non-Conv. Pref. 375,015.62   375,015.62  \n",
      "Ser. B Non-Conv. Pref. 624,984.38   624,984.38  \n",
      "TOTAL                             1,000,000.00  \n",
      "\n",
      "OWNERSHIP VALS:\n",
      "           Owner                Security          Val  Share\n",
      "0       founders                  Common         0.00    nan\n",
      "1       Bessemer  Ser. B Non-Conv. Pref.   624,984.38    nan\n",
      "2       Bessemer                  Common         0.00    nan\n",
      "3      Securidor                  Common         0.00    nan\n",
      "4      Securidor  Ser. A Non-Conv. Pref.   375,015.62    nan\n",
      "TOTAL                                    1,000,000.00   0.00\n",
      "\n",
      "------------------------------------\n",
      "ENTERPRISE VAL = $10,000,000\n",
      "\n",
      "SECURITY VALS:\n",
      "                       Liquidation Order (LIFO)  Outstanding Conversion Ratio  \\\n",
      "Common                                        0 8,748,366.52              NaN   \n",
      "Ser. A Non-Conv. Pref.                        1         1.00              NaN   \n",
      "Ser. B Non-Conv. Pref.                        1         1.00              NaN   \n",
      "TOTAL                                                                           \n",
      "\n",
      "                       Val / Unit           Val  \n",
      "Common                       0.96  8,400,000.18  \n",
      "Ser. A Non-Conv. Pref. 600,025.00    600,025.00  \n",
      "Ser. B Non-Conv. Pref. 999,975.00    999,975.00  \n",
      "TOTAL                             10,000,000.18  \n",
      "\n",
      "OWNERSHIP VALS:\n",
      "           Owner                Security           Val  Share\n",
      "0       founders                  Common  6,936,869.86   0.83\n",
      "1       Bessemer  Ser. B Non-Conv. Pref.    999,975.00    nan\n",
      "2       Bessemer                  Common    914,433.59   0.11\n",
      "3      Securidor                  Common    548,696.73   0.07\n",
      "4      Securidor  Ser. A Non-Conv. Pref.    600,025.00    nan\n",
      "TOTAL                                    10,000,000.18   1.00\n",
      "\n",
      "------------------------------------\n",
      "ENTERPRISE VAL = $100,000,000\n",
      "\n",
      "SECURITY VALS:\n",
      "                       Liquidation Order (LIFO)  Outstanding Conversion Ratio  \\\n",
      "Common                                        0 8,748,366.52              NaN   \n",
      "Ser. A Non-Conv. Pref.                        1         1.00              NaN   \n",
      "Ser. B Non-Conv. Pref.                        1         1.00              NaN   \n",
      "TOTAL                                                                           \n",
      "\n",
      "                       Val / Unit            Val  \n",
      "Common                      11.25  98,400,009.37  \n",
      "Ser. A Non-Conv. Pref. 600,025.00     600,025.00  \n",
      "Ser. B Non-Conv. Pref. 999,975.00     999,975.00  \n",
      "TOTAL                             100,000,009.37  \n",
      "\n",
      "OWNERSHIP VALS:\n",
      "           Owner                Security            Val  Share\n",
      "0       founders                  Common  81,260,481.55   0.83\n",
      "1       Bessemer  Ser. B Non-Conv. Pref.     999,975.00    nan\n",
      "2       Bessemer                  Common  10,711,937.08   0.11\n",
      "3      Securidor                  Common   6,427,590.74   0.07\n",
      "4      Securidor  Ser. A Non-Conv. Pref.     600,025.00    nan\n",
      "TOTAL                                    100,000,009.37   1.00\n"
     ]
    }
   ],
   "source": [
    "show_trial_vals(pareto=True)"
   ]
  },
  {
   "cell_type": "markdown",
   "metadata": {},
   "source": [
    "## Series C & D: Convertible Preferred Shares"
   ]
  },
  {
   "cell_type": "code",
   "execution_count": 11,
   "metadata": {
    "collapsed": false
   },
   "outputs": [
    {
     "data": {
      "text/html": [
       "<div>\n",
       "<table border=\"1\" class=\"dataframe\">\n",
       "  <thead>\n",
       "    <tr style=\"text-align: right;\">\n",
       "      <th></th>\n",
       "      <th>Liquidation Order (LIFO)</th>\n",
       "      <th>Outstanding</th>\n",
       "      <th>Conversion Ratio</th>\n",
       "    </tr>\n",
       "  </thead>\n",
       "  <tbody>\n",
       "    <tr>\n",
       "      <th>Common</th>\n",
       "      <td>0</td>\n",
       "      <td>8,748,366.52</td>\n",
       "      <td>nan</td>\n",
       "    </tr>\n",
       "    <tr>\n",
       "      <th>Ser. A Non-Conv. Pref.</th>\n",
       "      <td>1</td>\n",
       "      <td>1.00</td>\n",
       "      <td>nan</td>\n",
       "    </tr>\n",
       "    <tr>\n",
       "      <th>Ser. B Non-Conv. Pref.</th>\n",
       "      <td>1</td>\n",
       "      <td>1.00</td>\n",
       "      <td>nan</td>\n",
       "    </tr>\n",
       "    <tr>\n",
       "      <th>Ser. C Conv. Pref.</th>\n",
       "      <td>2</td>\n",
       "      <td>0.00</td>\n",
       "      <td>1.05</td>\n",
       "    </tr>\n",
       "    <tr>\n",
       "      <th>Ser. D Conv. Pref.</th>\n",
       "      <td>3</td>\n",
       "      <td>0.00</td>\n",
       "      <td>1.62</td>\n",
       "    </tr>\n",
       "  </tbody>\n",
       "</table>\n",
       "</div>"
      ],
      "text/plain": [
       "                        Liquidation Order (LIFO)  Outstanding  \\\n",
       "Common                                         0 8,748,366.52   \n",
       "Ser. A Non-Conv. Pref.                         1         1.00   \n",
       "Ser. B Non-Conv. Pref.                         1         1.00   \n",
       "Ser. C Conv. Pref.                             2         0.00   \n",
       "Ser. D Conv. Pref.                             3         0.00   \n",
       "\n",
       "                        Conversion Ratio  \n",
       "Common                               nan  \n",
       "Ser. A Non-Conv. Pref.               nan  \n",
       "Ser. B Non-Conv. Pref.               nan  \n",
       "Ser. C Conv. Pref.                  1.05  \n",
       "Ser. D Conv. Pref.                  1.62  "
      ]
     },
     "execution_count": 11,
     "metadata": {},
     "output_type": "execute_result"
    }
   ],
   "source": [
    "cap_struct.create_securities(\n",
    "    securities=(\n",
    "        (Security(\n",
    "            label='Ser. C Conv. Pref.',\n",
    "            claim_val=1.05,\n",
    "            val=0.),\n",
    "         1.05),\n",
    "        (Security(\n",
    "            label='Ser. D Conv. Pref.',\n",
    "            claim_val=1.62,\n",
    "            val=0.),\n",
    "         1.62)))\n",
    "\n",
    "cap_struct.show()"
   ]
  },
  {
   "cell_type": "code",
   "execution_count": 12,
   "metadata": {
    "collapsed": false
   },
   "outputs": [
    {
     "name": "stdout",
     "output_type": "stream",
     "text": [
      "       Owner                Security     Quantity\n",
      "0   founders                  Common 7,224,557.00\n",
      "1       USVP      Ser. D Conv. Pref. 1,851,851.85\n",
      "2    Norwest      Ser. D Conv. Pref. 1,851,851.85\n",
      "3   Bessemer  Ser. B Non-Conv. Pref.         1.00\n",
      "4   Bessemer                  Common   952,357.14\n",
      "5   Bessemer      Ser. C Conv. Pref.   952,382.86\n",
      "6   Bessemer      Ser. D Conv. Pref.   617,283.95\n",
      "7  Securidor                  Common   571,452.38\n",
      "8  Securidor  Ser. A Non-Conv. Pref.         1.00\n"
     ]
    },
    {
     "data": {
      "text/html": [
       "<div>\n",
       "<table border=\"1\" class=\"dataframe\">\n",
       "  <thead>\n",
       "    <tr style=\"text-align: right;\">\n",
       "      <th></th>\n",
       "      <th>Liquidation Order (LIFO)</th>\n",
       "      <th>Outstanding</th>\n",
       "      <th>Conversion Ratio</th>\n",
       "    </tr>\n",
       "  </thead>\n",
       "  <tbody>\n",
       "    <tr>\n",
       "      <th>Common</th>\n",
       "      <td>0</td>\n",
       "      <td>8,748,366.52</td>\n",
       "      <td>nan</td>\n",
       "    </tr>\n",
       "    <tr>\n",
       "      <th>Ser. A Non-Conv. Pref.</th>\n",
       "      <td>1</td>\n",
       "      <td>1.00</td>\n",
       "      <td>nan</td>\n",
       "    </tr>\n",
       "    <tr>\n",
       "      <th>Ser. B Non-Conv. Pref.</th>\n",
       "      <td>1</td>\n",
       "      <td>1.00</td>\n",
       "      <td>nan</td>\n",
       "    </tr>\n",
       "    <tr>\n",
       "      <th>Ser. C Conv. Pref.</th>\n",
       "      <td>2</td>\n",
       "      <td>952,382.86</td>\n",
       "      <td>1.05</td>\n",
       "    </tr>\n",
       "    <tr>\n",
       "      <th>Ser. D Conv. Pref.</th>\n",
       "      <td>3</td>\n",
       "      <td>4,320,987.65</td>\n",
       "      <td>1.62</td>\n",
       "    </tr>\n",
       "  </tbody>\n",
       "</table>\n",
       "</div>"
      ],
      "text/plain": [
       "                        Liquidation Order (LIFO)  Outstanding  \\\n",
       "Common                                         0 8,748,366.52   \n",
       "Ser. A Non-Conv. Pref.                         1         1.00   \n",
       "Ser. B Non-Conv. Pref.                         1         1.00   \n",
       "Ser. C Conv. Pref.                             2   952,382.86   \n",
       "Ser. D Conv. Pref.                             3 4,320,987.65   \n",
       "\n",
       "                        Conversion Ratio  \n",
       "Common                               nan  \n",
       "Ser. A Non-Conv. Pref.               nan  \n",
       "Ser. B Non-Conv. Pref.               nan  \n",
       "Ser. C Conv. Pref.                  1.05  \n",
       "Ser. D Conv. Pref.                  1.62  "
      ]
     },
     "execution_count": 12,
     "metadata": {},
     "output_type": "execute_result"
    }
   ],
   "source": [
    "series_c_nb_units = 1000002. / 1.05\n",
    "cap_struct.issue(\n",
    "    owner='Bessemer',\n",
    "    securities=\n",
    "        ((series_c_nb_units, 'Ser. C Conv. Pref.'),))\n",
    "\n",
    "series_d_nb_units = 7e6 / 1.62\n",
    "cap_struct.issue(\n",
    "    owner='Bessemer',\n",
    "    securities=\n",
    "        [('Ser. D Conv. Pref.', 1 / 7 * series_d_nb_units)])\n",
    "cap_struct.issue(\n",
    "    owner='USVP',\n",
    "    securities=\n",
    "        [('Ser. D Conv. Pref.', 3 / 7 * series_d_nb_units)])\n",
    "cap_struct.issue(\n",
    "    owner='Norwest',\n",
    "    securities=\n",
    "        [('Ser. D Conv. Pref.', 3 / 7 * series_d_nb_units)])\n",
    "\n",
    "pprint(cap_struct.show(ownerships=True))\n",
    "cap_struct.show()"
   ]
  },
  {
   "cell_type": "code",
   "execution_count": 13,
   "metadata": {
    "collapsed": false
   },
   "outputs": [
    {
     "name": "stdout",
     "output_type": "stream",
     "text": [
      "\n",
      "------------------------------------\n",
      "ENTERPRISE VAL = $1,000,000\n",
      "\n",
      "SECURITY VALS:\n",
      "                       Liquidation Order (LIFO)  Outstanding Conversion Ratio  \\\n",
      "Common                                        0 9,748,368.52              NaN   \n",
      "Ser. A Non-Conv. Pref.                        1         1.00              NaN   \n",
      "Ser. B Non-Conv. Pref.                        1         1.00              NaN   \n",
      "Ser. C Conv. Pref.                            2         0.00             1.05   \n",
      "Ser. D Conv. Pref.                            3 4,320,987.65             1.62   \n",
      "TOTAL                                                                           \n",
      "\n",
      "                       Val / Unit          Val  \n",
      "Common                       0.00         0.00  \n",
      "Ser. A Non-Conv. Pref.       0.00         0.00  \n",
      "Ser. B Non-Conv. Pref.       0.00         0.00  \n",
      "Ser. C Conv. Pref.           0.00         0.00  \n",
      "Ser. D Conv. Pref.           0.23 1,000,000.03  \n",
      "TOTAL                             1,000,000.03  \n",
      "\n",
      "OWNERSHIP VALS:\n",
      "           Owner                Security          Val  Share\n",
      "0       founders                  Common         0.00    nan\n",
      "1           USVP      Ser. D Conv. Pref.   428,571.44    nan\n",
      "2        Norwest      Ser. D Conv. Pref.   428,571.44    nan\n",
      "3       Bessemer  Ser. B Non-Conv. Pref.         0.00    nan\n",
      "4       Bessemer                  Common         0.00    nan\n",
      "5       Bessemer      Ser. C Conv. Pref.         0.00    nan\n",
      "6       Bessemer      Ser. D Conv. Pref.   142,857.15    nan\n",
      "7      Securidor                  Common         0.00    nan\n",
      "8      Securidor  Ser. A Non-Conv. Pref.         0.00    nan\n",
      "TOTAL                                    1,000,000.03   0.00\n",
      "\n",
      "------------------------------------\n",
      "ENTERPRISE VAL = $10,000,000\n",
      "\n",
      "SECURITY VALS:\n",
      "                       Liquidation Order (LIFO)  Outstanding Conversion Ratio  \\\n",
      "Common                                        0 8,748,366.52              NaN   \n",
      "Ser. A Non-Conv. Pref.                        1         1.00              NaN   \n",
      "Ser. B Non-Conv. Pref.                        1         1.00              NaN   \n",
      "Ser. C Conv. Pref.                            2   952,382.86             1.05   \n",
      "Ser. D Conv. Pref.                            3 4,320,987.65             1.62   \n",
      "TOTAL                                                                           \n",
      "\n",
      "                       Val / Unit           Val  \n",
      "Common                       0.05    399,998.23  \n",
      "Ser. A Non-Conv. Pref. 600,025.00    600,025.00  \n",
      "Ser. B Non-Conv. Pref. 999,975.00    999,975.00  \n",
      "Ser. C Conv. Pref.           1.05  1,000,001.95  \n",
      "Ser. D Conv. Pref.           1.62  7,000,000.02  \n",
      "TOTAL                             10,000,000.20  \n",
      "\n",
      "OWNERSHIP VALS:\n",
      "           Owner                Security           Val  Share\n",
      "0       founders                  Common    330,325.66   0.83\n",
      "1           USVP      Ser. D Conv. Pref.  3,000,000.01    nan\n",
      "2        Norwest      Ser. D Conv. Pref.  3,000,000.01    nan\n",
      "3       Bessemer  Ser. B Non-Conv. Pref.    999,975.00    nan\n",
      "4       Bessemer                  Common     43,544.26   0.11\n",
      "5       Bessemer      Ser. C Conv. Pref.  1,000,001.95    nan\n",
      "6       Bessemer      Ser. D Conv. Pref.  1,000,000.00    nan\n",
      "7      Securidor                  Common     26,128.30   0.07\n",
      "8      Securidor  Ser. A Non-Conv. Pref.    600,025.00    nan\n",
      "TOTAL                                    10,000,000.20   1.00\n",
      "\n",
      "------------------------------------\n",
      "ENTERPRISE VAL = $100,000,000\n",
      "\n",
      "SECURITY VALS:\n",
      "                       Liquidation Order (LIFO)   Outstanding  \\\n",
      "Common                                        0 16,748,368.52   \n",
      "Ser. A Non-Conv. Pref.                        1          1.00   \n",
      "Ser. B Non-Conv. Pref.                        1          1.00   \n",
      "Ser. C Conv. Pref.                            2          0.00   \n",
      "Ser. D Conv. Pref.                            3          0.00   \n",
      "TOTAL                                                           \n",
      "\n",
      "                       Conversion Ratio Val / Unit            Val  \n",
      "Common                              NaN       5.88  98,400,011.31  \n",
      "Ser. A Non-Conv. Pref.              NaN 600,025.00     600,025.00  \n",
      "Ser. B Non-Conv. Pref.              NaN 999,975.00     999,975.00  \n",
      "Ser. C Conv. Pref.                 1.05       0.00           0.00  \n",
      "Ser. D Conv. Pref.                 1.62       0.00           0.00  \n",
      "TOTAL                                              100,000,011.31  \n",
      "\n",
      "OWNERSHIP VALS:\n",
      "           Owner                Security           Val  Share\n",
      "0       founders                  Common 42,445,715.80   0.83\n",
      "1           USVP      Ser. D Conv. Pref.          0.00    nan\n",
      "2        Norwest      Ser. D Conv. Pref.          0.00    nan\n",
      "3       Bessemer  Ser. B Non-Conv. Pref.    999,975.00    nan\n",
      "4       Bessemer                  Common  5,595,288.49   0.11\n",
      "5       Bessemer      Ser. C Conv. Pref.          0.00    nan\n",
      "6       Bessemer      Ser. D Conv. Pref.          0.00    nan\n",
      "7      Securidor                  Common  3,357,396.91   0.07\n",
      "8      Securidor  Ser. A Non-Conv. Pref.    600,025.00    nan\n",
      "TOTAL                                    52,998,401.21   1.00\n"
     ]
    }
   ],
   "source": [
    "show_trial_vals(pareto=True)"
   ]
  },
  {
   "cell_type": "markdown",
   "metadata": {},
   "source": [
    "## Series E: Participating Preferred Shares"
   ]
  },
  {
   "cell_type": "code",
   "execution_count": 14,
   "metadata": {
    "collapsed": false
   },
   "outputs": [
    {
     "name": "stdout",
     "output_type": "stream",
     "text": [
      "        Owner                           Security     Quantity\n",
      "0        USVP                 Ser. D Conv. Pref. 1,851,851.85\n",
      "1        USVP                             Common   250,000.00\n",
      "2        USVP  Ser. E Partg. Pref.: Debt Portion   250,000.00\n",
      "3     Wessels                             Common    41,666.67\n",
      "4     Wessels  Ser. E Partg. Pref.: Debt Portion    41,666.67\n",
      "5    Bessemer  Ser. E Partg. Pref.: Debt Portion   250,000.00\n",
      "6    Bessemer             Ser. B Non-Conv. Pref.         1.00\n",
      "7    Bessemer                             Common 1,202,357.14\n",
      "8    Bessemer                 Ser. C Conv. Pref.   952,382.86\n",
      "9    Bessemer                 Ser. D Conv. Pref.   617,283.95\n",
      "10    Norwest                 Ser. D Conv. Pref. 1,851,851.85\n",
      "11    Norwest                             Common   250,000.00\n",
      "12    Norwest  Ser. E Partg. Pref.: Debt Portion   250,000.00\n",
      "13  Securidor                             Common   571,452.38\n",
      "14  Securidor             Ser. A Non-Conv. Pref.         1.00\n",
      "15   Integral                             Common   166,666.67\n",
      "16   Integral  Ser. E Partg. Pref.: Debt Portion   166,666.67\n",
      "17   founders                             Common 7,224,557.00\n",
      "18      Omega                             Common   833,333.33\n",
      "19      Omega  Ser. E Partg. Pref.: Debt Portion   833,333.33\n"
     ]
    },
    {
     "data": {
      "text/html": [
       "<div>\n",
       "<table border=\"1\" class=\"dataframe\">\n",
       "  <thead>\n",
       "    <tr style=\"text-align: right;\">\n",
       "      <th></th>\n",
       "      <th>Liquidation Order (LIFO)</th>\n",
       "      <th>Outstanding</th>\n",
       "      <th>Conversion Ratio</th>\n",
       "    </tr>\n",
       "  </thead>\n",
       "  <tbody>\n",
       "    <tr>\n",
       "      <th>Common</th>\n",
       "      <td>0</td>\n",
       "      <td>10,540,033.19</td>\n",
       "      <td>nan</td>\n",
       "    </tr>\n",
       "    <tr>\n",
       "      <th>Ser. A Non-Conv. Pref.</th>\n",
       "      <td>1</td>\n",
       "      <td>1.00</td>\n",
       "      <td>nan</td>\n",
       "    </tr>\n",
       "    <tr>\n",
       "      <th>Ser. B Non-Conv. Pref.</th>\n",
       "      <td>1</td>\n",
       "      <td>1.00</td>\n",
       "      <td>nan</td>\n",
       "    </tr>\n",
       "    <tr>\n",
       "      <th>Ser. C Conv. Pref.</th>\n",
       "      <td>2</td>\n",
       "      <td>952,382.86</td>\n",
       "      <td>1.05</td>\n",
       "    </tr>\n",
       "    <tr>\n",
       "      <th>Ser. D Conv. Pref.</th>\n",
       "      <td>3</td>\n",
       "      <td>4,320,987.65</td>\n",
       "      <td>1.62</td>\n",
       "    </tr>\n",
       "    <tr>\n",
       "      <th>Ser. E Partg. Pref.: Debt Portion</th>\n",
       "      <td>4</td>\n",
       "      <td>1,791,666.67</td>\n",
       "      <td>0.00</td>\n",
       "    </tr>\n",
       "  </tbody>\n",
       "</table>\n",
       "</div>"
      ],
      "text/plain": [
       "                                   Liquidation Order (LIFO)   Outstanding  \\\n",
       "Common                                                    0 10,540,033.19   \n",
       "Ser. A Non-Conv. Pref.                                    1          1.00   \n",
       "Ser. B Non-Conv. Pref.                                    1          1.00   \n",
       "Ser. C Conv. Pref.                                        2    952,382.86   \n",
       "Ser. D Conv. Pref.                                        3  4,320,987.65   \n",
       "Ser. E Partg. Pref.: Debt Portion                         4  1,791,666.67   \n",
       "\n",
       "                                   Conversion Ratio  \n",
       "Common                                          nan  \n",
       "Ser. A Non-Conv. Pref.                          nan  \n",
       "Ser. B Non-Conv. Pref.                          nan  \n",
       "Ser. C Conv. Pref.                             1.05  \n",
       "Ser. D Conv. Pref.                             1.62  \n",
       "Ser. E Partg. Pref.: Debt Portion              0.00  "
      ]
     },
     "execution_count": 14,
     "metadata": {},
     "output_type": "execute_result"
    }
   ],
   "source": [
    "series_e_nb_units = 10.75e6 / 6.00\n",
    "\n",
    "cap_struct.create_securities(\n",
    "    securities=\n",
    "        ((Security(\n",
    "            label='Ser. E Partg. Pref.: Debt Portion',\n",
    "            claim_val=6.00,\n",
    "            val=0.),\n",
    "         0.),))\n",
    "    \n",
    "cap_struct.issue(\n",
    "    owner='Omega',\n",
    "    securities=\n",
    "        [('Common', 5 / 10.75 * series_e_nb_units ),\n",
    "         ('Ser. E Partg. Pref.: Debt Portion', 5 / 10.75 * series_e_nb_units)])\n",
    "cap_struct.issue(\n",
    "    owner='Bessemer',\n",
    "    securities=\n",
    "        [('Common', 1.5 / 10.75 * series_e_nb_units ),\n",
    "         ('Ser. E Partg. Pref.: Debt Portion', 1.5 / 10.75 * series_e_nb_units)])\n",
    "cap_struct.issue(\n",
    "    owner='Norwest',\n",
    "    securities=\n",
    "        [('Common', 1.5 / 10.75 * series_e_nb_units ),\n",
    "         ('Ser. E Partg. Pref.: Debt Portion', 1.5 / 10.75 * series_e_nb_units)])\n",
    "cap_struct.issue(\n",
    "    owner='USVP',\n",
    "    securities=\n",
    "        [('Common', 1.5 / 10.75 * series_e_nb_units ),\n",
    "         ('Ser. E Partg. Pref.: Debt Portion', 1.5 / 10.75 * series_e_nb_units)])\n",
    "cap_struct.issue(\n",
    "    owner='Wessels',\n",
    "    securities=\n",
    "        [('Common', .25 / 10.75 * series_e_nb_units ),\n",
    "         ('Ser. E Partg. Pref.: Debt Portion', .25 / 10.75 * series_e_nb_units)])\n",
    "cap_struct.issue(\n",
    "    owner='Integral',\n",
    "    securities=\n",
    "        [('Common', 1 / 10.75 * series_e_nb_units ),\n",
    "         ('Ser. E Partg. Pref.: Debt Portion', 1 / 10.75 * series_e_nb_units)])\n",
    "\n",
    "pprint(cap_struct.show(ownerships=True))\n",
    "cap_struct.show()"
   ]
  },
  {
   "cell_type": "code",
   "execution_count": 15,
   "metadata": {
    "collapsed": false
   },
   "outputs": [
    {
     "name": "stdout",
     "output_type": "stream",
     "text": [
      "\n",
      "------------------------------------\n",
      "ENTERPRISE VAL = $1,000,000\n",
      "\n",
      "SECURITY VALS:\n",
      "                                  Liquidation Order (LIFO)   Outstanding  \\\n",
      "Common                                                   0 10,540,033.19   \n",
      "Ser. A Non-Conv. Pref.                                   1          1.00   \n",
      "Ser. B Non-Conv. Pref.                                   1          1.00   \n",
      "Ser. C Conv. Pref.                                       2    952,382.86   \n",
      "Ser. D Conv. Pref.                                       3  4,320,987.65   \n",
      "Ser. E Partg. Pref.: Debt Portion                        4  1,791,666.67   \n",
      "TOTAL                                                                      \n",
      "\n",
      "                                  Conversion Ratio Val / Unit          Val  \n",
      "Common                                         NaN       0.00         0.00  \n",
      "Ser. A Non-Conv. Pref.                         NaN       0.00         0.00  \n",
      "Ser. B Non-Conv. Pref.                         NaN       0.00         0.00  \n",
      "Ser. C Conv. Pref.                            1.05       0.00         0.00  \n",
      "Ser. D Conv. Pref.                            1.62       0.00         0.00  \n",
      "Ser. E Partg. Pref.: Debt Portion             0.00       0.56 1,000,000.05  \n",
      "TOTAL                                                         1,000,000.05  \n",
      "\n",
      "OWNERSHIP VALS:\n",
      "           Owner                           Security          Val  Share\n",
      "0           USVP                 Ser. D Conv. Pref.         0.00    nan\n",
      "1           USVP                             Common         0.00    nan\n",
      "2           USVP  Ser. E Partg. Pref.: Debt Portion   139,534.89    nan\n",
      "3        Wessels                             Common         0.00    nan\n",
      "4        Wessels  Ser. E Partg. Pref.: Debt Portion    23,255.82    nan\n",
      "5       Bessemer  Ser. E Partg. Pref.: Debt Portion   139,534.89    nan\n",
      "6       Bessemer             Ser. B Non-Conv. Pref.         0.00    nan\n",
      "7       Bessemer                             Common         0.00    nan\n",
      "8       Bessemer                 Ser. C Conv. Pref.         0.00    nan\n",
      "9       Bessemer                 Ser. D Conv. Pref.         0.00    nan\n",
      "10       Norwest                 Ser. D Conv. Pref.         0.00    nan\n",
      "11       Norwest                             Common         0.00    nan\n",
      "12       Norwest  Ser. E Partg. Pref.: Debt Portion   139,534.89    nan\n",
      "13     Securidor                             Common         0.00    nan\n",
      "14     Securidor             Ser. A Non-Conv. Pref.         0.00    nan\n",
      "15      Integral                             Common         0.00    nan\n",
      "16      Integral  Ser. E Partg. Pref.: Debt Portion    93,023.26    nan\n",
      "17      founders                             Common         0.00    nan\n",
      "18         Omega                             Common         0.00    nan\n",
      "19         Omega  Ser. E Partg. Pref.: Debt Portion   465,116.30    nan\n",
      "TOTAL                                               1,000,000.05   0.00\n",
      "\n",
      "------------------------------------\n",
      "ENTERPRISE VAL = $10,000,000\n",
      "\n",
      "SECURITY VALS:\n",
      "                                  Liquidation Order (LIFO)   Outstanding  \\\n",
      "Common                                                   0 10,540,033.19   \n",
      "Ser. A Non-Conv. Pref.                                   1          1.00   \n",
      "Ser. B Non-Conv. Pref.                                   1          1.00   \n",
      "Ser. C Conv. Pref.                                       2    952,382.86   \n",
      "Ser. D Conv. Pref.                                       3  4,320,987.65   \n",
      "Ser. E Partg. Pref.: Debt Portion                        4  1,791,666.67   \n",
      "TOTAL                                                                      \n",
      "\n",
      "                                  Conversion Ratio Val / Unit           Val  \n",
      "Common                                         NaN       0.00          0.00  \n",
      "Ser. A Non-Conv. Pref.                         NaN       0.00          0.00  \n",
      "Ser. B Non-Conv. Pref.                         NaN       0.00          0.00  \n",
      "Ser. C Conv. Pref.                            1.05       0.00          0.00  \n",
      "Ser. D Conv. Pref.                            1.62       0.00          0.00  \n",
      "Ser. E Partg. Pref.: Debt Portion             0.00       5.58 10,000,000.50  \n",
      "TOTAL                                                         10,000,000.50  \n",
      "\n",
      "OWNERSHIP VALS:\n",
      "           Owner                           Security           Val  Share\n",
      "0           USVP                 Ser. D Conv. Pref.          0.00    nan\n",
      "1           USVP                             Common          0.00    nan\n",
      "2           USVP  Ser. E Partg. Pref.: Debt Portion  1,395,348.91    nan\n",
      "3        Wessels                             Common          0.00    nan\n",
      "4        Wessels  Ser. E Partg. Pref.: Debt Portion    232,558.15    nan\n",
      "5       Bessemer  Ser. E Partg. Pref.: Debt Portion  1,395,348.91    nan\n",
      "6       Bessemer             Ser. B Non-Conv. Pref.          0.00    nan\n",
      "7       Bessemer                             Common          0.00    nan\n",
      "8       Bessemer                 Ser. C Conv. Pref.          0.00    nan\n",
      "9       Bessemer                 Ser. D Conv. Pref.          0.00    nan\n",
      "10       Norwest                 Ser. D Conv. Pref.          0.00    nan\n",
      "11       Norwest                             Common          0.00    nan\n",
      "12       Norwest  Ser. E Partg. Pref.: Debt Portion  1,395,348.91    nan\n",
      "13     Securidor                             Common          0.00    nan\n",
      "14     Securidor             Ser. A Non-Conv. Pref.          0.00    nan\n",
      "15      Integral                             Common          0.00    nan\n",
      "16      Integral  Ser. E Partg. Pref.: Debt Portion    930,232.60    nan\n",
      "17      founders                             Common          0.00    nan\n",
      "18         Omega                             Common          0.00    nan\n",
      "19         Omega  Ser. E Partg. Pref.: Debt Portion  4,651,163.02    nan\n",
      "TOTAL                                               10,000,000.50   0.00\n",
      "\n",
      "------------------------------------\n",
      "ENTERPRISE VAL = $100,000,000\n",
      "\n",
      "SECURITY VALS:\n",
      "                                  Liquidation Order (LIFO)   Outstanding  \\\n",
      "Common                                                   0 10,540,033.19   \n",
      "Ser. A Non-Conv. Pref.                                   1          1.00   \n",
      "Ser. B Non-Conv. Pref.                                   1          1.00   \n",
      "Ser. C Conv. Pref.                                       2    952,382.86   \n",
      "Ser. D Conv. Pref.                                       3  4,320,987.65   \n",
      "Ser. E Partg. Pref.: Debt Portion                        4  1,791,666.67   \n",
      "TOTAL                                                                      \n",
      "\n",
      "                                  Conversion Ratio Val / Unit            Val  \n",
      "Common                                         NaN       7.56  79,650,002.20  \n",
      "Ser. A Non-Conv. Pref.                         NaN 600,025.00     600,025.00  \n",
      "Ser. B Non-Conv. Pref.                         NaN 999,975.00     999,975.00  \n",
      "Ser. C Conv. Pref.                            1.05       1.05   1,000,001.95  \n",
      "Ser. D Conv. Pref.                            1.62       1.62   7,000,000.02  \n",
      "Ser. E Partg. Pref.: Debt Portion             0.00       6.00  10,750,000.85  \n",
      "TOTAL                                                         100,000,005.03  \n",
      "\n",
      "OWNERSHIP VALS:\n",
      "           Owner                           Security            Val  Share\n",
      "0           USVP                 Ser. D Conv. Pref.   3,000,000.01    nan\n",
      "1           USVP                             Common   1,889,225.60   0.02\n",
      "2           USVP  Ser. E Partg. Pref.: Debt Portion   1,500,000.12    nan\n",
      "3        Wessels                             Common     314,870.93   0.00\n",
      "4        Wessels  Ser. E Partg. Pref.: Debt Portion     250,000.02    nan\n",
      "5       Bessemer  Ser. E Partg. Pref.: Debt Portion   1,500,000.12    nan\n",
      "6       Bessemer             Ser. B Non-Conv. Pref.     999,975.00    nan\n",
      "7       Bessemer                             Common   9,086,095.59   0.11\n",
      "8       Bessemer                 Ser. C Conv. Pref.   1,000,001.95    nan\n",
      "9       Bessemer                 Ser. D Conv. Pref.   1,000,000.00    nan\n",
      "10       Norwest                 Ser. D Conv. Pref.   3,000,000.01    nan\n",
      "11       Norwest                             Common   1,889,225.60   0.02\n",
      "12       Norwest  Ser. E Partg. Pref.: Debt Portion   1,500,000.12    nan\n",
      "13     Securidor                             Common   4,318,409.87   0.05\n",
      "14     Securidor             Ser. A Non-Conv. Pref.     600,025.00    nan\n",
      "15      Integral                             Common   1,259,483.73   0.02\n",
      "16      Integral  Ser. E Partg. Pref.: Debt Portion   1,000,000.08    nan\n",
      "17      founders                             Common  54,595,272.19   0.69\n",
      "18         Omega                             Common   6,297,418.67   0.08\n",
      "19         Omega  Ser. E Partg. Pref.: Debt Portion   5,000,000.40    nan\n",
      "TOTAL                                               100,000,005.03   1.00\n"
     ]
    }
   ],
   "source": [
    "show_trial_vals()"
   ]
  }
 ],
 "metadata": {
  "kernelspec": {
   "display_name": "Python 2",
   "language": "python",
   "name": "python2"
  },
  "language_info": {
   "codemirror_mode": {
    "name": "ipython",
    "version": 2
   },
   "file_extension": ".py",
   "mimetype": "text/x-python",
   "name": "python",
   "nbconvert_exporter": "python",
   "pygments_lexer": "ipython2",
   "version": "2.7.11"
  },
  "latex_envs": {
   "bibliofile": "biblio.bib",
   "cite_by": "apalike",
   "current_citInitial": 1,
   "eqLabelWithNumbers": true,
   "eqNumInitial": 0
  },
  "toc": {
   "toc_cell": true,
   "toc_number_sections": true,
   "toc_section_display": "block",
   "toc_threshold": 4,
   "toc_window_display": true
  },
  "toc_position": {
   "left": "1330.21px",
   "right": "20px",
   "top": "121.997px",
   "width": "187px"
  }
 },
 "nbformat": 4,
 "nbformat_minor": 0
}
