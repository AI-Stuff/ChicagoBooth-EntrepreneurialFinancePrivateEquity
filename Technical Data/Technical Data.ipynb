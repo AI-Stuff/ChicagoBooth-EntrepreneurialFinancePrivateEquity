{
 "cells": [
  {
   "cell_type": "markdown",
   "metadata": {
    "toc": "true"
   },
   "source": [
    "# Table of Contents\n",
    " <p><div class=\"lev1\"><a href=\"#Import-Python-modules\"><span class=\"toc-item-num\">1 - </span>Import <code>Python</code> modules</a></div><div class=\"lev1\"><a href=\"#Set-CONSTANTS\"><span class=\"toc-item-num\">2 - </span>Set <em>CONSTANTS</em></a></div><div class=\"lev1\"><a href=\"#List-Exogenous-SymPy-Variables\"><span class=\"toc-item-num\">3 - </span>List Exogenous <code>SymPy</code> Variables</a></div><div class=\"lev1\"><a href=\"#Build-Structure-of-Model-for-Valuation-(conditional-upon-survival)\"><span class=\"toc-item-num\">4 - </span>Build Structure of Model for Valuation <em>(conditional upon survival)</em></a></div><div class=\"lev1\"><a href=\"#Calculate-Actual-Values\"><span class=\"toc-item-num\">5 - </span>Calculate Actual Values</a></div>"
   ]
  },
  {
   "cell_type": "markdown",
   "metadata": {},
   "source": [
    "# Import `Python` modules"
   ]
  },
  {
   "cell_type": "code",
   "execution_count": 1,
   "metadata": {
    "collapsed": false
   },
   "outputs": [
    {
     "name": "stderr",
     "output_type": "stream",
     "text": [
      "Using gpu device 0: GeForce GT 750M\n"
     ]
    }
   ],
   "source": [
    "from __future__ import print_function\n",
    "import numpy\n",
    "import pandas\n",
    "from pprint import pprint\n",
    "import sympy\n",
    "    \n",
    "from FinSymPy.Valuation import \\\n",
    "    terminal_value as tv, \\\n",
    "    present_value as pv, \\\n",
    "    net_present_value as npv\n",
    "    \n",
    "from HelpyFuncs.SymPy import sympy_eval_by_theano"
   ]
  },
  {
   "cell_type": "markdown",
   "metadata": {},
   "source": [
    "# Set _CONSTANTS_"
   ]
  },
  {
   "cell_type": "code",
   "execution_count": 2,
   "metadata": {
    "collapsed": false
   },
   "outputs": [],
   "source": [
    "# U.S. Corporate Tax rate\n",
    "US_CORP_TAX_RATE = .48\n",
    "\n",
    "# Risk-Free Rate\n",
    "RISK_FREE_RATE = .11\n",
    "\n",
    "# Public Market Return\n",
    "PUB_MKT_RETURN = .19\n",
    "\n",
    "# CAPM Betas\n",
    "PUB_MKT_BETA_FOR_FIN_SECTOR = 1.   # assumed in line with overall equity market\n",
    "PEVC_BETA_FOR_PRO_FORMA_PERIOD = 2.\n",
    "\n",
    "# Long-Term Growth Rate\n",
    "LONG_TERM_GROWTH_RATE = .08\n",
    "\n",
    "# Year 0\n",
    "YEAR_0 = 1980\n",
    "\n",
    "# Number of Pro-Forma Years EXCLUDING Year 0\n",
    "NB_PRO_FORMA_YEARS = 3\n",
    "FINAL_PRO_FORMA_YEAR = YEAR_0 + NB_PRO_FORMA_YEARS"
   ]
  },
  {
   "cell_type": "markdown",
   "metadata": {},
   "source": [
    "# List Exogenous `SymPy` Variables"
   ]
  },
  {
   "cell_type": "code",
   "execution_count": 3,
   "metadata": {
    "collapsed": false
   },
   "outputs": [
    {
     "name": "stdout",
     "output_type": "stream",
     "text": [
      "Revenue variables:\n",
      " (Rev_1980, Rev_1981, Rev_1982, Rev_1983)\n",
      "\n",
      "Operating Expenses (negative) variables:\n",
      " (OpEx___neg_1980, OpEx___neg_1981, OpEx___neg_1982, OpEx___neg_1983)\n",
      "\n",
      "Extra Executive Compensation (negative) variables:\n",
      " (extra_exec_comp___neg_1980, extra_exec_comp___neg_1981, extra_exec_comp___neg_1982, extra_exec_comp___neg_1983)\n",
      "\n",
      "Corporate Tax Rate variable:\n",
      " corp_tax_rate\n",
      "\n",
      "Long-Term Growth Rate variable:\n",
      " long_term_growth_rate\n",
      "\n",
      "Risk-Free Rate variable:\n",
      " risk_free_rate\n",
      "\n",
      "Public Market Return variable:\n",
      " pub_mkt_return\n",
      "\n",
      "Stabilized Beta variable:\n",
      " stabilized_beta\n",
      "\n",
      "Private Equity / Venture Capital Beta variable:\n",
      " pevc_beta\n"
     ]
    }
   ],
   "source": [
    "# Cash Flow components\n",
    "Rev = sympy.symbols(\n",
    "    'Rev_%d:%d' % (YEAR_0, FINAL_PRO_FORMA_YEAR + 1))\n",
    "print('Revenue variables:\\n', Rev)\n",
    "\n",
    "OpEx___neg = sympy.symbols(\n",
    "    'OpEx___neg_%d:%d' % (YEAR_0, FINAL_PRO_FORMA_YEAR + 1))\n",
    "print('\\nOperating Expenses (negative) variables:\\n', OpEx___neg)\n",
    "\n",
    "extra_exec_comp___neg = sympy.symbols(\n",
    "    'extra_exec_comp___neg_%d:%d' % (YEAR_0, FINAL_PRO_FORMA_YEAR + 1))\n",
    "print('\\nExtra Executive Compensation (negative) variables:\\n', extra_exec_comp___neg)\n",
    "\n",
    "\n",
    "# Corporate Tax Rate\n",
    "corp_tax_rate = sympy.Symbol('corp_tax_rate')\n",
    "print('\\nCorporate Tax Rate variable:\\n', corp_tax_rate)\n",
    "\n",
    "\n",
    "# Long-Term Growth Rate\n",
    "long_term_growth_rate = sympy.Symbol('long_term_growth_rate')\n",
    "print('\\nLong-Term Growth Rate variable:\\n', long_term_growth_rate)\n",
    "\n",
    "\n",
    "# CAPM Paramaters\n",
    "risk_free_rate = sympy.Symbol('risk_free_rate')\n",
    "print('\\nRisk-Free Rate variable:\\n', risk_free_rate)\n",
    "\n",
    "pub_mkt_return = sympy.Symbol('pub_mkt_return')\n",
    "print('\\nPublic Market Return variable:\\n', pub_mkt_return)\n",
    "\n",
    "stabilized_beta = sympy.Symbol('stabilized_beta')\n",
    "print('\\nStabilized Beta variable:\\n', stabilized_beta)\n",
    "\n",
    "pevc_beta = sympy.Symbol('pevc_beta')\n",
    "print('\\nPrivate Equity / Venture Capital Beta variable:\\n', pevc_beta)\n",
    "\n",
    "\n",
    "# assemble all exogenous variables into a collection\n",
    "exo_vars = \\\n",
    "    Rev + OpEx___neg + extra_exec_comp___neg + \\\n",
    "    (corp_tax_rate,\n",
    "     long_term_growth_rate,\n",
    "     risk_free_rate, pub_mkt_return,\n",
    "     stabilized_beta, pevc_beta)"
   ]
  },
  {
   "cell_type": "markdown",
   "metadata": {},
   "source": [
    "# Build Structure of Model for Valuation _(conditional upon survival)_"
   ]
  },
  {
   "cell_type": "markdown",
   "metadata": {},
   "source": [
    "EBIT from Revenue, Operating Expenses and extra executive compensation:"
   ]
  },
  {
   "cell_type": "code",
   "execution_count": 4,
   "metadata": {
    "collapsed": false
   },
   "outputs": [
    {
     "name": "stdout",
     "output_type": "stream",
     "text": [
      "EBIT =\n",
      "[OpEx___neg_1980 + Rev_1980 + extra_exec_comp___neg_1980,\n",
      " OpEx___neg_1981 + Rev_1981 + extra_exec_comp___neg_1981,\n",
      " OpEx___neg_1982 + Rev_1982 + extra_exec_comp___neg_1982,\n",
      " OpEx___neg_1983 + Rev_1983 + extra_exec_comp___neg_1983]\n"
     ]
    }
   ],
   "source": [
    "EBIT = map(\n",
    "    lambda x: reduce(lambda u, v: u + v, x), \n",
    "    zip(Rev, OpEx___neg, extra_exec_comp___neg))\n",
    "\n",
    "print('EBIT =')\n",
    "pprint(EBIT)"
   ]
  },
  {
   "cell_type": "markdown",
   "metadata": {},
   "source": [
    "EBIAT after corporate tax:"
   ]
  },
  {
   "cell_type": "code",
   "execution_count": 5,
   "metadata": {
    "collapsed": false
   },
   "outputs": [
    {
     "name": "stdout",
     "output_type": "stream",
     "text": [
      "EBIAT =\n",
      "[(-corp_tax_rate + 1)*(OpEx___neg_1980 + Rev_1980 + extra_exec_comp___neg_1980),\n",
      " (-corp_tax_rate + 1)*(OpEx___neg_1981 + Rev_1981 + extra_exec_comp___neg_1981),\n",
      " (-corp_tax_rate + 1)*(OpEx___neg_1982 + Rev_1982 + extra_exec_comp___neg_1982),\n",
      " (-corp_tax_rate + 1)*(OpEx___neg_1983 + Rev_1983 + extra_exec_comp___neg_1983)]\n"
     ]
    }
   ],
   "source": [
    "EBIAT = map(\n",
    "    lambda x: (1 - corp_tax_rate) * x,\n",
    "    EBIT)\n",
    "\n",
    "print('EBIAT =')\n",
    "pprint(EBIAT)"
   ]
  },
  {
   "cell_type": "markdown",
   "metadata": {
    "collapsed": false
   },
   "source": [
    "As the case provides no details on projected investments / divestments and changes in working capital, we assume that the FCF before Terminal Value equals the estimated EBIAT:"
   ]
  },
  {
   "cell_type": "code",
   "execution_count": 6,
   "metadata": {
    "collapsed": false
   },
   "outputs": [
    {
     "name": "stdout",
     "output_type": "stream",
     "text": [
      "FCF_before_TV =\n",
      "[(-corp_tax_rate + 1)*(OpEx___neg_1980 + Rev_1980 + extra_exec_comp___neg_1980),\n",
      " (-corp_tax_rate + 1)*(OpEx___neg_1981 + Rev_1981 + extra_exec_comp___neg_1981),\n",
      " (-corp_tax_rate + 1)*(OpEx___neg_1982 + Rev_1982 + extra_exec_comp___neg_1982),\n",
      " (-corp_tax_rate + 1)*(OpEx___neg_1983 + Rev_1983 + extra_exec_comp___neg_1983)]\n"
     ]
    }
   ],
   "source": [
    "FCF_before_TV = EBIAT\n",
    "\n",
    "print('FCF_before_TV =')\n",
    "pprint(FCF_before_TV)"
   ]
  },
  {
   "cell_type": "markdown",
   "metadata": {},
   "source": [
    "Discount Rates:"
   ]
  },
  {
   "cell_type": "code",
   "execution_count": 7,
   "metadata": {
    "collapsed": false
   },
   "outputs": [
    {
     "name": "stdout",
     "output_type": "stream",
     "text": [
      "Pro-Forma Period Discount Rate =\n",
      " pevc_beta*(pub_mkt_return - risk_free_rate) + risk_free_rate\n"
     ]
    }
   ],
   "source": [
    "pro_forma_period_discount_rate = \\\n",
    "    risk_free_rate + pevc_beta * (pub_mkt_return - risk_free_rate)\n",
    "\n",
    "print(\n",
    "    'Pro-Forma Period Discount Rate =\\n',\n",
    "    pro_forma_period_discount_rate)"
   ]
  },
  {
   "cell_type": "code",
   "execution_count": 8,
   "metadata": {
    "collapsed": false
   },
   "outputs": [
    {
     "name": "stdout",
     "output_type": "stream",
     "text": [
      "Long-Term Discount Rate =\n",
      " risk_free_rate + stabilized_beta*(pub_mkt_return - risk_free_rate)\n"
     ]
    }
   ],
   "source": [
    "long_term_discount_rate = \\\n",
    "    risk_free_rate + stabilized_beta * (pub_mkt_return - risk_free_rate)\n",
    "    \n",
    "print(\n",
    "    'Long-Term Discount Rate =\\n',\n",
    "    long_term_discount_rate)"
   ]
  },
  {
   "cell_type": "markdown",
   "metadata": {},
   "source": [
    "Terminal Value:"
   ]
  },
  {
   "cell_type": "code",
   "execution_count": 9,
   "metadata": {
    "collapsed": false
   },
   "outputs": [
    {
     "name": "stdout",
     "output_type": "stream",
     "text": [
      "TerminalValue =\n",
      " (-corp_tax_rate + 1)*(long_term_growth_rate + 1)*(OpEx___neg_1983 + Rev_1983 + extra_exec_comp___neg_1983)/(-long_term_growth_rate + risk_free_rate + stabilized_beta*(pub_mkt_return - risk_free_rate))\n"
     ]
    }
   ],
   "source": [
    "TerminalValue = tv(FCF_before_TV[-1], long_term_discount_rate, long_term_growth_rate)\n",
    "    \n",
    "print('TerminalValue =\\n', TerminalValue)"
   ]
  },
  {
   "cell_type": "markdown",
   "metadata": {
    "collapsed": false
   },
   "source": [
    "Valuation from applying relevant discount rates to _pro forma_ period CFs and to Terminal Value:"
   ]
  },
  {
   "cell_type": "code",
   "execution_count": 10,
   "metadata": {
    "collapsed": false
   },
   "outputs": [
    {
     "name": "stdout",
     "output_type": "stream",
     "text": [
      "Valuation =\n",
      " (-corp_tax_rate + 1)*(long_term_growth_rate + 1)*(OpEx___neg_1983 + Rev_1983 + extra_exec_comp___neg_1983)/((-long_term_growth_rate + risk_free_rate + stabilized_beta*(pub_mkt_return - risk_free_rate))*(risk_free_rate + stabilized_beta*(pub_mkt_return - risk_free_rate) + 1)**3) + (-corp_tax_rate + 1)*(OpEx___neg_1980 + Rev_1980 + extra_exec_comp___neg_1980) + (-corp_tax_rate + 1)*(OpEx___neg_1981 + Rev_1981 + extra_exec_comp___neg_1981)/(pevc_beta*(pub_mkt_return - risk_free_rate) + risk_free_rate + 1) + (-corp_tax_rate + 1)*(OpEx___neg_1982 + Rev_1982 + extra_exec_comp___neg_1982)/(pevc_beta*(pub_mkt_return - risk_free_rate) + risk_free_rate + 1)**2 + (-corp_tax_rate + 1)*(OpEx___neg_1983 + Rev_1983 + extra_exec_comp___neg_1983)/(pevc_beta*(pub_mkt_return - risk_free_rate) + risk_free_rate + 1)**3\n"
     ]
    }
   ],
   "source": [
    "val_of_FCF_before_TV = npv(FCF_before_TV, pro_forma_period_discount_rate)\n",
    "\n",
    "val_of_terminal_val = pv(TerminalValue, long_term_discount_rate, NB_PRO_FORMA_YEARS)\n",
    "\n",
    "val = val_of_FCF_before_TV + val_of_terminal_val\n",
    "\n",
    "print('Valuation =\\n', val)"
   ]
  },
  {
   "cell_type": "markdown",
   "metadata": {},
   "source": [
    "# Calculate Actual Values"
   ]
  },
  {
   "cell_type": "markdown",
   "metadata": {},
   "source": [
    "Import data:"
   ]
  },
  {
   "cell_type": "code",
   "execution_count": 11,
   "metadata": {
    "collapsed": false
   },
   "outputs": [
    {
     "data": {
      "text/html": [
       "<div>\n",
       "<table border=\"1\" class=\"dataframe\">\n",
       "  <thead>\n",
       "    <tr style=\"text-align: right;\">\n",
       "      <th></th>\n",
       "      <th>Revenue</th>\n",
       "      <th>OpEx</th>\n",
       "      <th>extra_executive_compensation</th>\n",
       "    </tr>\n",
       "    <tr>\n",
       "      <th>Year</th>\n",
       "      <th></th>\n",
       "      <th></th>\n",
       "      <th></th>\n",
       "    </tr>\n",
       "  </thead>\n",
       "  <tbody>\n",
       "    <tr>\n",
       "      <th>1981</th>\n",
       "      <td>288000</td>\n",
       "      <td>-242774</td>\n",
       "      <td>-2500</td>\n",
       "    </tr>\n",
       "    <tr>\n",
       "      <th>1982</th>\n",
       "      <td>799350</td>\n",
       "      <td>-308991</td>\n",
       "      <td>-75000</td>\n",
       "    </tr>\n",
       "    <tr>\n",
       "      <th>1983</th>\n",
       "      <td>1181700</td>\n",
       "      <td>-410010</td>\n",
       "      <td>-140000</td>\n",
       "    </tr>\n",
       "  </tbody>\n",
       "</table>\n",
       "</div>"
      ],
      "text/plain": [
       "      Revenue    OpEx  extra_executive_compensation\n",
       "Year                                               \n",
       "1981   288000 -242774                         -2500\n",
       "1982   799350 -308991                        -75000\n",
       "1983  1181700 -410010                       -140000"
      ]
     },
     "execution_count": 11,
     "metadata": {},
     "output_type": "execute_result"
    }
   ],
   "source": [
    "data_df = \\\n",
    "    pandas.read_csv(\n",
    "        'data/Technical Data.csv',\n",
    "        index_col='Year')\n",
    "\n",
    "data_df"
   ]
  },
  {
   "cell_type": "markdown",
   "metadata": {},
   "source": [
    "Exogenous Variables' values:"
   ]
  },
  {
   "cell_type": "code",
   "execution_count": 12,
   "metadata": {
    "collapsed": false
   },
   "outputs": [
    {
     "name": "stdout",
     "output_type": "stream",
     "text": [
      "{'OpEx___neg_1980': 0,\n",
      " 'OpEx___neg_1981': -242774,\n",
      " 'OpEx___neg_1982': -308991,\n",
      " 'OpEx___neg_1983': -410010,\n",
      " 'Rev_1980': 0,\n",
      " 'Rev_1981': 288000,\n",
      " 'Rev_1982': 799350,\n",
      " 'Rev_1983': 1181700,\n",
      " 'corp_tax_rate': 0.48,\n",
      " 'extra_exec_comp___neg_1980': 0,\n",
      " 'extra_exec_comp___neg_1981': -2500,\n",
      " 'extra_exec_comp___neg_1982': -75000,\n",
      " 'extra_exec_comp___neg_1983': -140000,\n",
      " 'long_term_growth_rate': 0.08,\n",
      " 'pevc_beta': 2.0,\n",
      " 'pub_mkt_return': 0.19,\n",
      " 'risk_free_rate': 0.11,\n",
      " 'stabilized_beta': 1.0}\n"
     ]
    }
   ],
   "source": [
    "exo_vars_values_dict = \\\n",
    "    dict(\n",
    "        corp_tax_rate=US_CORP_TAX_RATE,\n",
    "        risk_free_rate=RISK_FREE_RATE,\n",
    "        pub_mkt_return=PUB_MKT_RETURN,\n",
    "        pevc_beta=PEVC_BETA_FOR_PRO_FORMA_PERIOD,\n",
    "        stabilized_beta=PUB_MKT_BETA_FOR_FIN_SECTOR,\n",
    "        long_term_growth_rate=LONG_TERM_GROWTH_RATE)\n",
    "    \n",
    "exo_vars_values_dict.update(\n",
    "    dict(\n",
    "        zip([i.name for i in Rev],\n",
    "            [0] + data_df.Revenue.tolist()) +\n",
    "        zip([i.name for i in OpEx___neg],\n",
    "            [0] + data_df.OpEx.tolist()) +\n",
    "        zip([i.name for i in extra_exec_comp___neg],\n",
    "            [0] + data_df.extra_executive_compensation.tolist())))\n",
    "\n",
    "pprint(exo_vars_values_dict)"
   ]
  },
  {
   "cell_type": "markdown",
   "metadata": {},
   "source": [
    "Function to calculate values from `SymPy` expression:"
   ]
  },
  {
   "cell_type": "code",
   "execution_count": 13,
   "metadata": {
    "collapsed": false
   },
   "outputs": [],
   "source": [
    "def calc(x):\n",
    "    if isinstance(x, (list, tuple)):\n",
    "        return [float(calc(i)) for i in x]\n",
    "    else:\n",
    "        return float(sympy_eval_by_theano(x, symbols=exo_vars, **exo_vars_values_dict))"
   ]
  },
  {
   "cell_type": "markdown",
   "metadata": {
    "collapsed": false
   },
   "source": [
    "Valuation Calculations:"
   ]
  },
  {
   "cell_type": "code",
   "execution_count": 14,
   "metadata": {
    "collapsed": false
   },
   "outputs": [
    {
     "name": "stdout",
     "output_type": "stream",
     "text": [
      "VALUATION CONDITIONAL UPON SURVIVAL\n",
      "___________________________________\n",
      "\n",
      "U.S. Corporate Tax Rate =   48%\n",
      "\n",
      "Risk-Free Rate =   11%\n",
      "Public-Market Return =   19%\n",
      "\n",
      "Stabilized Beta =   1x\n",
      "Long-Term Discount Rate =   19%\n",
      "\n",
      "PEVC Beta =   2x\n",
      "Discount Rate for Pro-Forma Period =   27%\n",
      "\n",
      "Valuation of FCF before TV =   $0.31 MM\n",
      "Valuation of TV =   $1.91 MM\n",
      "\n",
      "VALUATION | survival =   $2.23 MM\n",
      "\n",
      "Detailed Cash Flow Calcs:\n"
     ]
    },
    {
     "data": {
      "text/html": [
       "<div>\n",
       "<table border=\"1\" class=\"dataframe\">\n",
       "  <thead>\n",
       "    <tr style=\"text-align: right;\">\n",
       "      <th></th>\n",
       "      <th>Year 0</th>\n",
       "      <th>1981</th>\n",
       "      <th>1982</th>\n",
       "      <th>1983</th>\n",
       "    </tr>\n",
       "  </thead>\n",
       "  <tbody>\n",
       "    <tr>\n",
       "      <th>Revenue</th>\n",
       "      <td>0</td>\n",
       "      <td>288,000</td>\n",
       "      <td>799,350</td>\n",
       "      <td>1,181,700</td>\n",
       "    </tr>\n",
       "    <tr>\n",
       "      <th>Operating Expenses</th>\n",
       "      <td>0</td>\n",
       "      <td>-242,774</td>\n",
       "      <td>-308,991</td>\n",
       "      <td>-410,010</td>\n",
       "    </tr>\n",
       "    <tr>\n",
       "      <th>Adj. for Extra Exec. Comp.</th>\n",
       "      <td>0</td>\n",
       "      <td>-2,500</td>\n",
       "      <td>-75,000</td>\n",
       "      <td>-140,000</td>\n",
       "    </tr>\n",
       "    <tr>\n",
       "      <th>EBIT</th>\n",
       "      <td>0</td>\n",
       "      <td>42,726</td>\n",
       "      <td>415,359</td>\n",
       "      <td>631,690</td>\n",
       "    </tr>\n",
       "    <tr>\n",
       "      <th>EBIAT</th>\n",
       "      <td>0</td>\n",
       "      <td>22,218</td>\n",
       "      <td>215,987</td>\n",
       "      <td>328,479</td>\n",
       "    </tr>\n",
       "    <tr>\n",
       "      <th>FCF before Terminal Value</th>\n",
       "      <td>0</td>\n",
       "      <td>22,218</td>\n",
       "      <td>215,987</td>\n",
       "      <td>328,479</td>\n",
       "    </tr>\n",
       "    <tr>\n",
       "      <th>Terminal Value</th>\n",
       "      <td>nan</td>\n",
       "      <td>nan</td>\n",
       "      <td>nan</td>\n",
       "      <td>3,225,064</td>\n",
       "    </tr>\n",
       "  </tbody>\n",
       "</table>\n",
       "</div>"
      ],
      "text/plain": [
       "                            Year 0     1981     1982      1983\n",
       "Revenue                          0  288,000  799,350 1,181,700\n",
       "Operating Expenses               0 -242,774 -308,991  -410,010\n",
       "Adj. for Extra Exec. Comp.       0   -2,500  -75,000  -140,000\n",
       "EBIT                             0   42,726  415,359   631,690\n",
       "EBIAT                            0   22,218  215,987   328,479\n",
       "FCF before Terminal Value        0   22,218  215,987   328,479\n",
       "Terminal Value                 nan      nan      nan 3,225,064"
      ]
     },
     "execution_count": 14,
     "metadata": {},
     "output_type": "execute_result"
    }
   ],
   "source": [
    "print('VALUATION CONDITIONAL UPON SURVIVAL')\n",
    "print('___________________________________\\n')\n",
    "\n",
    "print('U.S. Corporate Tax Rate =   %s\\n' % '{:.0%}'.format(calc(corp_tax_rate)))\n",
    "\n",
    "print('Risk-Free Rate =   %s' % '{:.0%}'.format(calc(risk_free_rate)))\n",
    "print('Public-Market Return =   %s\\n' % '{:.0%}'.format(calc(pub_mkt_return)))\n",
    "\n",
    "print('Stabilized Beta =   %.0fx' % calc(stabilized_beta))\n",
    "print('Long-Term Discount Rate =   %s\\n' % '{:.0%}'.format(calc(long_term_discount_rate)))\n",
    "\n",
    "print('PEVC Beta =   %.0fx' % calc(pevc_beta))\n",
    "print('Discount Rate for Pro-Forma Period =   %s\\n' % '{:.0%}'.format(calc(pro_forma_period_discount_rate)))\n",
    "\n",
    "print('Valuation of FCF before TV =   $%.2f MM' % (calc(val_of_FCF_before_TV) / 1e6))\n",
    "print('Valuation of TV =   $%.2f MM' % (calc(val_of_terminal_val) / 1e6))\n",
    "print('\\nVALUATION | survival =   $%.2f MM\\n' % (calc(val) / 1e6))\n",
    "\n",
    "print('Detailed Cash Flow Calcs:')\n",
    "val_calcs_df = pandas.DataFrame(index=['Year 0'] + range(YEAR_0 + 1, FINAL_PRO_FORMA_YEAR + 1))\n",
    "# ref: http://pandas.pydata.org/pandas-docs/stable/generated/pandas.set_option.html\n",
    "pandas.options.display.float_format = '{:,.0f}'.format\n",
    "\n",
    "val_calcs_df['Revenue'] = calc(Rev)\n",
    "val_calcs_df['Operating Expenses'] = calc(OpEx___neg)\n",
    "val_calcs_df['Adj. for Extra Exec. Comp.'] = calc(extra_exec_comp___neg)\n",
    "val_calcs_df['EBIT'] = calc(EBIT)\n",
    "val_calcs_df['EBIAT'] = calc(EBIAT)\n",
    "val_calcs_df['FCF before Terminal Value'] = calc(FCF_before_TV)\n",
    "val_calcs_df['Terminal Value'] = numpy.nan\n",
    "val_calcs_df.loc[FINAL_PRO_FORMA_YEAR, 'Terminal Value'] = calc(TerminalValue)\n",
    "\n",
    "val_calcs_df.T"
   ]
  }
 ],
 "metadata": {
  "kernelspec": {
   "display_name": "Python 2",
   "language": "python",
   "name": "python2"
  },
  "language_info": {
   "codemirror_mode": {
    "name": "ipython",
    "version": 2
   },
   "file_extension": ".py",
   "mimetype": "text/x-python",
   "name": "python",
   "nbconvert_exporter": "python",
   "pygments_lexer": "ipython2",
   "version": "2.7.11"
  },
  "latex_envs": {
   "bibliofile": "biblio.bib",
   "cite_by": "apalike",
   "current_citInitial": 1,
   "eqLabelWithNumbers": true,
   "eqNumInitial": 0
  },
  "toc": {
   "toc_cell": true,
   "toc_number_sections": true,
   "toc_section_display": "block",
   "toc_threshold": 4,
   "toc_window_display": true
  },
  "toc_position": {
   "left": "1330.21px",
   "right": "20px",
   "top": "121.997px",
   "width": "187px"
  }
 },
 "nbformat": 4,
 "nbformat_minor": 0
}
