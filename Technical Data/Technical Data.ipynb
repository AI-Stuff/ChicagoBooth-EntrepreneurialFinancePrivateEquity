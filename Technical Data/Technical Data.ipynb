{
 "cells": [
  {
   "cell_type": "markdown",
   "metadata": {
    "toc": "true"
   },
   "source": [
    "# Table of Contents\n",
    " <p><div class=\"lev1\"><a href=\"#Import-Python-modules\"><span class=\"toc-item-num\">1 - </span>Import <code>Python</code> modules</a></div><div class=\"lev1\"><a href=\"#Set-CONSTANTS\"><span class=\"toc-item-num\">2 - </span>Set <em>CONSTANTS</em></a></div><div class=\"lev1\"><a href=\"#Discount-Rates\"><span class=\"toc-item-num\">3 - </span>Discount Rates</a></div><div class=\"lev1\"><a href=\"#Technical-Data-Corp.-valuation\"><span class=\"toc-item-num\">4 - </span>Technical Data Corp. valuation</a></div>"
   ]
  },
  {
   "cell_type": "markdown",
   "metadata": {},
   "source": [
    "# Import `Python` modules"
   ]
  },
  {
   "cell_type": "code",
   "execution_count": 1,
   "metadata": {
    "collapsed": false
   },
   "outputs": [],
   "source": [
    "from __future__ import print_function\n",
    "import numpy\n",
    "import pandas"
   ]
  },
  {
   "cell_type": "markdown",
   "metadata": {},
   "source": [
    "# Set _CONSTANTS_"
   ]
  },
  {
   "cell_type": "code",
   "execution_count": 2,
   "metadata": {
    "collapsed": false
   },
   "outputs": [],
   "source": [
    "# U.S. Corporate Tax rate\n",
    "US_CORP_TAX_RATE = .48\n",
    "\n",
    "# Risk-Free Rate\n",
    "RISK_FREE_RATE = .11\n",
    "\n",
    "# Public Market Risk Premium\n",
    "PUB_MKT_RISK_PREM = .08\n",
    "\n",
    "# CAPM Betas\n",
    "PUB_MKT_BETA_FOR_FINANCIAL_SECTOR = 1.   # assumed in line with overall equity market\n",
    "PEVC_BETA_FOR_PRO_FORMA_PERIOD = 2."
   ]
  },
  {
   "cell_type": "markdown",
   "metadata": {},
   "source": [
    "# Discount Rates"
   ]
  },
  {
   "cell_type": "markdown",
   "metadata": {},
   "source": [
    "Discount Rate for the _pro forma_ start-up period:"
   ]
  },
  {
   "cell_type": "code",
   "execution_count": 3,
   "metadata": {
    "collapsed": false
   },
   "outputs": [
    {
     "data": {
      "text/plain": [
       "0.27"
      ]
     },
     "execution_count": 3,
     "metadata": {},
     "output_type": "execute_result"
    }
   ],
   "source": [
    "pro_forma_period_discount_rate = \\\n",
    "    RISK_FREE_RATE + PEVC_BETA_FOR_PRO_FORMA_PERIOD * PUB_MKT_RISK_PREM\n",
    "    \n",
    "pro_forma_period_discount_rate"
   ]
  },
  {
   "cell_type": "markdown",
   "metadata": {},
   "source": [
    "Long-term Discount Rate:"
   ]
  },
  {
   "cell_type": "code",
   "execution_count": 4,
   "metadata": {
    "collapsed": false
   },
   "outputs": [
    {
     "data": {
      "text/plain": [
       "0.19"
      ]
     },
     "execution_count": 4,
     "metadata": {},
     "output_type": "execute_result"
    }
   ],
   "source": [
    "long_term_discount_rate = \\\n",
    "    RISK_FREE_RATE + PUB_MKT_BETA_FOR_FINANCIAL_SECTOR * PUB_MKT_RISK_PREM\n",
    "    \n",
    "long_term_discount_rate"
   ]
  },
  {
   "cell_type": "markdown",
   "metadata": {},
   "source": [
    "# Technical Data Corp. valuation"
   ]
  },
  {
   "cell_type": "code",
   "execution_count": 5,
   "metadata": {
    "collapsed": false
   },
   "outputs": [],
   "source": [
    "# initiate Valuation Calcs data frame\n",
    "val_calcs_df = pandas.DataFrame(index=[1981, 1982, 1983])"
   ]
  },
  {
   "cell_type": "markdown",
   "metadata": {},
   "source": [
    "Enter provided Revenue, Operating Expenses & Net Operating Profit projections:"
   ]
  },
  {
   "cell_type": "code",
   "execution_count": 6,
   "metadata": {
    "collapsed": false
   },
   "outputs": [
    {
     "data": {
      "text/html": [
       "<div>\n",
       "<table border=\"1\" class=\"dataframe\">\n",
       "  <thead>\n",
       "    <tr style=\"text-align: right;\">\n",
       "      <th></th>\n",
       "      <th>1981</th>\n",
       "      <th>1982</th>\n",
       "      <th>1983</th>\n",
       "    </tr>\n",
       "  </thead>\n",
       "  <tbody>\n",
       "    <tr>\n",
       "      <th>Rev</th>\n",
       "      <td>288000</td>\n",
       "      <td>799350</td>\n",
       "      <td>1181700</td>\n",
       "    </tr>\n",
       "    <tr>\n",
       "      <th>OpEx</th>\n",
       "      <td>-242774</td>\n",
       "      <td>-308991</td>\n",
       "      <td>-410010</td>\n",
       "    </tr>\n",
       "    <tr>\n",
       "      <th>NetOpPL</th>\n",
       "      <td>45226</td>\n",
       "      <td>490359</td>\n",
       "      <td>771690</td>\n",
       "    </tr>\n",
       "  </tbody>\n",
       "</table>\n",
       "</div>"
      ],
      "text/plain": [
       "           1981    1982     1983\n",
       "Rev      288000  799350  1181700\n",
       "OpEx    -242774 -308991  -410010\n",
       "NetOpPL   45226  490359   771690"
      ]
     },
     "execution_count": 6,
     "metadata": {},
     "output_type": "execute_result"
    }
   ],
   "source": [
    "val_calcs_df['Rev'] = \\\n",
    "    [288000, 799350, 1181700]\n",
    "val_calcs_df['OpEx'] = \\\n",
    "    [-242774, -308991, -410010]\n",
    "\n",
    "# original Net Operating Profit in the pro forma statements\n",
    "val_calcs_df['NetOpPL'] = \\\n",
    "    val_calcs_df.Rev + \\\n",
    "    val_calcs_df.OpEx\n",
    "\n",
    "val_calcs_df.T"
   ]
  },
  {
   "cell_type": "markdown",
   "metadata": {
    "collapsed": false
   },
   "source": [
    "Take into account the proposed compensation to new executives to arrive at projected EBIT:"
   ]
  },
  {
   "cell_type": "code",
   "execution_count": 7,
   "metadata": {
    "collapsed": false
   },
   "outputs": [
    {
     "data": {
      "text/html": [
       "<div>\n",
       "<table border=\"1\" class=\"dataframe\">\n",
       "  <thead>\n",
       "    <tr style=\"text-align: right;\">\n",
       "      <th></th>\n",
       "      <th>1981</th>\n",
       "      <th>1982</th>\n",
       "      <th>1983</th>\n",
       "    </tr>\n",
       "  </thead>\n",
       "  <tbody>\n",
       "    <tr>\n",
       "      <th>Rev</th>\n",
       "      <td>288000</td>\n",
       "      <td>799350</td>\n",
       "      <td>1181700</td>\n",
       "    </tr>\n",
       "    <tr>\n",
       "      <th>OpEx</th>\n",
       "      <td>-242774</td>\n",
       "      <td>-308991</td>\n",
       "      <td>-410010</td>\n",
       "    </tr>\n",
       "    <tr>\n",
       "      <th>NetOpPL</th>\n",
       "      <td>45226</td>\n",
       "      <td>490359</td>\n",
       "      <td>771690</td>\n",
       "    </tr>\n",
       "    <tr>\n",
       "      <th>new_exec_comp</th>\n",
       "      <td>-2500</td>\n",
       "      <td>-75000</td>\n",
       "      <td>-140000</td>\n",
       "    </tr>\n",
       "    <tr>\n",
       "      <th>EBIT</th>\n",
       "      <td>42726</td>\n",
       "      <td>415359</td>\n",
       "      <td>631690</td>\n",
       "    </tr>\n",
       "  </tbody>\n",
       "</table>\n",
       "</div>"
      ],
      "text/plain": [
       "                 1981    1982     1983\n",
       "Rev            288000  799350  1181700\n",
       "OpEx          -242774 -308991  -410010\n",
       "NetOpPL         45226  490359   771690\n",
       "new_exec_comp   -2500  -75000  -140000\n",
       "EBIT            42726  415359   631690"
      ]
     },
     "execution_count": 7,
     "metadata": {},
     "output_type": "execute_result"
    }
   ],
   "source": [
    "# calculate EBIT after compensation for additional executives\n",
    "val_calcs_df['new_exec_comp'] = \\\n",
    "    [-2500, -75000, -140000]\n",
    "val_calcs_df['EBIT'] = \\\n",
    "    val_calcs_df.NetOpPL + \\\n",
    "    val_calcs_df.new_exec_comp\n",
    "\n",
    "val_calcs_df.T"
   ]
  },
  {
   "cell_type": "markdown",
   "metadata": {
    "collapsed": false
   },
   "source": [
    "Calculate EBIAT by using the U.S. corporate tax rate:"
   ]
  },
  {
   "cell_type": "code",
   "execution_count": 8,
   "metadata": {
    "collapsed": false
   },
   "outputs": [
    {
     "data": {
      "text/html": [
       "<div>\n",
       "<table border=\"1\" class=\"dataframe\">\n",
       "  <thead>\n",
       "    <tr style=\"text-align: right;\">\n",
       "      <th></th>\n",
       "      <th>1981</th>\n",
       "      <th>1982</th>\n",
       "      <th>1983</th>\n",
       "    </tr>\n",
       "  </thead>\n",
       "  <tbody>\n",
       "    <tr>\n",
       "      <th>Rev</th>\n",
       "      <td>288000.00</td>\n",
       "      <td>799350.00</td>\n",
       "      <td>1181700.0</td>\n",
       "    </tr>\n",
       "    <tr>\n",
       "      <th>OpEx</th>\n",
       "      <td>-242774.00</td>\n",
       "      <td>-308991.00</td>\n",
       "      <td>-410010.0</td>\n",
       "    </tr>\n",
       "    <tr>\n",
       "      <th>NetOpPL</th>\n",
       "      <td>45226.00</td>\n",
       "      <td>490359.00</td>\n",
       "      <td>771690.0</td>\n",
       "    </tr>\n",
       "    <tr>\n",
       "      <th>new_exec_comp</th>\n",
       "      <td>-2500.00</td>\n",
       "      <td>-75000.00</td>\n",
       "      <td>-140000.0</td>\n",
       "    </tr>\n",
       "    <tr>\n",
       "      <th>EBIT</th>\n",
       "      <td>42726.00</td>\n",
       "      <td>415359.00</td>\n",
       "      <td>631690.0</td>\n",
       "    </tr>\n",
       "    <tr>\n",
       "      <th>EBIAT</th>\n",
       "      <td>22217.52</td>\n",
       "      <td>215986.68</td>\n",
       "      <td>328478.8</td>\n",
       "    </tr>\n",
       "  </tbody>\n",
       "</table>\n",
       "</div>"
      ],
      "text/plain": [
       "                    1981       1982       1983\n",
       "Rev            288000.00  799350.00  1181700.0\n",
       "OpEx          -242774.00 -308991.00  -410010.0\n",
       "NetOpPL         45226.00  490359.00   771690.0\n",
       "new_exec_comp   -2500.00  -75000.00  -140000.0\n",
       "EBIT            42726.00  415359.00   631690.0\n",
       "EBIAT           22217.52  215986.68   328478.8"
      ]
     },
     "execution_count": 8,
     "metadata": {},
     "output_type": "execute_result"
    }
   ],
   "source": [
    "# calculate EBIAT\n",
    "val_calcs_df['EBIAT'] = \\\n",
    "    (1 - US_CORP_TAX_RATE) * val_calcs_df.EBIT\n",
    "    \n",
    "val_calcs_df.T"
   ]
  },
  {
   "cell_type": "markdown",
   "metadata": {
    "collapsed": false
   },
   "source": [
    "As the case provides no details on projected investments / divestments and changes in working capital, we assume the FCF before Terminal Value to equal the estimated EBIAT:"
   ]
  },
  {
   "cell_type": "code",
   "execution_count": 9,
   "metadata": {
    "collapsed": false
   },
   "outputs": [
    {
     "data": {
      "text/html": [
       "<div>\n",
       "<table border=\"1\" class=\"dataframe\">\n",
       "  <thead>\n",
       "    <tr style=\"text-align: right;\">\n",
       "      <th></th>\n",
       "      <th>1981</th>\n",
       "      <th>1982</th>\n",
       "      <th>1983</th>\n",
       "    </tr>\n",
       "  </thead>\n",
       "  <tbody>\n",
       "    <tr>\n",
       "      <th>Rev</th>\n",
       "      <td>288000.00</td>\n",
       "      <td>799350.00</td>\n",
       "      <td>1181700.0</td>\n",
       "    </tr>\n",
       "    <tr>\n",
       "      <th>OpEx</th>\n",
       "      <td>-242774.00</td>\n",
       "      <td>-308991.00</td>\n",
       "      <td>-410010.0</td>\n",
       "    </tr>\n",
       "    <tr>\n",
       "      <th>NetOpPL</th>\n",
       "      <td>45226.00</td>\n",
       "      <td>490359.00</td>\n",
       "      <td>771690.0</td>\n",
       "    </tr>\n",
       "    <tr>\n",
       "      <th>new_exec_comp</th>\n",
       "      <td>-2500.00</td>\n",
       "      <td>-75000.00</td>\n",
       "      <td>-140000.0</td>\n",
       "    </tr>\n",
       "    <tr>\n",
       "      <th>EBIT</th>\n",
       "      <td>42726.00</td>\n",
       "      <td>415359.00</td>\n",
       "      <td>631690.0</td>\n",
       "    </tr>\n",
       "    <tr>\n",
       "      <th>EBIAT</th>\n",
       "      <td>22217.52</td>\n",
       "      <td>215986.68</td>\n",
       "      <td>328478.8</td>\n",
       "    </tr>\n",
       "    <tr>\n",
       "      <th>FCF_before_TV</th>\n",
       "      <td>22217.52</td>\n",
       "      <td>215986.68</td>\n",
       "      <td>328478.8</td>\n",
       "    </tr>\n",
       "  </tbody>\n",
       "</table>\n",
       "</div>"
      ],
      "text/plain": [
       "                    1981       1982       1983\n",
       "Rev            288000.00  799350.00  1181700.0\n",
       "OpEx          -242774.00 -308991.00  -410010.0\n",
       "NetOpPL         45226.00  490359.00   771690.0\n",
       "new_exec_comp   -2500.00  -75000.00  -140000.0\n",
       "EBIT            42726.00  415359.00   631690.0\n",
       "EBIAT           22217.52  215986.68   328478.8\n",
       "FCF_before_TV   22217.52  215986.68   328478.8"
      ]
     },
     "execution_count": 9,
     "metadata": {},
     "output_type": "execute_result"
    }
   ],
   "source": [
    "val_calcs_df['FCF_before_TV'] = val_calcs_df.EBIAT\n",
    "\n",
    "val_calcs_df.T"
   ]
  },
  {
   "cell_type": "markdown",
   "metadata": {
    "collapsed": false
   },
   "source": [
    "Let's now estimate the Terminal Value using an assumed long-term growth rate:"
   ]
  },
  {
   "cell_type": "code",
   "execution_count": 10,
   "metadata": {
    "collapsed": false
   },
   "outputs": [
    {
     "data": {
      "text/html": [
       "<div>\n",
       "<table border=\"1\" class=\"dataframe\">\n",
       "  <thead>\n",
       "    <tr style=\"text-align: right;\">\n",
       "      <th></th>\n",
       "      <th>1981</th>\n",
       "      <th>1982</th>\n",
       "      <th>1983</th>\n",
       "    </tr>\n",
       "  </thead>\n",
       "  <tbody>\n",
       "    <tr>\n",
       "      <th>Rev</th>\n",
       "      <td>288000.00</td>\n",
       "      <td>799350.00</td>\n",
       "      <td>1181700.000000</td>\n",
       "    </tr>\n",
       "    <tr>\n",
       "      <th>OpEx</th>\n",
       "      <td>-242774.00</td>\n",
       "      <td>-308991.00</td>\n",
       "      <td>-410010.000000</td>\n",
       "    </tr>\n",
       "    <tr>\n",
       "      <th>NetOpPL</th>\n",
       "      <td>45226.00</td>\n",
       "      <td>490359.00</td>\n",
       "      <td>771690.000000</td>\n",
       "    </tr>\n",
       "    <tr>\n",
       "      <th>new_exec_comp</th>\n",
       "      <td>-2500.00</td>\n",
       "      <td>-75000.00</td>\n",
       "      <td>-140000.000000</td>\n",
       "    </tr>\n",
       "    <tr>\n",
       "      <th>EBIT</th>\n",
       "      <td>42726.00</td>\n",
       "      <td>415359.00</td>\n",
       "      <td>631690.000000</td>\n",
       "    </tr>\n",
       "    <tr>\n",
       "      <th>EBIAT</th>\n",
       "      <td>22217.52</td>\n",
       "      <td>215986.68</td>\n",
       "      <td>328478.800000</td>\n",
       "    </tr>\n",
       "    <tr>\n",
       "      <th>FCF_before_TV</th>\n",
       "      <td>22217.52</td>\n",
       "      <td>215986.68</td>\n",
       "      <td>328478.800000</td>\n",
       "    </tr>\n",
       "    <tr>\n",
       "      <th>TerminalVal</th>\n",
       "      <td>0.00</td>\n",
       "      <td>0.00</td>\n",
       "      <td>3225064.581818</td>\n",
       "    </tr>\n",
       "  </tbody>\n",
       "</table>\n",
       "</div>"
      ],
      "text/plain": [
       "                    1981       1982            1983\n",
       "Rev            288000.00  799350.00  1181700.000000\n",
       "OpEx          -242774.00 -308991.00  -410010.000000\n",
       "NetOpPL         45226.00  490359.00   771690.000000\n",
       "new_exec_comp   -2500.00  -75000.00  -140000.000000\n",
       "EBIT            42726.00  415359.00   631690.000000\n",
       "EBIAT           22217.52  215986.68   328478.800000\n",
       "FCF_before_TV   22217.52  215986.68   328478.800000\n",
       "TerminalVal         0.00       0.00  3225064.581818"
      ]
     },
     "execution_count": 10,
     "metadata": {},
     "output_type": "execute_result"
    }
   ],
   "source": [
    "terminal_year = 1983\n",
    "long_term_growth_rate = .08\n",
    "\n",
    "val_calcs_df['TerminalVal'] = 0\n",
    "val_calcs_df.loc[terminal_year, 'TerminalVal'] = \\\n",
    "    (1 + long_term_growth_rate) * \\\n",
    "    val_calcs_df.FCF_before_TV.loc[terminal_year] / \\\n",
    "    (long_term_discount_rate - long_term_growth_rate)\n",
    "    \n",
    "val_calcs_df.T"
   ]
  },
  {
   "cell_type": "markdown",
   "metadata": {},
   "source": [
    "Valuation of the company:"
   ]
  },
  {
   "cell_type": "code",
   "execution_count": 11,
   "metadata": {
    "collapsed": false
   },
   "outputs": [
    {
     "data": {
      "text/plain": [
       "'2,225,570.4941'"
      ]
     },
     "execution_count": 11,
     "metadata": {},
     "output_type": "execute_result"
    }
   ],
   "source": [
    "val_of_cash_flows_in_pro_forma_period = \\\n",
    "    numpy.npv(\n",
    "        rate=pro_forma_period_discount_rate,\n",
    "        values=[0] + val_calcs_df.FCF_before_TV.tolist())\n",
    "    \n",
    "val_of_terminal_val = \\\n",
    "    numpy.npv(\n",
    "        rate=long_term_discount_rate,\n",
    "        values=[0] + val_calcs_df.TerminalVal.tolist())\n",
    "    \n",
    "val = val_of_cash_flows_in_pro_forma_period + val_of_terminal_val\n",
    "\n",
    "'{:,}'.format(val)"
   ]
  }
 ],
 "metadata": {
  "kernelspec": {
   "display_name": "Python 2",
   "language": "python",
   "name": "python2"
  },
  "language_info": {
   "codemirror_mode": {
    "name": "ipython",
    "version": 2
   },
   "file_extension": ".py",
   "mimetype": "text/x-python",
   "name": "python",
   "nbconvert_exporter": "python",
   "pygments_lexer": "ipython2",
   "version": "2.7.11"
  },
  "latex_envs": {
   "bibliofile": "biblio.bib",
   "cite_by": "apalike",
   "current_citInitial": 1,
   "eqLabelWithNumbers": true,
   "eqNumInitial": 0
  },
  "toc": {
   "toc_cell": true,
   "toc_number_sections": true,
   "toc_section_display": "block",
   "toc_threshold": 4,
   "toc_window_display": true
  },
  "toc_position": {
   "left": "1330.21px",
   "right": "20px",
   "top": "121.997px",
   "width": "187px"
  }
 },
 "nbformat": 4,
 "nbformat_minor": 0
}
