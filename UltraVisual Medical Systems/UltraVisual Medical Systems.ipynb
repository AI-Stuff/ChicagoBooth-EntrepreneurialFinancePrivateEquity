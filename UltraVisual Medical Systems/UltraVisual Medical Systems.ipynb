{
 "cells": [
  {
   "cell_type": "markdown",
   "metadata": {
    "toc": "true"
   },
   "source": [
    "# Table of Contents\n",
    " <p><div class=\"lev1\"><a href=\"#Import-Python-modules\"><span class=\"toc-item-num\">1 - </span>Import <code>Python</code> modules</a></div><div class=\"lev1\"><a href=\"#Set-CONSTANTS\"><span class=\"toc-item-num\">2 - </span>Set <em>CONSTANTS</em></a></div><div class=\"lev1\"><a href=\"#List-Exogenous-SymPy-Variables\"><span class=\"toc-item-num\">3 - </span>List Exogenous <code>SymPy</code> Variables</a></div><div class=\"lev1\"><a href=\"#Structure-of-Model-for-Valuation-(conditional-upon-survival)\"><span class=\"toc-item-num\">4 - </span>Structure of Model for Valuation <em>(conditional upon survival)</em></a></div><div class=\"lev1\"><a href=\"#Calculate-Actual-Values\"><span class=\"toc-item-num\">5 - </span>Calculate Actual Values</a></div>"
   ]
  },
  {
   "cell_type": "markdown",
   "metadata": {},
   "source": [
    "# Import `Python` modules"
   ]
  },
  {
   "cell_type": "code",
   "execution_count": 1,
   "metadata": {
    "collapsed": false
   },
   "outputs": [
    {
     "name": "stderr",
     "output_type": "stream",
     "text": [
      "Using gpu device 0: GeForce GT 750M\n"
     ]
    }
   ],
   "source": [
    "from __future__ import print_function\n",
    "import numpy\n",
    "import pandas\n",
    "from pprint import pprint\n",
    "import sympy\n",
    "\n",
    "from FinSymPy.Valuation import \\\n",
    "    terminal_value as tv, \\\n",
    "    present_value as pv, \\\n",
    "    net_present_value as npv\n",
    "    \n",
    "from HelpyFuncs.SymPy import sympy_eval_by_theano"
   ]
  },
  {
   "cell_type": "markdown",
   "metadata": {},
   "source": [
    "# Set _CONSTANTS_"
   ]
  },
  {
   "cell_type": "code",
   "execution_count": 2,
   "metadata": {
    "collapsed": false
   },
   "outputs": [],
   "source": [
    "# U.S. Corporate Tax rate\n",
    "US_CORP_TAX_RATE = .4\n",
    "\n",
    "# Risk-Free Rate\n",
    "RISK_FREE_RATE = .03\n",
    "\n",
    "# Public Market Return\n",
    "PUB_MKT_RETURN = .11\n",
    "\n",
    "# VC fee premium\n",
    "VC_FEE_PREM = .02   # .07\n",
    "\n",
    "# CAPM Betas\n",
    "PUB_MKT_BETA = 1.\n",
    "PEVC_BETA_FOR_PRO_FORMA_PERIOD = 2.\n",
    "\n",
    "# Long-Term Growth Rate\n",
    "LONG_TERM_GROWTH_RATE = .04\n",
    "\n",
    "# Year 0\n",
    "YEAR_0 = 2001\n",
    "\n",
    "# Number of Pro-Forma Years EXCLUDING Year 0\n",
    "NB_PRO_FORMA_YEARS = 4\n",
    "FINAL_PRO_FORMA_YEAR = YEAR_0 + NB_PRO_FORMA_YEARS"
   ]
  },
  {
   "cell_type": "markdown",
   "metadata": {},
   "source": [
    "# List Exogenous `SymPy` Variables"
   ]
  },
  {
   "cell_type": "code",
   "execution_count": 3,
   "metadata": {
    "collapsed": false
   },
   "outputs": [
    {
     "name": "stdout",
     "output_type": "stream",
     "text": [
      "EBIT variables:\n",
      " (EBIT_2001, EBIT_2002, EBIT_2003, EBIT_2004, EBIT_2005)\n",
      "\n",
      "Depreciation variables:\n",
      " (Depn_2001, Depn_2002, Depn_2003, Depn_2004, Depn_2005)\n",
      "\n",
      "Corporate Tax Rate variable:\n",
      " corp_tax_rate\n",
      "\n",
      "Long-Term Growth Rate variable:\n",
      " long_term_growth_rate\n",
      "\n",
      "Risk-Free Rate variable:\n",
      " risk_free_rate\n",
      "\n",
      "Public Market Return variable:\n",
      " pub_mkt_return\n",
      "\n",
      "Venture Capital Fee Premium variable:\n",
      " vc_fee_prem\n",
      "\n",
      "Stabilized Beta variable:\n",
      " stabilized_beta\n",
      "\n",
      "Private Equity / Venture Capital Beta variable:\n",
      " pevc_beta\n"
     ]
    }
   ],
   "source": [
    "# Cash Flow components\n",
    "EBIT = sympy.symbols(\n",
    "    'EBIT_%d:%d' % (YEAR_0, FINAL_PRO_FORMA_YEAR + 1))\n",
    "print('EBIT variables:\\n', EBIT)\n",
    "\n",
    "Depn = sympy.symbols(\n",
    "    'Depn_%d:%d' % (YEAR_0, FINAL_PRO_FORMA_YEAR + 1))\n",
    "print('\\nDepreciation variables:\\n', Depn)\n",
    "\n",
    "\n",
    "# Corporate Tax Rate\n",
    "corp_tax_rate = sympy.Symbol('corp_tax_rate')\n",
    "print('\\nCorporate Tax Rate variable:\\n', corp_tax_rate)\n",
    "\n",
    "\n",
    "# Long-Term Growth Rate\n",
    "long_term_growth_rate = sympy.Symbol('long_term_growth_rate')\n",
    "print('\\nLong-Term Growth Rate variable:\\n', long_term_growth_rate)\n",
    "\n",
    "\n",
    "# CAPM Paramaters\n",
    "risk_free_rate = sympy.Symbol('risk_free_rate')\n",
    "print('\\nRisk-Free Rate variable:\\n', risk_free_rate)\n",
    "\n",
    "pub_mkt_return = sympy.Symbol('pub_mkt_return')\n",
    "print('\\nPublic Market Return variable:\\n', pub_mkt_return)\n",
    "\n",
    "vc_fee_prem = sympy.Symbol('vc_fee_prem')\n",
    "print('\\nVenture Capital Fee Premium variable:\\n', vc_fee_prem)\n",
    "\n",
    "stabilized_beta = sympy.Symbol('stabilized_beta')\n",
    "print('\\nStabilized Beta variable:\\n', stabilized_beta)\n",
    "\n",
    "pevc_beta = sympy.Symbol('pevc_beta')\n",
    "print('\\nPrivate Equity / Venture Capital Beta variable:\\n', pevc_beta)\n",
    "\n",
    "\n",
    "# assemble all exogenous variables into a collection\n",
    "exo_vars = \\\n",
    "    EBIT + Depn + \\\n",
    "    (corp_tax_rate,\n",
    "     long_term_growth_rate,\n",
    "     vc_fee_prem,\n",
    "     risk_free_rate, pub_mkt_return,\n",
    "     stabilized_beta, pevc_beta)"
   ]
  },
  {
   "cell_type": "markdown",
   "metadata": {},
   "source": [
    "# Structure of Model for Valuation _(conditional upon survival)_"
   ]
  },
  {
   "cell_type": "markdown",
   "metadata": {},
   "source": [
    "EBIAT:"
   ]
  },
  {
   "cell_type": "code",
   "execution_count": 4,
   "metadata": {
    "collapsed": false
   },
   "outputs": [
    {
     "name": "stdout",
     "output_type": "stream",
     "text": [
      "EBIAT =\n",
      "[EBIT_2001 - corp_tax_rate*Max(0, EBIT_2001),\n",
      " EBIT_2002 - corp_tax_rate*Max(0, EBIT_2002),\n",
      " EBIT_2003 - corp_tax_rate*Max(0, EBIT_2003),\n",
      " EBIT_2004 - corp_tax_rate*Max(0, EBIT_2004),\n",
      " EBIT_2005 - corp_tax_rate*Max(0, EBIT_2005)]\n"
     ]
    }
   ],
   "source": [
    "EBIAT = map(\n",
    "    lambda x: x - corp_tax_rate * sympy.Max(x, 0),\n",
    "    EBIT)\n",
    "\n",
    "print('EBIAT =')\n",
    "pprint(EBIAT)"
   ]
  },
  {
   "cell_type": "markdown",
   "metadata": {},
   "source": [
    "Free Cash Flows before Terminal Value equal EBIAT:"
   ]
  },
  {
   "cell_type": "code",
   "execution_count": 5,
   "metadata": {
    "collapsed": false
   },
   "outputs": [
    {
     "name": "stdout",
     "output_type": "stream",
     "text": [
      "Free Cash Flows before Terminal Value =\n",
      "[Depn_2001 + EBIT_2001 - corp_tax_rate*Max(0, EBIT_2001),\n",
      " Depn_2002 + EBIT_2002 - corp_tax_rate*Max(0, EBIT_2002),\n",
      " Depn_2003 + EBIT_2003 - corp_tax_rate*Max(0, EBIT_2003),\n",
      " Depn_2004 + EBIT_2004 - corp_tax_rate*Max(0, EBIT_2004),\n",
      " Depn_2005 + EBIT_2005 - corp_tax_rate*Max(0, EBIT_2005)]\n"
     ]
    }
   ],
   "source": [
    "FCF_before_TV = map(\n",
    "    lambda x: reduce(lambda u, v: u + v, x),\n",
    "    zip(EBIAT, Depn))\n",
    "\n",
    "print('Free Cash Flows before Terminal Value =')\n",
    "pprint(FCF_before_TV)"
   ]
  },
  {
   "cell_type": "markdown",
   "metadata": {
    "collapsed": false
   },
   "source": [
    "Discount Rates:"
   ]
  },
  {
   "cell_type": "code",
   "execution_count": 6,
   "metadata": {
    "collapsed": false
   },
   "outputs": [
    {
     "name": "stdout",
     "output_type": "stream",
     "text": [
      "Pro-Forma Period Discount Rate =\n",
      " pevc_beta*(pub_mkt_return - risk_free_rate) + risk_free_rate + vc_fee_prem\n"
     ]
    }
   ],
   "source": [
    "pro_forma_period_discount_rate = \\\n",
    "    risk_free_rate + pevc_beta * (pub_mkt_return - risk_free_rate) + vc_fee_prem\n",
    "\n",
    "print(\n",
    "    'Pro-Forma Period Discount Rate =\\n',\n",
    "    pro_forma_period_discount_rate)"
   ]
  },
  {
   "cell_type": "code",
   "execution_count": 7,
   "metadata": {
    "collapsed": false
   },
   "outputs": [
    {
     "name": "stdout",
     "output_type": "stream",
     "text": [
      "Long-Term Discount Rate =\n",
      " risk_free_rate + stabilized_beta*(pub_mkt_return - risk_free_rate)\n"
     ]
    }
   ],
   "source": [
    "long_term_discount_rate = \\\n",
    "    risk_free_rate + stabilized_beta * (pub_mkt_return - risk_free_rate)\n",
    "    \n",
    "print(\n",
    "    'Long-Term Discount Rate =\\n',\n",
    "    long_term_discount_rate)"
   ]
  },
  {
   "cell_type": "markdown",
   "metadata": {
    "collapsed": false
   },
   "source": [
    "Terminal Value:"
   ]
  },
  {
   "cell_type": "code",
   "execution_count": 8,
   "metadata": {
    "collapsed": false
   },
   "outputs": [
    {
     "name": "stdout",
     "output_type": "stream",
     "text": [
      "Terminal Value =\n",
      " (long_term_growth_rate + 1)*(Depn_2005 + EBIT_2005 - corp_tax_rate*Max(0, EBIT_2005))/(-long_term_growth_rate + risk_free_rate + stabilized_beta*(pub_mkt_return - risk_free_rate))\n"
     ]
    }
   ],
   "source": [
    "TV = tv(FCF_before_TV[-1], long_term_discount_rate, long_term_growth_rate)\n",
    "\n",
    "print('Terminal Value =\\n', TV)"
   ]
  },
  {
   "cell_type": "markdown",
   "metadata": {},
   "source": [
    "Valuation:"
   ]
  },
  {
   "cell_type": "code",
   "execution_count": 9,
   "metadata": {
    "collapsed": false
   },
   "outputs": [
    {
     "name": "stdout",
     "output_type": "stream",
     "text": [
      "Valuation =\n",
      " (long_term_growth_rate + 1)*(Depn_2005 + EBIT_2005 - corp_tax_rate*Max(0, EBIT_2005))/((-long_term_growth_rate + risk_free_rate + stabilized_beta*(pub_mkt_return - risk_free_rate))*(risk_free_rate + stabilized_beta*(pub_mkt_return - risk_free_rate) + 1)**4) + (Depn_2002 + EBIT_2002 - corp_tax_rate*Max(0, EBIT_2002))/(pevc_beta*(pub_mkt_return - risk_free_rate) + risk_free_rate + vc_fee_prem + 1) + (Depn_2003 + EBIT_2003 - corp_tax_rate*Max(0, EBIT_2003))/(pevc_beta*(pub_mkt_return - risk_free_rate) + risk_free_rate + vc_fee_prem + 1)**2 + (Depn_2004 + EBIT_2004 - corp_tax_rate*Max(0, EBIT_2004))/(pevc_beta*(pub_mkt_return - risk_free_rate) + risk_free_rate + vc_fee_prem + 1)**3 + (Depn_2005 + EBIT_2005 - corp_tax_rate*Max(0, EBIT_2005))/(pevc_beta*(pub_mkt_return - risk_free_rate) + risk_free_rate + vc_fee_prem + 1)**4\n"
     ]
    }
   ],
   "source": [
    "val_of_FCF_before_TV = npv([0] + FCF_before_TV[1:], pro_forma_period_discount_rate)\n",
    "\n",
    "val_of_TV = pv(TV, long_term_discount_rate, NB_PRO_FORMA_YEARS)\n",
    "\n",
    "val = val_of_FCF_before_TV + val_of_TV\n",
    "\n",
    "print('Valuation =\\n', val)"
   ]
  },
  {
   "cell_type": "markdown",
   "metadata": {},
   "source": [
    "# Calculate Actual Values"
   ]
  },
  {
   "cell_type": "markdown",
   "metadata": {},
   "source": [
    "Import data:"
   ]
  },
  {
   "cell_type": "code",
   "execution_count": 10,
   "metadata": {
    "collapsed": false
   },
   "outputs": [
    {
     "data": {
      "text/html": [
       "<div>\n",
       "<table border=\"1\" class=\"dataframe\">\n",
       "  <thead>\n",
       "    <tr style=\"text-align: right;\">\n",
       "      <th></th>\n",
       "      <th>Revenue</th>\n",
       "      <th>COGS</th>\n",
       "      <th>Gross Margin</th>\n",
       "      <th>G&amp;A</th>\n",
       "      <th>Marketing_Sales_Expenses</th>\n",
       "      <th>Operating_Income</th>\n",
       "      <th>Depreciation</th>\n",
       "      <th>EBIT</th>\n",
       "      <th>Taxes</th>\n",
       "      <th>Net_Income</th>\n",
       "    </tr>\n",
       "    <tr>\n",
       "      <th>Year</th>\n",
       "      <th></th>\n",
       "      <th></th>\n",
       "      <th></th>\n",
       "      <th></th>\n",
       "      <th></th>\n",
       "      <th></th>\n",
       "      <th></th>\n",
       "      <th></th>\n",
       "      <th></th>\n",
       "      <th></th>\n",
       "    </tr>\n",
       "  </thead>\n",
       "  <tbody>\n",
       "    <tr>\n",
       "      <th>2,001</th>\n",
       "      <td>0</td>\n",
       "      <td>0</td>\n",
       "      <td>0</td>\n",
       "      <td>1,862,248</td>\n",
       "      <td>184,815</td>\n",
       "      <td>-2,047,063</td>\n",
       "      <td>22,615</td>\n",
       "      <td>-2,069,678</td>\n",
       "      <td>0</td>\n",
       "      <td>-2,069,678</td>\n",
       "    </tr>\n",
       "    <tr>\n",
       "      <th>2,002</th>\n",
       "      <td>3,541,750</td>\n",
       "      <td>345,000</td>\n",
       "      <td>3,196,750</td>\n",
       "      <td>4,132,783</td>\n",
       "      <td>1,278,700</td>\n",
       "      <td>-2,214,733</td>\n",
       "      <td>50,563</td>\n",
       "      <td>-2,265,296</td>\n",
       "      <td>0</td>\n",
       "      <td>-2,265,296</td>\n",
       "    </tr>\n",
       "    <tr>\n",
       "      <th>2,003</th>\n",
       "      <td>20,430,250</td>\n",
       "      <td>1,895,000</td>\n",
       "      <td>18,535,250</td>\n",
       "      <td>6,472,525</td>\n",
       "      <td>7,414,100</td>\n",
       "      <td>4,648,625</td>\n",
       "      <td>131,250</td>\n",
       "      <td>4,517,375</td>\n",
       "      <td>1,806,950</td>\n",
       "      <td>2,710,425</td>\n",
       "    </tr>\n",
       "    <tr>\n",
       "      <th>2,004</th>\n",
       "      <td>39,059,250</td>\n",
       "      <td>3,525,000</td>\n",
       "      <td>35,534,250</td>\n",
       "      <td>9,708,788</td>\n",
       "      <td>14,213,700</td>\n",
       "      <td>11,611,763</td>\n",
       "      <td>221,325</td>\n",
       "      <td>11,390,438</td>\n",
       "      <td>4,556,175</td>\n",
       "      <td>6,834,263</td>\n",
       "    </tr>\n",
       "    <tr>\n",
       "      <th>2,005</th>\n",
       "      <td>65,883,000</td>\n",
       "      <td>5,890,000</td>\n",
       "      <td>59,993,000</td>\n",
       "      <td>14,563,181</td>\n",
       "      <td>23,997,200</td>\n",
       "      <td>21,432,619</td>\n",
       "      <td>324,911</td>\n",
       "      <td>21,107,708</td>\n",
       "      <td>8,443,083</td>\n",
       "      <td>12,664,625</td>\n",
       "    </tr>\n",
       "  </tbody>\n",
       "</table>\n",
       "</div>"
      ],
      "text/plain": [
       "         Revenue      COGS  Gross Margin        G&A  Marketing_Sales_Expenses  \\\n",
       "Year                                                                            \n",
       "2,001          0         0             0  1,862,248                   184,815   \n",
       "2,002  3,541,750   345,000     3,196,750  4,132,783                 1,278,700   \n",
       "2,003 20,430,250 1,895,000    18,535,250  6,472,525                 7,414,100   \n",
       "2,004 39,059,250 3,525,000    35,534,250  9,708,788                14,213,700   \n",
       "2,005 65,883,000 5,890,000    59,993,000 14,563,181                23,997,200   \n",
       "\n",
       "       Operating_Income  Depreciation       EBIT     Taxes  Net_Income  \n",
       "Year                                                                    \n",
       "2,001        -2,047,063        22,615 -2,069,678         0  -2,069,678  \n",
       "2,002        -2,214,733        50,563 -2,265,296         0  -2,265,296  \n",
       "2,003         4,648,625       131,250  4,517,375 1,806,950   2,710,425  \n",
       "2,004        11,611,763       221,325 11,390,438 4,556,175   6,834,263  \n",
       "2,005        21,432,619       324,911 21,107,708 8,443,083  12,664,625  "
      ]
     },
     "execution_count": 10,
     "metadata": {},
     "output_type": "execute_result"
    }
   ],
   "source": [
    "ultra_visual_data_df = \\\n",
    "    pandas.read_csv(\n",
    "        'data/UltraVisual.csv',\n",
    "        index_col='Year',\n",
    "        dtype=float)\n",
    "\n",
    "pandas.options.display.float_format = '{:,.0f}'.format\n",
    "ultra_visual_data_df"
   ]
  },
  {
   "cell_type": "markdown",
   "metadata": {},
   "source": [
    "Exogenous Variables' values:"
   ]
  },
  {
   "cell_type": "code",
   "execution_count": 11,
   "metadata": {
    "collapsed": false
   },
   "outputs": [
    {
     "name": "stdout",
     "output_type": "stream",
     "text": [
      "{'Depn_2001': 22615.0,\n",
      " 'Depn_2002': 50563.0,\n",
      " 'Depn_2003': 131250.0,\n",
      " 'Depn_2004': 221325.0,\n",
      " 'Depn_2005': 324911.0,\n",
      " 'EBIT_2001': -2069678.0,\n",
      " 'EBIT_2002': -2265296.0,\n",
      " 'EBIT_2003': 4517375.0,\n",
      " 'EBIT_2004': 11390438.0,\n",
      " 'EBIT_2005': 21107708.0,\n",
      " 'corp_tax_rate': 0.4,\n",
      " 'long_term_growth_rate': 0.04,\n",
      " 'pevc_beta': 2.0,\n",
      " 'pub_mkt_return': 0.11,\n",
      " 'risk_free_rate': 0.03,\n",
      " 'stabilized_beta': 1.0,\n",
      " 'vc_fee_prem': 0.02}\n"
     ]
    }
   ],
   "source": [
    "exo_vars_values_dict = \\\n",
    "    dict(\n",
    "        corp_tax_rate=US_CORP_TAX_RATE,\n",
    "        risk_free_rate=RISK_FREE_RATE,\n",
    "        pub_mkt_return=PUB_MKT_RETURN,\n",
    "        vc_fee_prem=VC_FEE_PREM,\n",
    "        pevc_beta=PEVC_BETA_FOR_PRO_FORMA_PERIOD,\n",
    "        stabilized_beta=PUB_MKT_BETA,\n",
    "        long_term_growth_rate=LONG_TERM_GROWTH_RATE)\n",
    "    \n",
    "exo_vars_values_dict.update(\n",
    "    dict(\n",
    "        zip([i.name for i in EBIT],\n",
    "            ultra_visual_data_df.EBIT.tolist()) +\n",
    "        zip([i.name for i in Depn],\n",
    "            ultra_visual_data_df.Depreciation.tolist())))\n",
    "\n",
    "pprint(exo_vars_values_dict)"
   ]
  },
  {
   "cell_type": "markdown",
   "metadata": {},
   "source": [
    "Function to calculate values from `SymPy` expression:"
   ]
  },
  {
   "cell_type": "code",
   "execution_count": 12,
   "metadata": {
    "collapsed": true
   },
   "outputs": [],
   "source": [
    "def calc(x):\n",
    "    if isinstance(x, (list, tuple)):\n",
    "        return [float(calc(i)) for i in x]\n",
    "    else:\n",
    "        return float(sympy_eval_by_theano(x, symbols=exo_vars, **exo_vars_values_dict))"
   ]
  },
  {
   "cell_type": "markdown",
   "metadata": {},
   "source": [
    "Valuation Calculations:"
   ]
  },
  {
   "cell_type": "code",
   "execution_count": 13,
   "metadata": {
    "collapsed": false
   },
   "outputs": [
    {
     "name": "stdout",
     "output_type": "stream",
     "text": [
      "VALUATION CONDITIONAL UPON SURVIVAL\n",
      "___________________________________\n",
      "\n",
      "U.S. Corporate Tax Rate =   40%\n",
      "\n",
      "Risk-Free Rate =   3%\n",
      "Public-Market Return =   11%\n",
      "\n",
      "VC Fee Premium =   2%\n",
      "\n",
      "Stabilized Beta =   1x\n",
      "Long-Term Discount Rate =   11%\n",
      "\n",
      "PEVC Beta =   2x\n",
      "Discount Rate for Pro-Forma Period =   21%\n",
      "\n",
      "Valuation of FCF before TV =   $10.15 MM\n",
      "Valuation of TV =   $127.13 MM\n",
      "\n",
      "VALUATION | survival =   $137.28 MM\n",
      "\n",
      "Detailed Cash Flow Calcs:\n"
     ]
    },
    {
     "data": {
      "text/html": [
       "<div>\n",
       "<table border=\"1\" class=\"dataframe\">\n",
       "  <thead>\n",
       "    <tr style=\"text-align: right;\">\n",
       "      <th></th>\n",
       "      <th>Year 0</th>\n",
       "      <th>2002</th>\n",
       "      <th>2003</th>\n",
       "      <th>2004</th>\n",
       "      <th>2005</th>\n",
       "    </tr>\n",
       "  </thead>\n",
       "  <tbody>\n",
       "    <tr>\n",
       "      <th>EBIT</th>\n",
       "      <td>-2,069,678</td>\n",
       "      <td>-2,265,296</td>\n",
       "      <td>4,517,375</td>\n",
       "      <td>11,390,438</td>\n",
       "      <td>21,107,708</td>\n",
       "    </tr>\n",
       "    <tr>\n",
       "      <th>EBIAT</th>\n",
       "      <td>-2,069,678</td>\n",
       "      <td>-2,265,296</td>\n",
       "      <td>2,710,425</td>\n",
       "      <td>6,834,262</td>\n",
       "      <td>12,664,625</td>\n",
       "    </tr>\n",
       "    <tr>\n",
       "      <th>Depreciation</th>\n",
       "      <td>22,615</td>\n",
       "      <td>50,563</td>\n",
       "      <td>131,250</td>\n",
       "      <td>221,325</td>\n",
       "      <td>324,911</td>\n",
       "    </tr>\n",
       "    <tr>\n",
       "      <th>FCF before Terminal Value</th>\n",
       "      <td>-2,047,063</td>\n",
       "      <td>-2,214,733</td>\n",
       "      <td>2,841,675</td>\n",
       "      <td>7,055,588</td>\n",
       "      <td>12,989,537</td>\n",
       "    </tr>\n",
       "    <tr>\n",
       "      <th>Terminal Value</th>\n",
       "      <td>nan</td>\n",
       "      <td>nan</td>\n",
       "      <td>nan</td>\n",
       "      <td>nan</td>\n",
       "      <td>192,987,408</td>\n",
       "    </tr>\n",
       "  </tbody>\n",
       "</table>\n",
       "</div>"
      ],
      "text/plain": [
       "                              Year 0       2002      2003       2004  \\\n",
       "EBIT                      -2,069,678 -2,265,296 4,517,375 11,390,438   \n",
       "EBIAT                     -2,069,678 -2,265,296 2,710,425  6,834,262   \n",
       "Depreciation                  22,615     50,563   131,250    221,325   \n",
       "FCF before Terminal Value -2,047,063 -2,214,733 2,841,675  7,055,588   \n",
       "Terminal Value                   nan        nan       nan        nan   \n",
       "\n",
       "                                 2005  \n",
       "EBIT                       21,107,708  \n",
       "EBIAT                      12,664,625  \n",
       "Depreciation                  324,911  \n",
       "FCF before Terminal Value  12,989,537  \n",
       "Terminal Value            192,987,408  "
      ]
     },
     "execution_count": 13,
     "metadata": {},
     "output_type": "execute_result"
    }
   ],
   "source": [
    "print('VALUATION CONDITIONAL UPON SURVIVAL')\n",
    "print('___________________________________\\n')\n",
    "\n",
    "print('U.S. Corporate Tax Rate =   %s\\n' % '{:.0%}'.format(calc(corp_tax_rate)))\n",
    "\n",
    "print('Risk-Free Rate =   %s' % '{:.0%}'.format(calc(risk_free_rate)))\n",
    "print('Public-Market Return =   %s\\n' % '{:.0%}'.format(calc(pub_mkt_return)))\n",
    "print('VC Fee Premium =   %s\\n' % '{:.0%}'.format(calc(vc_fee_prem)))\n",
    "\n",
    "print('Stabilized Beta =   %.0fx' % calc(stabilized_beta))\n",
    "print('Long-Term Discount Rate =   %s\\n' % '{:.0%}'.format(calc(long_term_discount_rate)))\n",
    "\n",
    "print('PEVC Beta =   %.0fx' % calc(pevc_beta))\n",
    "print('Discount Rate for Pro-Forma Period =   %s\\n' % '{:.0%}'.format(calc(pro_forma_period_discount_rate)))\n",
    "\n",
    "print('Valuation of FCF before TV =   $%.2f MM' % (calc(val_of_FCF_before_TV) / 1e6))\n",
    "print('Valuation of TV =   $%.2f MM' % (calc(val_of_TV) / 1e6))\n",
    "print('\\nVALUATION | survival =   $%.2f MM\\n' % (calc(val) / 1e6))\n",
    "\n",
    "print('Detailed Cash Flow Calcs:')\n",
    "val_calcs_df = pandas.DataFrame(index=['Year 0'] + range(YEAR_0 + 1, FINAL_PRO_FORMA_YEAR + 1))\n",
    "# ref: http://pandas.pydata.org/pandas-docs/stable/generated/pandas.set_option.html\n",
    "pandas.options.display.float_format = '{:,.0f}'.format\n",
    "\n",
    "val_calcs_df['EBIT'] = calc(EBIT)\n",
    "val_calcs_df['EBIAT'] = calc(EBIAT)\n",
    "val_calcs_df['Depreciation'] = calc(Depn)\n",
    "val_calcs_df['FCF before Terminal Value'] = calc(FCF_before_TV)\n",
    "val_calcs_df['Terminal Value'] = numpy.nan\n",
    "val_calcs_df.loc[FINAL_PRO_FORMA_YEAR, 'Terminal Value'] = calc(TV)\n",
    "\n",
    "val_calcs_df.T"
   ]
  }
 ],
 "metadata": {
  "kernelspec": {
   "display_name": "Python 2",
   "language": "python",
   "name": "python2"
  },
  "language_info": {
   "codemirror_mode": {
    "name": "ipython",
    "version": 2
   },
   "file_extension": ".py",
   "mimetype": "text/x-python",
   "name": "python",
   "nbconvert_exporter": "python",
   "pygments_lexer": "ipython2",
   "version": "2.7.11"
  },
  "latex_envs": {
   "bibliofile": "biblio.bib",
   "cite_by": "apalike",
   "current_citInitial": 1,
   "eqLabelWithNumbers": true,
   "eqNumInitial": 0
  },
  "toc": {
   "toc_cell": true,
   "toc_number_sections": true,
   "toc_section_display": "block",
   "toc_threshold": 4,
   "toc_window_display": true
  },
  "toc_position": {
   "left": "1330.21px",
   "right": "20px",
   "top": "121.997px",
   "width": "187px"
  }
 },
 "nbformat": 4,
 "nbformat_minor": 0
}
