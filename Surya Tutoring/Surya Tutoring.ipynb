{
 "cells": [
  {
   "cell_type": "markdown",
   "metadata": {
    "toc": "true"
   },
   "source": [
    "# Table of Contents\n",
    " <p><div class=\"lev1\"><a href=\"#Import-Python-modules\"><span class=\"toc-item-num\">1 - </span>Import <code>Python</code> modules</a></div><div class=\"lev1\"><a href=\"#Set-CONSTANTS\"><span class=\"toc-item-num\">2 - </span>Set <em>CONSTANTS</em></a></div><div class=\"lev1\"><a href=\"#Create-Valuation-Model\"><span class=\"toc-item-num\">3 - </span>Create Valuation Model</a></div><div class=\"lev1\"><a href=\"#Import-Data\"><span class=\"toc-item-num\">4 - </span>Import Data</a></div><div class=\"lev1\"><a href=\"#Set-Outputs-to-Display\"><span class=\"toc-item-num\">5 - </span>Set Outputs to Display</a></div><div class=\"lev1\"><a href=\"#Run-Valuation-Model\"><span class=\"toc-item-num\">6 - </span>Run Valuation Model</a></div>"
   ]
  },
  {
   "cell_type": "markdown",
   "metadata": {},
   "source": [
    "# Import `Python` modules"
   ]
  },
  {
   "cell_type": "code",
   "execution_count": 1,
   "metadata": {
    "collapsed": false
   },
   "outputs": [
    {
     "name": "stderr",
     "output_type": "stream",
     "text": [
      "WARNING (theano.sandbox.cuda): CUDA is installed, but device gpu is not available  (error: Unable to get the number of gpus available: CUDA driver version is insufficient for CUDA runtime version)\n",
      "WARNING:theano.sandbox.cuda:CUDA is installed, but device gpu is not available  (error: Unable to get the number of gpus available: CUDA driver version is insufficient for CUDA runtime version)\n"
     ]
    }
   ],
   "source": [
    "from __future__ import print_function\n",
    "import numpy\n",
    "import pandas\n",
    "\n",
    "from CorpFin.Valuation import UnlevValModel\n",
    "from HelpyFuncs.Print import print_live_in_ipython"
   ]
  },
  {
   "cell_type": "code",
   "execution_count": 2,
   "metadata": {
    "collapsed": true
   },
   "outputs": [],
   "source": [
    "print_live_in_ipython()"
   ]
  },
  {
   "cell_type": "markdown",
   "metadata": {},
   "source": [
    "# Set _CONSTANTS_"
   ]
  },
  {
   "cell_type": "code",
   "execution_count": 3,
   "metadata": {
    "collapsed": false
   },
   "outputs": [],
   "source": [
    "# Year 0\n",
    "YEAR_0 = 2009\n",
    "\n",
    "# Number of Pro-Forma Years EXCLUDING Year 0\n",
    "NB_PRO_FORMA_YEARS = 5\n",
    "\n",
    "# U.S. Corporate Tax rate\n",
    "CORP_TAX_RATE = .35\n",
    "\n",
    "# CAPM Parameters\n",
    "RISK_FREE_RATE = .0733\n",
    "PUBLIC_MARKET_PREMIUM = .08\n",
    "PRO_FORMA_PERIOD_BETA = 2.\n",
    "LONG_TERM_BETA = 1.\n",
    "VC_FEE_PREMIUM = 0.0767\n",
    "\n",
    "# Long-Term Growth Rate\n",
    "LONG_TERM_GROWTH_RATE = .04"
   ]
  },
  {
   "cell_type": "markdown",
   "metadata": {},
   "source": [
    "# Create Valuation Model"
   ]
  },
  {
   "cell_type": "code",
   "execution_count": 4,
   "metadata": {
    "collapsed": false
   },
   "outputs": [
    {
     "name": "stdout",
     "output_type": "stream",
     "text": [
      "Compiling:\n",
      "    PublicMarketPremium... done after 0:00:00 (0:00:00 so far)\n",
      "    ProFormaPeriodAssetDiscountRate... done after 0:00:00 (0:00:00 so far)\n",
      "    ProFormaPeriodDiscountRate... done after 0:00:00 (0:00:00 so far)\n",
      "    StabilizedDiscountRate... done after 0:00:00 (0:00:00 so far)\n",
      "    Revenue... done after 0:00:00 (0:00:00 so far)\n",
      "    RevenueChange... done after 0:00:00 (0:00:00 so far)\n",
      "    RevenueGrowth... done after 0:00:00 (0:00:00 so far)\n",
      "    OpEx... done after 0:00:00 (0:00:00 so far)\n",
      "    OpEx_over_Revenue... done after 0:00:00 (0:00:00 so far)\n",
      "    OpExGrowth... done after 0:00:00 (0:00:00 so far)\n",
      "    EBIT... done after 0:00:00 (0:00:01 so far)\n",
      "    EBITMargin... done after 0:00:00 (0:00:01 so far)\n",
      "    EBITGrowth... done after 0:00:00 (0:00:01 so far)\n",
      "    EBIAT... done after 0:00:00 (0:00:01 so far)\n",
      "    FA... done after 0:00:00 (0:00:02 so far)\n",
      "    FA_over_Revenue... done after 0:00:00 (0:00:02 so far)\n",
      "    FAGrowth... done after 0:00:00 (0:00:02 so far)\n",
      "    Depreciation... done after 0:00:00 (0:00:03 so far)\n",
      "    Depreciation_over_prevFA... done after 0:00:00 (0:00:03 so far)\n",
      "    CapEx... done after 0:00:01 (0:00:04 so far)\n",
      "    CapEx_over_Revenue... done after 0:00:01 (0:00:06 so far)\n",
      "    CapEx_over_RevenueChange... done after 0:00:01 (0:00:07 so far)\n",
      "    CapExGrowth... done after 0:00:02 (0:00:09 so far)\n",
      "    NWC... done after 0:00:00 (0:00:09 so far)\n",
      "    NWC_over_Revenue... done after 0:00:00 (0:00:10 so far)\n",
      "    NWCGrowth... done after 0:00:00 (0:00:10 so far)\n",
      "    NWCChange... done after 0:00:00 (0:00:11 so far)\n",
      "    NWCChange_over_Revenue... done after 0:00:00 (0:00:11 so far)\n",
      "    NWCChange_over_RevenueChange... done after 0:00:00 (0:00:12 so far)\n",
      "    FCF... done after 0:00:02 (0:00:14 so far)\n",
      "    TV... done after 0:00:00 (0:00:15 so far)\n",
      "    TV_RevenueMultiple... done after 0:00:00 (0:00:16 so far)\n",
      "    TV_EBITMultiple... done after 0:00:00 (0:00:17 so far)\n",
      "    Unlev_Val... done after 0:00:04 (0:00:22 so far)\n",
      "done after 0:00:22\n"
     ]
    }
   ],
   "source": [
    "model = \\\n",
    "    UnlevValModel(\n",
    "        venture_name='SuryaTutoring',\n",
    "        year_0=YEAR_0,\n",
    "        nb_pro_forma_years_excl_0=NB_PRO_FORMA_YEARS)"
   ]
  },
  {
   "cell_type": "markdown",
   "metadata": {},
   "source": [
    "# Import Data"
   ]
  },
  {
   "cell_type": "code",
   "execution_count": 5,
   "metadata": {
    "collapsed": false
   },
   "outputs": [
    {
     "data": {
      "text/html": [
       "<div>\n",
       "<table border=\"1\" class=\"dataframe\">\n",
       "  <thead>\n",
       "    <tr style=\"text-align: right;\">\n",
       "      <th>Year</th>\n",
       "      <th>2010</th>\n",
       "      <th>2011</th>\n",
       "      <th>2012</th>\n",
       "      <th>2013</th>\n",
       "      <th>2014</th>\n",
       "    </tr>\n",
       "  </thead>\n",
       "  <tbody>\n",
       "    <tr>\n",
       "      <th>EBIT</th>\n",
       "      <td>56.39</td>\n",
       "      <td>86.2225</td>\n",
       "      <td>130.198225</td>\n",
       "      <td>168.140515</td>\n",
       "      <td>217.638938</td>\n",
       "    </tr>\n",
       "  </tbody>\n",
       "</table>\n",
       "</div>"
      ],
      "text/plain": [
       "Year   2010     2011        2012        2013        2014\n",
       "EBIT  56.39  86.2225  130.198225  168.140515  217.638938"
      ]
     },
     "execution_count": 5,
     "metadata": {},
     "output_type": "execute_result"
    }
   ],
   "source": [
    "data_df = \\\n",
    "    pandas.read_csv(\n",
    "        'data/Surya Tutoring.csv',\n",
    "        index_col='Year')\n",
    "    \n",
    "data_df.T"
   ]
  },
  {
   "cell_type": "markdown",
   "metadata": {},
   "source": [
    "# Set Outputs to Display"
   ]
  },
  {
   "cell_type": "code",
   "execution_count": 6,
   "metadata": {
    "collapsed": true
   },
   "outputs": [],
   "source": [
    "outputs = \\\n",
    "    ['RiskFreeRate', 'PublicMarketPremium',\n",
    "     ' ',\n",
    "     'ProFormaPeriodBeta', 'ProFormaPeriodDiscountRate',\n",
    "     '  ',\n",
    "     'StabilizedBeta', 'StabilizedDiscountRate',\n",
    "     '    ',\n",
    "     'EBIT calcs:', 'EBIT', 'EBITGrowth',\n",
    "     '     ',\n",
    "     'EBIAT calcs:', 'CorpTaxRate', 'EBIAT',\n",
    "     '      ',\n",
    "     'FCF & TV calcs:', 'FCF', 'LongTermGrowthRate', 'TV', 'TV_EBITMultiple',\n",
    "     '         ',\n",
    "     'VALUATION calcs:', 'Unlev_Val']"
   ]
  },
  {
   "cell_type": "markdown",
   "metadata": {},
   "source": [
    "# Run Valuation Model"
   ]
  },
  {
   "cell_type": "code",
   "execution_count": 7,
   "metadata": {
    "collapsed": false
   },
   "outputs": [
    {
     "name": "stdout",
     "output_type": "stream",
     "text": [
      "Calculating:\n",
      "    PublicMarketPremium\n",
      "    ProFormaPeriodDiscountRate\n",
      "    StabilizedDiscountRate\n",
      "    EBIT\n",
      "    EBITGrowth\n",
      "    EBIAT\n",
      "    FCF\n",
      "    TV\n",
      "    TV_EBITMultiple\n",
      "    Unlev_Val\n",
      "done!\n"
     ]
    },
    {
     "data": {
      "text/html": [
       "<div>\n",
       "<table border=\"1\" class=\"dataframe\">\n",
       "  <thead>\n",
       "    <tr style=\"text-align: right;\">\n",
       "      <th></th>\n",
       "      <th>Year 0</th>\n",
       "      <th>2010</th>\n",
       "      <th>2011</th>\n",
       "      <th>2012</th>\n",
       "      <th>2013</th>\n",
       "      <th>2014</th>\n",
       "    </tr>\n",
       "  </thead>\n",
       "  <tbody>\n",
       "    <tr>\n",
       "      <th>RiskFreeRate</th>\n",
       "      <td>0.07</td>\n",
       "      <td></td>\n",
       "      <td></td>\n",
       "      <td></td>\n",
       "      <td></td>\n",
       "      <td></td>\n",
       "    </tr>\n",
       "    <tr>\n",
       "      <th>PublicMarketPremium</th>\n",
       "      <td>0.08</td>\n",
       "      <td></td>\n",
       "      <td></td>\n",
       "      <td></td>\n",
       "      <td></td>\n",
       "      <td></td>\n",
       "    </tr>\n",
       "    <tr>\n",
       "      <th></th>\n",
       "      <td></td>\n",
       "      <td></td>\n",
       "      <td></td>\n",
       "      <td></td>\n",
       "      <td></td>\n",
       "      <td></td>\n",
       "    </tr>\n",
       "    <tr>\n",
       "      <th>ProFormaPeriodBeta</th>\n",
       "      <td>2.00</td>\n",
       "      <td></td>\n",
       "      <td></td>\n",
       "      <td></td>\n",
       "      <td></td>\n",
       "      <td></td>\n",
       "    </tr>\n",
       "    <tr>\n",
       "      <th>ProFormaPeriodDiscountRate</th>\n",
       "      <td>0.31</td>\n",
       "      <td></td>\n",
       "      <td></td>\n",
       "      <td></td>\n",
       "      <td></td>\n",
       "      <td></td>\n",
       "    </tr>\n",
       "    <tr>\n",
       "      <th></th>\n",
       "      <td></td>\n",
       "      <td></td>\n",
       "      <td></td>\n",
       "      <td></td>\n",
       "      <td></td>\n",
       "      <td></td>\n",
       "    </tr>\n",
       "    <tr>\n",
       "      <th>StabilizedBeta</th>\n",
       "      <td>1.00</td>\n",
       "      <td></td>\n",
       "      <td></td>\n",
       "      <td></td>\n",
       "      <td></td>\n",
       "      <td></td>\n",
       "    </tr>\n",
       "    <tr>\n",
       "      <th>StabilizedDiscountRate</th>\n",
       "      <td>0.15</td>\n",
       "      <td></td>\n",
       "      <td></td>\n",
       "      <td></td>\n",
       "      <td></td>\n",
       "      <td></td>\n",
       "    </tr>\n",
       "    <tr>\n",
       "      <th></th>\n",
       "      <td></td>\n",
       "      <td></td>\n",
       "      <td></td>\n",
       "      <td></td>\n",
       "      <td></td>\n",
       "      <td></td>\n",
       "    </tr>\n",
       "    <tr>\n",
       "      <th>EBIT calcs:</th>\n",
       "      <td></td>\n",
       "      <td></td>\n",
       "      <td></td>\n",
       "      <td></td>\n",
       "      <td></td>\n",
       "      <td></td>\n",
       "    </tr>\n",
       "    <tr>\n",
       "      <th>EBIT</th>\n",
       "      <td>0.00</td>\n",
       "      <td>56.39</td>\n",
       "      <td>86.22</td>\n",
       "      <td>130.20</td>\n",
       "      <td>168.14</td>\n",
       "      <td>217.64</td>\n",
       "    </tr>\n",
       "    <tr>\n",
       "      <th>EBITGrowth</th>\n",
       "      <td>NaN</td>\n",
       "      <td>inf</td>\n",
       "      <td>0.53</td>\n",
       "      <td>0.51</td>\n",
       "      <td>0.29</td>\n",
       "      <td>0.29</td>\n",
       "    </tr>\n",
       "    <tr>\n",
       "      <th></th>\n",
       "      <td></td>\n",
       "      <td></td>\n",
       "      <td></td>\n",
       "      <td></td>\n",
       "      <td></td>\n",
       "      <td></td>\n",
       "    </tr>\n",
       "    <tr>\n",
       "      <th>EBIAT calcs:</th>\n",
       "      <td></td>\n",
       "      <td></td>\n",
       "      <td></td>\n",
       "      <td></td>\n",
       "      <td></td>\n",
       "      <td></td>\n",
       "    </tr>\n",
       "    <tr>\n",
       "      <th>CorpTaxRate</th>\n",
       "      <td>0.35</td>\n",
       "      <td></td>\n",
       "      <td></td>\n",
       "      <td></td>\n",
       "      <td></td>\n",
       "      <td></td>\n",
       "    </tr>\n",
       "    <tr>\n",
       "      <th>EBIAT</th>\n",
       "      <td>0.00</td>\n",
       "      <td>36.65</td>\n",
       "      <td>56.04</td>\n",
       "      <td>84.63</td>\n",
       "      <td>109.29</td>\n",
       "      <td>141.47</td>\n",
       "    </tr>\n",
       "    <tr>\n",
       "      <th></th>\n",
       "      <td></td>\n",
       "      <td></td>\n",
       "      <td></td>\n",
       "      <td></td>\n",
       "      <td></td>\n",
       "      <td></td>\n",
       "    </tr>\n",
       "    <tr>\n",
       "      <th>FCF &amp; TV calcs:</th>\n",
       "      <td></td>\n",
       "      <td></td>\n",
       "      <td></td>\n",
       "      <td></td>\n",
       "      <td></td>\n",
       "      <td></td>\n",
       "    </tr>\n",
       "    <tr>\n",
       "      <th>FCF</th>\n",
       "      <td>0.00</td>\n",
       "      <td>36.65</td>\n",
       "      <td>56.04</td>\n",
       "      <td>84.63</td>\n",
       "      <td>109.29</td>\n",
       "      <td>141.47</td>\n",
       "    </tr>\n",
       "    <tr>\n",
       "      <th>LongTermGrowthRate</th>\n",
       "      <td></td>\n",
       "      <td></td>\n",
       "      <td></td>\n",
       "      <td></td>\n",
       "      <td></td>\n",
       "      <td>0.04</td>\n",
       "    </tr>\n",
       "    <tr>\n",
       "      <th>TV</th>\n",
       "      <td></td>\n",
       "      <td></td>\n",
       "      <td></td>\n",
       "      <td></td>\n",
       "      <td></td>\n",
       "      <td>1,298.53</td>\n",
       "    </tr>\n",
       "    <tr>\n",
       "      <th>TV_EBITMultiple</th>\n",
       "      <td></td>\n",
       "      <td></td>\n",
       "      <td></td>\n",
       "      <td></td>\n",
       "      <td></td>\n",
       "      <td>5.97</td>\n",
       "    </tr>\n",
       "    <tr>\n",
       "      <th></th>\n",
       "      <td></td>\n",
       "      <td></td>\n",
       "      <td></td>\n",
       "      <td></td>\n",
       "      <td></td>\n",
       "      <td></td>\n",
       "    </tr>\n",
       "    <tr>\n",
       "      <th>VALUATION calcs:</th>\n",
       "      <td></td>\n",
       "      <td></td>\n",
       "      <td></td>\n",
       "      <td></td>\n",
       "      <td></td>\n",
       "      <td></td>\n",
       "    </tr>\n",
       "    <tr>\n",
       "      <th>Unlev_Val</th>\n",
       "      <td>808.48</td>\n",
       "      <td></td>\n",
       "      <td></td>\n",
       "      <td></td>\n",
       "      <td></td>\n",
       "      <td></td>\n",
       "    </tr>\n",
       "  </tbody>\n",
       "</table>\n",
       "</div>"
      ],
      "text/plain": [
       "                           Year 0  2010  2011   2012   2013     2014\n",
       "RiskFreeRate                 0.07                                   \n",
       "PublicMarketPremium          0.08                                   \n",
       "                                                                    \n",
       "ProFormaPeriodBeta           2.00                                   \n",
       "ProFormaPeriodDiscountRate   0.31                                   \n",
       "                                                                    \n",
       "StabilizedBeta               1.00                                   \n",
       "StabilizedDiscountRate       0.15                                   \n",
       "                                                                    \n",
       "EBIT calcs:                                                         \n",
       "EBIT                         0.00 56.39 86.22 130.20 168.14   217.64\n",
       "EBITGrowth                    NaN   inf  0.53   0.51   0.29     0.29\n",
       "                                                                    \n",
       "EBIAT calcs:                                                        \n",
       "CorpTaxRate                  0.35                                   \n",
       "EBIAT                        0.00 36.65 56.04  84.63 109.29   141.47\n",
       "                                                                    \n",
       "FCF & TV calcs:                                                     \n",
       "FCF                          0.00 36.65 56.04  84.63 109.29   141.47\n",
       "LongTermGrowthRate                                              0.04\n",
       "TV                                                          1,298.53\n",
       "TV_EBITMultiple                                                 5.97\n",
       "                                                                    \n",
       "VALUATION calcs:                                                    \n",
       "Unlev_Val                  808.48                                   "
      ]
     },
     "execution_count": 7,
     "metadata": {},
     "output_type": "execute_result"
    }
   ],
   "source": [
    "results = \\\n",
    "    model(\n",
    "        outputs=outputs,\n",
    "        EBIT=[0] + data_df.EBIT.astype(numpy.float32).tolist(),\n",
    "        CorpTaxRate=CORP_TAX_RATE,\n",
    "        RiskFreeRate=RISK_FREE_RATE,\n",
    "        PublicMarketPremium=PUBLIC_MARKET_PREMIUM,\n",
    "        InvestmentManagerFeePremium=VC_FEE_PREMIUM,\n",
    "        ProFormaPeriodBeta=PRO_FORMA_PERIOD_BETA,\n",
    "        StabilizedBeta=LONG_TERM_BETA,\n",
    "        LongTermGrowthRate=LONG_TERM_GROWTH_RATE)\n",
    "    \n",
    "pandas.options.display.float_format = '{:,.2f}'.format\n",
    "results['data_frame'].T"
   ]
  }
 ],
 "metadata": {
  "kernelspec": {
   "display_name": "Python 2",
   "language": "python",
   "name": "python2"
  },
  "language_info": {
   "codemirror_mode": {
    "name": "ipython",
    "version": 2
   },
   "file_extension": ".py",
   "mimetype": "text/x-python",
   "name": "python",
   "nbconvert_exporter": "python",
   "pygments_lexer": "ipython2",
   "version": "2.7.11"
  },
  "latex_envs": {
   "bibliofile": "biblio.bib",
   "cite_by": "apalike",
   "current_citInitial": 1,
   "eqLabelWithNumbers": true,
   "eqNumInitial": 0
  },
  "toc": {
   "toc_cell": true,
   "toc_number_sections": true,
   "toc_section_display": "block",
   "toc_threshold": 4,
   "toc_window_display": true
  },
  "toc_position": {
   "left": "1330.21px",
   "right": "20px",
   "top": "121.997px",
   "width": "187px"
  }
 },
 "nbformat": 4,
 "nbformat_minor": 0
}
