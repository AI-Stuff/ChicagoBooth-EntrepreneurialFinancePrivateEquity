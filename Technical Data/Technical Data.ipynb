{
 "cells": [
  {
   "cell_type": "markdown",
   "metadata": {
    "toc": "true"
   },
   "source": [
    "# Table of Contents\n",
    " <p><div class=\"lev1\"><a href=\"#Import-Python-modules\"><span class=\"toc-item-num\">1 - </span>Import <code>Python</code> modules</a></div><div class=\"lev1\"><a href=\"#Set-CONSTANTS\"><span class=\"toc-item-num\">2 - </span>Set <em>CONSTANTS</em></a></div><div class=\"lev1\"><a href=\"#List-Exogenous-SymPy-Variables\"><span class=\"toc-item-num\">3 - </span>List Exogenous <code>SymPy</code> Variables</a></div><div class=\"lev1\"><a href=\"#Build-the-Structure-of-the-Valuation-Model\"><span class=\"toc-item-num\">4 - </span>Build the Structure of the Valuation Model</a></div><div class=\"lev1\"><a href=\"#Calculate-Actual-Values\"><span class=\"toc-item-num\">5 - </span>Calculate Actual Values</a></div>"
   ]
  },
  {
   "cell_type": "markdown",
   "metadata": {},
   "source": [
    "# Import `Python` modules"
   ]
  },
  {
   "cell_type": "code",
   "execution_count": 1,
   "metadata": {
    "collapsed": false
   },
   "outputs": [
    {
     "name": "stderr",
     "output_type": "stream",
     "text": [
      "Using gpu device 0: GeForce GT 750M\n"
     ]
    }
   ],
   "source": [
    "from __future__ import print_function\n",
    "import numpy\n",
    "import pandas\n",
    "from pprint import pprint\n",
    "import sympy\n",
    "\n",
    "from HelpyFuncs.SymPy import sympy_eval_by_theano\n",
    "from HelpyFuncs.SymPy.Finance import \\\n",
    "    net_present_value as npv, \\\n",
    "    present_value as pv, \\\n",
    "    terminal_value as tv"
   ]
  },
  {
   "cell_type": "markdown",
   "metadata": {},
   "source": [
    "# Set _CONSTANTS_"
   ]
  },
  {
   "cell_type": "code",
   "execution_count": 2,
   "metadata": {
    "collapsed": false
   },
   "outputs": [],
   "source": [
    "# U.S. Corporate Tax rate\n",
    "US_CORP_TAX_RATE = .48\n",
    "\n",
    "# Risk-Free Rate\n",
    "RISK_FREE_RATE = .11\n",
    "\n",
    "# Public Market Return\n",
    "PUB_MKT_RETURN = .19\n",
    "\n",
    "# CAPM Betas\n",
    "PUB_MKT_BETA_FOR_FIN_SECTOR = 1.   # assumed in line with overall equity market\n",
    "PEVC_BETA_FOR_PRO_FORMA_PERIOD = 2.\n",
    "\n",
    "# Long-Term Growth Rate\n",
    "LONG_TERM_GROWTH_RATE = .08\n",
    "\n",
    "# Number of Pro-Forma Years EXCLUDING Year 0\n",
    "NB_PRO_FORMA_YEARS = 3"
   ]
  },
  {
   "cell_type": "markdown",
   "metadata": {},
   "source": [
    "# List Exogenous `SymPy` Variables"
   ]
  },
  {
   "cell_type": "code",
   "execution_count": 3,
   "metadata": {
    "collapsed": false
   },
   "outputs": [],
   "source": [
    "# Cash Flow components\n",
    "Rev = sympy.MatrixSymbol('Rev', NB_PRO_FORMA_YEARS + 1, 1)\n",
    "OpEx___neg = sympy.MatrixSymbol('OpEx___neg', NB_PRO_FORMA_YEARS + 1, 1)\n",
    "extra_exec_comp___neg = sympy.MatrixSymbol('extra_exec_comp___neg', NB_PRO_FORMA_YEARS + 1, 1)\n",
    "\n",
    "# Corporate Tax Rate\n",
    "corp_tax_rate = sympy.Symbol('corp_tax_rate')\n",
    "\n",
    "# Long-Term Growth Rate\n",
    "long_term_growth_rate = sympy.Symbol('long_term_growth_rate')\n",
    "\n",
    "# CAPM Paramaters\n",
    "risk_free_rate = sympy.Symbol('risk_free_rate')\n",
    "pub_mkt_return = sympy.Symbol('pub_mkt_return')\n",
    "stabilized_beta = sympy.Symbol('stabilized_beta')\n",
    "pevc_beta = sympy.Symbol('pevc_beta')\n",
    "\n",
    "# assemble all exogenous variables into a dict\n",
    "exo_vars = \\\n",
    "    [Rev, OpEx___neg, extra_exec_comp___neg,\n",
    "     corp_tax_rate,\n",
    "     long_term_growth_rate,\n",
    "     risk_free_rate, pub_mkt_return,\n",
    "     stabilized_beta, pevc_beta]"
   ]
  },
  {
   "cell_type": "markdown",
   "metadata": {},
   "source": [
    "# Build the Structure of the Valuation Model"
   ]
  },
  {
   "cell_type": "markdown",
   "metadata": {},
   "source": [
    "EBIT from Revenue, Operating Expenses and extra executive compensation:"
   ]
  },
  {
   "cell_type": "code",
   "execution_count": 4,
   "metadata": {
    "collapsed": false
   },
   "outputs": [
    {
     "name": "stdout",
     "output_type": "stream",
     "text": [
      "EBIT = OpEx___neg + Rev + extra_exec_comp___neg\n"
     ]
    }
   ],
   "source": [
    "EBIT = Rev + OpEx___neg + extra_exec_comp___neg\n",
    "\n",
    "print('EBIT =', EBIT)"
   ]
  },
  {
   "cell_type": "markdown",
   "metadata": {},
   "source": [
    "EBIAT after corporate tax:"
   ]
  },
  {
   "cell_type": "code",
   "execution_count": 5,
   "metadata": {
    "collapsed": false
   },
   "outputs": [
    {
     "name": "stdout",
     "output_type": "stream",
     "text": [
      "EBIAT = (-corp_tax_rate + 1)*(OpEx___neg + Rev + extra_exec_comp___neg)\n"
     ]
    }
   ],
   "source": [
    "EBIAT = (1 - corp_tax_rate) * EBIT\n",
    "\n",
    "print('EBIAT =', EBIAT)"
   ]
  },
  {
   "cell_type": "markdown",
   "metadata": {
    "collapsed": false
   },
   "source": [
    "As the case provides no details on projected investments / divestments and changes in working capital, we assume that the FCF before Terminal Value equals the estimated EBIAT:"
   ]
  },
  {
   "cell_type": "code",
   "execution_count": 6,
   "metadata": {
    "collapsed": false
   },
   "outputs": [
    {
     "name": "stdout",
     "output_type": "stream",
     "text": [
      "FCF_before_TV = (-corp_tax_rate + 1)*(OpEx___neg + Rev + extra_exec_comp___neg)\n"
     ]
    }
   ],
   "source": [
    "FCF_before_TV = EBIAT\n",
    "\n",
    "print('FCF_before_TV =', FCF_before_TV)"
   ]
  },
  {
   "cell_type": "markdown",
   "metadata": {},
   "source": [
    "Discount Rates:"
   ]
  },
  {
   "cell_type": "code",
   "execution_count": 7,
   "metadata": {
    "collapsed": false
   },
   "outputs": [
    {
     "name": "stdout",
     "output_type": "stream",
     "text": [
      "Pro-Forma Period Discount Rate = pevc_beta*(pub_mkt_return - risk_free_rate) + risk_free_rate\n"
     ]
    }
   ],
   "source": [
    "pro_forma_period_discount_rate = \\\n",
    "    risk_free_rate + pevc_beta * (pub_mkt_return - risk_free_rate)\n",
    "\n",
    "print('Pro-Forma Period Discount Rate =', pro_forma_period_discount_rate)"
   ]
  },
  {
   "cell_type": "code",
   "execution_count": 8,
   "metadata": {
    "collapsed": false
   },
   "outputs": [
    {
     "name": "stdout",
     "output_type": "stream",
     "text": [
      "Long-Term Discount Rate = risk_free_rate + stabilized_beta*(pub_mkt_return - risk_free_rate)\n"
     ]
    }
   ],
   "source": [
    "long_term_discount_rate = \\\n",
    "    risk_free_rate + stabilized_beta * (pub_mkt_return - risk_free_rate)\n",
    "    \n",
    "print('Long-Term Discount Rate =', long_term_discount_rate)"
   ]
  },
  {
   "cell_type": "markdown",
   "metadata": {},
   "source": [
    "Terminal Value:"
   ]
  },
  {
   "cell_type": "code",
   "execution_count": 9,
   "metadata": {
    "collapsed": false
   },
   "outputs": [
    {
     "name": "stdout",
     "output_type": "stream",
     "text": [
      "TerminalValue = (long_term_growth_rate + 1)*Determinant((-corp_tax_rate + 1)*Matrix([[0, 0, 0, 1]])*(OpEx___neg + Rev + extra_exec_comp___neg))/(-long_term_growth_rate + risk_free_rate + stabilized_beta*(pub_mkt_return - risk_free_rate))\n"
     ]
    }
   ],
   "source": [
    "TerminalValue = tv(FCF_before_TV, long_term_discount_rate, long_term_growth_rate)\n",
    "    \n",
    "print('TerminalValue =', TerminalValue)"
   ]
  },
  {
   "cell_type": "markdown",
   "metadata": {
    "collapsed": false
   },
   "source": [
    "Valuation from applying relevant discount rates to _pro forma_ period CFs and to Terminal Value:"
   ]
  },
  {
   "cell_type": "code",
   "execution_count": 10,
   "metadata": {
    "collapsed": false
   },
   "outputs": [
    {
     "name": "stdout",
     "output_type": "stream",
     "text": [
      "Valuation = (long_term_growth_rate + 1)*Determinant((-corp_tax_rate + 1)*Matrix([[0, 0, 0, 1]])*(OpEx___neg + Rev + extra_exec_comp___neg))/((-long_term_growth_rate + risk_free_rate + stabilized_beta*(pub_mkt_return - risk_free_rate))*(risk_free_rate + stabilized_beta*(pub_mkt_return - risk_free_rate) + 1)**3) + Determinant((-corp_tax_rate + 1)*Matrix([[1, 1/(pevc_beta*(pub_mkt_return - risk_free_rate) + risk_free_rate + 1), (pevc_beta*(pub_mkt_return - risk_free_rate) + risk_free_rate + 1)**(-2), (pevc_beta*(pub_mkt_return - risk_free_rate) + risk_free_rate + 1)**(-3)]])*(OpEx___neg + Rev + extra_exec_comp___neg))\n"
     ]
    }
   ],
   "source": [
    "val_of_FCF_before_TV = npv(FCF_before_TV, pro_forma_period_discount_rate)\n",
    "\n",
    "val_of_terminal_val = pv(TerminalValue, long_term_discount_rate, NB_PRO_FORMA_YEARS)\n",
    "\n",
    "val = val_of_FCF_before_TV + val_of_terminal_val\n",
    "\n",
    "print('Valuation =', val)"
   ]
  },
  {
   "cell_type": "markdown",
   "metadata": {},
   "source": [
    "# Calculate Actual Values"
   ]
  },
  {
   "cell_type": "code",
   "execution_count": 11,
   "metadata": {
    "collapsed": false
   },
   "outputs": [
    {
     "name": "stdout",
     "output_type": "stream",
     "text": [
      "{'OpEx___neg': array([[      0.],\n",
      "       [-242774.],\n",
      "       [-308991.],\n",
      "       [-410010.]], dtype=float32),\n",
      " 'Rev': array([[       0.],\n",
      "       [  288000.],\n",
      "       [  799350.],\n",
      "       [ 1181700.]], dtype=float32),\n",
      " 'corp_tax_rate': 0.48,\n",
      " 'extra_exec_comp___neg': array([[      0.],\n",
      "       [  -2500.],\n",
      "       [ -75000.],\n",
      "       [-140000.]], dtype=float32),\n",
      " 'long_term_growth_rate': 0.08,\n",
      " 'pevc_beta': 2.0,\n",
      " 'pub_mkt_return': 0.19,\n",
      " 'risk_free_rate': 0.11,\n",
      " 'stabilized_beta': 1.0}\n"
     ]
    }
   ],
   "source": [
    "exo_vars_values_dict = \\\n",
    "    dict(\n",
    "        Rev=numpy.atleast_2d(numpy.array([0, 288000, 799350, 1181700], dtype=numpy.float32)).T,\n",
    "        OpEx___neg=numpy.atleast_2d(numpy.array([0, -242774, -308991, -410010], dtype=numpy.float32)).T,\n",
    "        extra_exec_comp___neg=numpy.atleast_2d(numpy.array([0, -2500, -75000, -140000], dtype=numpy.float32)).T,\n",
    "        corp_tax_rate=US_CORP_TAX_RATE,\n",
    "        risk_free_rate=RISK_FREE_RATE,\n",
    "        pub_mkt_return=PUB_MKT_RETURN,\n",
    "        pevc_beta=PEVC_BETA_FOR_PRO_FORMA_PERIOD,\n",
    "        stabilized_beta=PUB_MKT_BETA_FOR_FIN_SECTOR,\n",
    "        long_term_growth_rate=LONG_TERM_GROWTH_RATE)\n",
    "    \n",
    "pprint(exo_vars_values_dict)"
   ]
  },
  {
   "cell_type": "code",
   "execution_count": 12,
   "metadata": {
    "collapsed": false
   },
   "outputs": [],
   "source": [
    "# function to calculate values from SymPy expression\n",
    "calc = lambda sympy_expr: sympy_eval_by_theano(sympy_expr, symbols=exo_vars, **exo_vars_values_dict)"
   ]
  },
  {
   "cell_type": "code",
   "execution_count": 13,
   "metadata": {
    "collapsed": false
   },
   "outputs": [],
   "source": [
    "# populate Valuation Calculations data frame\n",
    "val_calcs_df = pandas.DataFrame(index=['Year 0', 1981, 1982, 1983])\n",
    "\n",
    "val_calcs_df['Revenue'] = calc(Rev)\n",
    "val_calcs_df['Operating Expenses'] = calc(OpEx___neg)\n",
    "val_calcs_df['Adj. for Extra Exec. Comp.'] = calc(extra_exec_comp___neg)\n",
    "val_calcs_df['EBIT'] = calc(EBIT)\n",
    "val_calcs_df['EBIAT'] = calc(EBIAT)\n",
    "val_calcs_df['FCF before Terminal Value'] = calc(FCF_before_TV)\n",
    "val_calcs_df['Terminal Value'] = 0\n",
    "val_calcs_df.loc[1983, 'Terminal Value'] = calc(TerminalValue)"
   ]
  },
  {
   "cell_type": "code",
   "execution_count": 14,
   "metadata": {
    "collapsed": false
   },
   "outputs": [
    {
     "name": "stdout",
     "output_type": "stream",
     "text": [
      "Risk-Free Rate = 0.11\n",
      "Public-Market Return = 0.19\n",
      "\n",
      "Stabilized Beta = 1.00\n",
      "Long-Term Discount Rate = 0.19\n",
      "\n",
      "PEVC Beta = 2.00\n",
      "Discount Rate for Pro-Forma Period = 0.27\n",
      "\n",
      "Valuation of FCF before TV = $0.31 MM\n",
      "Valuation of TV = $1.91 MM\n",
      "VALUATION = $2.23 MM\n",
      "\n",
      "Detailed Cash Flow Calcs:\n"
     ]
    },
    {
     "data": {
      "text/html": [
       "<div>\n",
       "<table border=\"1\" class=\"dataframe\">\n",
       "  <thead>\n",
       "    <tr style=\"text-align: right;\">\n",
       "      <th></th>\n",
       "      <th>Year 0</th>\n",
       "      <th>1981</th>\n",
       "      <th>1982</th>\n",
       "      <th>1983</th>\n",
       "    </tr>\n",
       "  </thead>\n",
       "  <tbody>\n",
       "    <tr>\n",
       "      <th>Revenue</th>\n",
       "      <td>0</td>\n",
       "      <td>288000.000000</td>\n",
       "      <td>799350.000000</td>\n",
       "      <td>1181700.00000</td>\n",
       "    </tr>\n",
       "    <tr>\n",
       "      <th>Operating Expenses</th>\n",
       "      <td>0</td>\n",
       "      <td>-242774.000000</td>\n",
       "      <td>-308991.000000</td>\n",
       "      <td>-410010.00000</td>\n",
       "    </tr>\n",
       "    <tr>\n",
       "      <th>Adj. for Extra Exec. Comp.</th>\n",
       "      <td>0</td>\n",
       "      <td>-2500.000000</td>\n",
       "      <td>-75000.000000</td>\n",
       "      <td>-140000.00000</td>\n",
       "    </tr>\n",
       "    <tr>\n",
       "      <th>EBIT</th>\n",
       "      <td>0</td>\n",
       "      <td>42726.000000</td>\n",
       "      <td>415359.000000</td>\n",
       "      <td>631690.00000</td>\n",
       "    </tr>\n",
       "    <tr>\n",
       "      <th>EBIAT</th>\n",
       "      <td>0</td>\n",
       "      <td>22217.519531</td>\n",
       "      <td>215986.671875</td>\n",
       "      <td>328478.78125</td>\n",
       "    </tr>\n",
       "    <tr>\n",
       "      <th>FCF before Terminal Value</th>\n",
       "      <td>0</td>\n",
       "      <td>22217.519531</td>\n",
       "      <td>215986.671875</td>\n",
       "      <td>328478.78125</td>\n",
       "    </tr>\n",
       "    <tr>\n",
       "      <th>Terminal Value</th>\n",
       "      <td>0</td>\n",
       "      <td>0.000000</td>\n",
       "      <td>0.000000</td>\n",
       "      <td>3225064.00000</td>\n",
       "    </tr>\n",
       "  </tbody>\n",
       "</table>\n",
       "</div>"
      ],
      "text/plain": [
       "                            Year 0           1981           1982  \\\n",
       "Revenue                          0  288000.000000  799350.000000   \n",
       "Operating Expenses               0 -242774.000000 -308991.000000   \n",
       "Adj. for Extra Exec. Comp.       0   -2500.000000  -75000.000000   \n",
       "EBIT                             0   42726.000000  415359.000000   \n",
       "EBIAT                            0   22217.519531  215986.671875   \n",
       "FCF before Terminal Value        0   22217.519531  215986.671875   \n",
       "Terminal Value                   0       0.000000       0.000000   \n",
       "\n",
       "                                     1983  \n",
       "Revenue                     1181700.00000  \n",
       "Operating Expenses          -410010.00000  \n",
       "Adj. for Extra Exec. Comp.  -140000.00000  \n",
       "EBIT                         631690.00000  \n",
       "EBIAT                        328478.78125  \n",
       "FCF before Terminal Value    328478.78125  \n",
       "Terminal Value              3225064.00000  "
      ]
     },
     "execution_count": 14,
     "metadata": {},
     "output_type": "execute_result"
    }
   ],
   "source": [
    "# present whole calculations\n",
    "\n",
    "print('Risk-Free Rate = %.2f' % calc(risk_free_rate))\n",
    "print('Public-Market Return = %.2f\\n' % calc(pub_mkt_return))\n",
    "\n",
    "print('Stabilized Beta = %.2f' % calc(stabilized_beta))\n",
    "print('Long-Term Discount Rate = %.2f\\n' % calc(long_term_discount_rate))\n",
    "\n",
    "print('PEVC Beta = %.2f' % calc(pevc_beta))\n",
    "print('Discount Rate for Pro-Forma Period = %.2f\\n' % calc(pro_forma_period_discount_rate))\n",
    "\n",
    "print('Valuation of FCF before TV = $%.2f MM' % (calc(val_of_FCF_before_TV) / 1e6))\n",
    "print('Valuation of TV = $%.2f MM' % (calc(val_of_terminal_val) / 1e6))\n",
    "print('VALUATION = $%.2f MM\\n' % (calc(val) / 1e6))\n",
    "\n",
    "print('Detailed Cash Flow Calcs:')\n",
    "val_calcs_df.T"
   ]
  }
 ],
 "metadata": {
  "kernelspec": {
   "display_name": "Python 2",
   "language": "python",
   "name": "python2"
  },
  "language_info": {
   "codemirror_mode": {
    "name": "ipython",
    "version": 2
   },
   "file_extension": ".py",
   "mimetype": "text/x-python",
   "name": "python",
   "nbconvert_exporter": "python",
   "pygments_lexer": "ipython2",
   "version": "2.7.11"
  },
  "latex_envs": {
   "bibliofile": "biblio.bib",
   "cite_by": "apalike",
   "current_citInitial": 1,
   "eqLabelWithNumbers": true,
   "eqNumInitial": 0
  },
  "toc": {
   "toc_cell": true,
   "toc_number_sections": true,
   "toc_section_display": "block",
   "toc_threshold": 4,
   "toc_window_display": true
  },
  "toc_position": {
   "left": "1330.21px",
   "right": "20px",
   "top": "121.997px",
   "width": "187px"
  }
 },
 "nbformat": 4,
 "nbformat_minor": 0
}
